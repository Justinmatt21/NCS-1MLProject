{
 "cells": [
  {
   "cell_type": "markdown",
   "metadata": {},
   "source": [
    "# Convert Coded Variables\n",
    "Using `variables-types.json` and `variable-maps.json`, convert the coded survey data."
   ]
  },
  {
   "cell_type": "code",
   "execution_count": 14,
   "metadata": {},
   "outputs": [],
   "source": [
    "import json\n",
    "import pandas as pd\n",
    "import numpy as np"
   ]
  },
  {
   "cell_type": "code",
   "execution_count": 6,
   "metadata": {},
   "outputs": [],
   "source": [
    "with open('variable-types.json', 'r') as fp:\n",
    "    var_types = json.load(fp)"
   ]
  },
  {
   "cell_type": "code",
   "execution_count": 7,
   "metadata": {},
   "outputs": [],
   "source": [
    "with open('variable-maps.json', 'r') as fp:\n",
    "    var_maps = json.load(fp)"
   ]
  },
  {
   "cell_type": "code",
   "execution_count": 8,
   "metadata": {},
   "outputs": [],
   "source": [
    "df = pd.read_csv(\"06693-0001-Data.tsv\", delim_whitespace=True)"
   ]
  },
  {
   "cell_type": "code",
   "execution_count": 9,
   "metadata": {},
   "outputs": [
    {
     "data": {
      "text/plain": [
       "(8098, 2954)"
      ]
     },
     "execution_count": 9,
     "metadata": {},
     "output_type": "execute_result"
    }
   ],
   "source": [
    "df.shape"
   ]
  },
  {
   "cell_type": "code",
   "execution_count": 10,
   "metadata": {},
   "outputs": [
    {
     "data": {
      "text/plain": [
       "dict_keys(['yes_or_no', 'checked', 'history', 'inap_dk_na', 'maybe_numerical', 'unsure'])"
      ]
     },
     "execution_count": 10,
     "metadata": {},
     "output_type": "execute_result"
    }
   ],
   "source": [
    "var_types.keys()"
   ]
  },
  {
   "cell_type": "markdown",
   "metadata": {},
   "source": [
    "# Converting a history variable\n",
    "I leave `INAP` and `DK` as categories; these values may have value in the context of the question.  For example, if the question concerned the respondent's spouse, an `INAP` would indicate an individual without a spouse."
   ]
  },
  {
   "cell_type": "code",
   "execution_count": 11,
   "metadata": {},
   "outputs": [
    {
     "data": {
      "text/plain": [
       "'V339'"
      ]
     },
     "execution_count": 11,
     "metadata": {},
     "output_type": "execute_result"
    }
   ],
   "source": [
    "var_types['history'][0]"
   ]
  },
  {
   "cell_type": "code",
   "execution_count": 12,
   "metadata": {},
   "outputs": [
    {
     "data": {
      "text/plain": [
       "{'1': 'PAST MONTH',\n",
       " '2': 'PAST SIX MONTHS',\n",
       " '3': 'PAST YEAR',\n",
       " '4': 'MORE THAN A YEAR AGO',\n",
       " '0': 'INAP',\n",
       " '8': 'DK',\n",
       " '9': 'NA'}"
      ]
     },
     "execution_count": 12,
     "metadata": {},
     "output_type": "execute_result"
    }
   ],
   "source": [
    "var_maps['V339']"
   ]
  },
  {
   "cell_type": "code",
   "execution_count": 17,
   "metadata": {},
   "outputs": [
    {
     "data": {
      "text/plain": [
       "0    7520\n",
       "4     496\n",
       "2      30\n",
       "3      28\n",
       "1      20\n",
       "9       4\n",
       "Name: V339, dtype: int64"
      ]
     },
     "execution_count": 17,
     "metadata": {},
     "output_type": "execute_result"
    }
   ],
   "source": [
    "df['V339'].value_counts()"
   ]
  },
  {
   "cell_type": "code",
   "execution_count": 18,
   "metadata": {},
   "outputs": [],
   "source": [
    "def convert_history_var(var, var_map):\n",
    "    \"\"\"var is a Pandas Series.\"\"\"\n",
    "    try:\n",
    "        # get rid of str keys\n",
    "        new_map = {int(key):value for key, value in var_map.items()}\n",
    "        print(new_map)\n",
    "        # for now just replace 'NA' with np.nan\n",
    "        for key,value in new_map.items():\n",
    "            if value == 'NA':\n",
    "                new_map[key] = np.nan\n",
    "        print(new_map)\n",
    "        \n",
    "        return var.map(new_map)\n",
    "    except Exception as e:\n",
    "        print(e)"
   ]
  },
  {
   "cell_type": "code",
   "execution_count": 20,
   "metadata": {},
   "outputs": [
    {
     "name": "stdout",
     "output_type": "stream",
     "text": [
      "{1: 'PAST MONTH', 2: 'PAST SIX MONTHS', 3: 'PAST YEAR', 4: 'MORE THAN A YEAR AGO', 0: 'INAP', 8: 'DK', 9: 'NA'}\n",
      "{1: 'PAST MONTH', 2: 'PAST SIX MONTHS', 3: 'PAST YEAR', 4: 'MORE THAN A YEAR AGO', 0: 'INAP', 8: 'DK', 9: nan}\n"
     ]
    },
    {
     "data": {
      "text/plain": [
       "INAP                    7520\n",
       "MORE THAN A YEAR AGO     496\n",
       "PAST SIX MONTHS           30\n",
       "PAST YEAR                 28\n",
       "PAST MONTH                20\n",
       "Name: V339, dtype: int64"
      ]
     },
     "execution_count": 20,
     "metadata": {},
     "output_type": "execute_result"
    }
   ],
   "source": [
    "new_V339 = convert_history_var(df['V339'], var_maps['V339'])\n",
    "new_V339.value_counts()"
   ]
  },
  {
   "cell_type": "code",
   "execution_count": 21,
   "metadata": {},
   "outputs": [
    {
     "data": {
      "text/plain": [
       "8098"
      ]
     },
     "execution_count": 21,
     "metadata": {},
     "output_type": "execute_result"
    }
   ],
   "source": [
    "len(new_V339)"
   ]
  },
  {
   "cell_type": "code",
   "execution_count": 22,
   "metadata": {},
   "outputs": [
    {
     "data": {
      "text/plain": [
       "8098"
      ]
     },
     "execution_count": 22,
     "metadata": {},
     "output_type": "execute_result"
    }
   ],
   "source": [
    "len(df['V339'])"
   ]
  },
  {
   "cell_type": "code",
   "execution_count": 24,
   "metadata": {},
   "outputs": [
    {
     "data": {
      "text/plain": [
       "4"
      ]
     },
     "execution_count": 24,
     "metadata": {},
     "output_type": "execute_result"
    }
   ],
   "source": [
    "sum(new_V339.isna())"
   ]
  },
  {
   "cell_type": "markdown",
   "metadata": {},
   "source": [
    "# Converting a Yes/No variable\n",
    "The conversion is the same as a history variable - we can carry this logic over to any of the categorical variables.  Just convert `NA` to `np.nan`..."
   ]
  },
  {
   "cell_type": "code",
   "execution_count": 25,
   "metadata": {},
   "outputs": [
    {
     "data": {
      "text/plain": [
       "'V109'"
      ]
     },
     "execution_count": 25,
     "metadata": {},
     "output_type": "execute_result"
    }
   ],
   "source": [
    "var_types['yes_or_no'][0]"
   ]
  },
  {
   "cell_type": "code",
   "execution_count": 26,
   "metadata": {},
   "outputs": [
    {
     "data": {
      "text/plain": [
       "{'1': 'YES', '5': 'NO', '0': 'INAP', '8': 'DK', '9': 'NA'}"
      ]
     },
     "execution_count": 26,
     "metadata": {},
     "output_type": "execute_result"
    }
   ],
   "source": [
    "var_maps['V109']"
   ]
  },
  {
   "cell_type": "code",
   "execution_count": 27,
   "metadata": {},
   "outputs": [
    {
     "data": {
      "text/plain": [
       "0    3980\n",
       "5    3675\n",
       "1     443\n",
       "Name: V109, dtype: int64"
      ]
     },
     "execution_count": 27,
     "metadata": {},
     "output_type": "execute_result"
    }
   ],
   "source": [
    "df['V109'].value_counts()"
   ]
  },
  {
   "cell_type": "code",
   "execution_count": 28,
   "metadata": {},
   "outputs": [],
   "source": [
    "def convert_categorical_var(var, var_map):\n",
    "    \"\"\"var is a Pandas Series.\"\"\"\n",
    "    try:\n",
    "        # get rid of str keys\n",
    "        new_map = {int(key):value for key, value in var_map.items()}\n",
    "        print(new_map)\n",
    "        # for now just replace 'NA' with np.nan\n",
    "        for key,value in new_map.items():\n",
    "            if value == 'NA':\n",
    "                new_map[key] = np.nan\n",
    "        print(new_map)\n",
    "        \n",
    "        return var.map(new_map)\n",
    "    except Exception as e:\n",
    "        print(e)"
   ]
  },
  {
   "cell_type": "code",
   "execution_count": 31,
   "metadata": {},
   "outputs": [
    {
     "name": "stdout",
     "output_type": "stream",
     "text": [
      "{1: 'YES', 5: 'NO', 0: 'INAP', 8: 'DK', 9: 'NA'}\n",
      "{1: 'YES', 5: 'NO', 0: 'INAP', 8: 'DK', 9: nan}\n"
     ]
    },
    {
     "data": {
      "text/plain": [
       "INAP    3980\n",
       "NO      3675\n",
       "YES      443\n",
       "Name: V109, dtype: int64"
      ]
     },
     "execution_count": 31,
     "metadata": {},
     "output_type": "execute_result"
    }
   ],
   "source": [
    "new_V109 = convert_categorical_var(df['V109'], var_maps['V109'])\n",
    "new_V109.value_counts()"
   ]
  },
  {
   "cell_type": "markdown",
   "metadata": {},
   "source": [
    "# Convert a checked variable"
   ]
  },
  {
   "cell_type": "code",
   "execution_count": 32,
   "metadata": {},
   "outputs": [
    {
     "data": {
      "text/plain": [
       "'V601'"
      ]
     },
     "execution_count": 32,
     "metadata": {},
     "output_type": "execute_result"
    }
   ],
   "source": [
    "var_types['checked'][0]"
   ]
  },
  {
   "cell_type": "code",
   "execution_count": 33,
   "metadata": {},
   "outputs": [
    {
     "data": {
      "text/plain": [
       "2    7576\n",
       "1     522\n",
       "Name: V601, dtype: int64"
      ]
     },
     "execution_count": 33,
     "metadata": {},
     "output_type": "execute_result"
    }
   ],
   "source": [
    "df['V601'].value_counts()"
   ]
  },
  {
   "cell_type": "code",
   "execution_count": null,
   "metadata": {},
   "outputs": [],
   "source": []
  }
 ],
 "metadata": {
  "kernelspec": {
   "display_name": "Python 3",
   "language": "python",
   "name": "python3"
  },
  "language_info": {
   "codemirror_mode": {
    "name": "ipython",
    "version": 3
   },
   "file_extension": ".py",
   "mimetype": "text/x-python",
   "name": "python",
   "nbconvert_exporter": "python",
   "pygments_lexer": "ipython3",
   "version": "3.6.7"
  }
 },
 "nbformat": 4,
 "nbformat_minor": 2
}
