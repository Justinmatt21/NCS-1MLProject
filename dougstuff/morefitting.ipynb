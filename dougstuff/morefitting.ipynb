{
 "cells": [
  {
   "cell_type": "code",
   "execution_count": 1,
   "metadata": {},
   "outputs": [],
   "source": [
    "# import the dependencies\n",
    "from sklearn.base import BaseEstimator, TransformerMixin\n",
    "from sklearn.pipeline import Pipeline, FeatureUnion\n",
    "from sklearn.model_selection import train_test_split\n",
    "from sklearn.preprocessing import OneHotEncoder, CategoricalEncoder\n",
    "from sklearn.preprocessing import StandardScaler\n",
    "\n",
    "import pandas as pd\n",
    "import numpy as np"
   ]
  },
  {
   "cell_type": "markdown",
   "metadata": {},
   "source": [
    "# Read in the Data and Prepare for Fitting Models"
   ]
  },
  {
   "cell_type": "code",
   "execution_count": 2,
   "metadata": {},
   "outputs": [],
   "source": [
    "df = pd.read_csv(\"reduced-data2.csv\")"
   ]
  },
  {
   "cell_type": "code",
   "execution_count": 3,
   "metadata": {},
   "outputs": [
    {
     "data": {
      "text/plain": [
       "(5872, 56)"
      ]
     },
     "execution_count": 3,
     "metadata": {},
     "output_type": "execute_result"
    }
   ],
   "source": [
    "df.shape"
   ]
  },
  {
   "cell_type": "code",
   "execution_count": 4,
   "metadata": {},
   "outputs": [
    {
     "data": {
      "text/html": [
       "<div>\n",
       "<style scoped>\n",
       "    .dataframe tbody tr th:only-of-type {\n",
       "        vertical-align: middle;\n",
       "    }\n",
       "\n",
       "    .dataframe tbody tr th {\n",
       "        vertical-align: top;\n",
       "    }\n",
       "\n",
       "    .dataframe thead th {\n",
       "        text-align: right;\n",
       "    }\n",
       "</style>\n",
       "<table border=\"1\" class=\"dataframe\">\n",
       "  <thead>\n",
       "    <tr style=\"text-align: right;\">\n",
       "      <th></th>\n",
       "      <th>CASEID</th>\n",
       "      <th>V6309</th>\n",
       "      <th>V5114</th>\n",
       "      <th>V5118</th>\n",
       "      <th>V5113</th>\n",
       "      <th>V5115</th>\n",
       "      <th>V5112</th>\n",
       "      <th>V4428</th>\n",
       "      <th>V4433</th>\n",
       "      <th>V6305</th>\n",
       "      <th>...</th>\n",
       "      <th>PDLT</th>\n",
       "      <th>PTLT</th>\n",
       "      <th>AGOLT1</th>\n",
       "      <th>AGOLT2</th>\n",
       "      <th>PTSDLT</th>\n",
       "      <th>NAPLT</th>\n",
       "      <th>AABLT</th>\n",
       "      <th>CDLT</th>\n",
       "      <th>ASPLT1</th>\n",
       "      <th>ASPLT2</th>\n",
       "    </tr>\n",
       "  </thead>\n",
       "  <tbody>\n",
       "    <tr>\n",
       "      <th>0</th>\n",
       "      <td>20001</td>\n",
       "      <td>NO</td>\n",
       "      <td>VERY</td>\n",
       "      <td>A LITTLE</td>\n",
       "      <td>SOMEWHAT</td>\n",
       "      <td>SOMEWHAT</td>\n",
       "      <td>SOMEWHAT</td>\n",
       "      <td>A LITTLE TRUE</td>\n",
       "      <td>VERY TRUE</td>\n",
       "      <td>YES</td>\n",
       "      <td>...</td>\n",
       "      <td>Present</td>\n",
       "      <td>Present</td>\n",
       "      <td>Present</td>\n",
       "      <td>Absent</td>\n",
       "      <td>Present</td>\n",
       "      <td>Absent</td>\n",
       "      <td>Absent</td>\n",
       "      <td>Absent</td>\n",
       "      <td>Absent</td>\n",
       "      <td>Absent</td>\n",
       "    </tr>\n",
       "    <tr>\n",
       "      <th>1</th>\n",
       "      <td>20002</td>\n",
       "      <td>NO</td>\n",
       "      <td>A LITTLE</td>\n",
       "      <td>A LITTLE</td>\n",
       "      <td>SOMEWHAT</td>\n",
       "      <td>A LITTLE</td>\n",
       "      <td>SOMEWHAT</td>\n",
       "      <td>A LITTLE TRUE</td>\n",
       "      <td>NOT TRUE AT ALL</td>\n",
       "      <td>NO</td>\n",
       "      <td>...</td>\n",
       "      <td>Absent</td>\n",
       "      <td>Absent</td>\n",
       "      <td>Absent</td>\n",
       "      <td>Absent</td>\n",
       "      <td>Absent</td>\n",
       "      <td>Absent</td>\n",
       "      <td>Absent</td>\n",
       "      <td>Absent</td>\n",
       "      <td>Absent</td>\n",
       "      <td>Absent</td>\n",
       "    </tr>\n",
       "    <tr>\n",
       "      <th>2</th>\n",
       "      <td>20003</td>\n",
       "      <td>NO</td>\n",
       "      <td>NOT AT ALL</td>\n",
       "      <td>NOT AT ALL</td>\n",
       "      <td>NOT AT ALL</td>\n",
       "      <td>NOT AT ALL</td>\n",
       "      <td>NOT AT ALL</td>\n",
       "      <td>NOT TRUE AT ALL</td>\n",
       "      <td>NOT TRUE AT ALL</td>\n",
       "      <td>NO</td>\n",
       "      <td>...</td>\n",
       "      <td>Absent</td>\n",
       "      <td>Absent</td>\n",
       "      <td>Absent</td>\n",
       "      <td>Absent</td>\n",
       "      <td>Absent</td>\n",
       "      <td>Absent</td>\n",
       "      <td>Absent</td>\n",
       "      <td>Present</td>\n",
       "      <td>Absent</td>\n",
       "      <td>Absent</td>\n",
       "    </tr>\n",
       "    <tr>\n",
       "      <th>3</th>\n",
       "      <td>20004</td>\n",
       "      <td>NO</td>\n",
       "      <td>SOMEWHAT</td>\n",
       "      <td>SOMEWHAT</td>\n",
       "      <td>A LITTLE</td>\n",
       "      <td>A LITTLE</td>\n",
       "      <td>A LITTLE</td>\n",
       "      <td>A LITTLE TRUE</td>\n",
       "      <td>NOT TRUE AT ALL</td>\n",
       "      <td>NO</td>\n",
       "      <td>...</td>\n",
       "      <td>Absent</td>\n",
       "      <td>Absent</td>\n",
       "      <td>Absent</td>\n",
       "      <td>Absent</td>\n",
       "      <td>Absent</td>\n",
       "      <td>Absent</td>\n",
       "      <td>Absent</td>\n",
       "      <td>Absent</td>\n",
       "      <td>Absent</td>\n",
       "      <td>Absent</td>\n",
       "    </tr>\n",
       "    <tr>\n",
       "      <th>4</th>\n",
       "      <td>20005</td>\n",
       "      <td>NO</td>\n",
       "      <td>A LITTLE</td>\n",
       "      <td>A LITTLE</td>\n",
       "      <td>A LITTLE</td>\n",
       "      <td>A LITTLE</td>\n",
       "      <td>SOMEWHAT</td>\n",
       "      <td>SOMEWHAT TRUE</td>\n",
       "      <td>A LITTLE TRUE</td>\n",
       "      <td>NO</td>\n",
       "      <td>...</td>\n",
       "      <td>Absent</td>\n",
       "      <td>Absent</td>\n",
       "      <td>Absent</td>\n",
       "      <td>Absent</td>\n",
       "      <td>Absent</td>\n",
       "      <td>Absent</td>\n",
       "      <td>Absent</td>\n",
       "      <td>Absent</td>\n",
       "      <td>Absent</td>\n",
       "      <td>Absent</td>\n",
       "    </tr>\n",
       "  </tbody>\n",
       "</table>\n",
       "<p>5 rows × 56 columns</p>\n",
       "</div>"
      ],
      "text/plain": [
       "   CASEID V6309       V5114       V5118       V5113       V5115       V5112  \\\n",
       "0   20001    NO        VERY    A LITTLE    SOMEWHAT    SOMEWHAT    SOMEWHAT   \n",
       "1   20002    NO    A LITTLE    A LITTLE    SOMEWHAT    A LITTLE    SOMEWHAT   \n",
       "2   20003    NO  NOT AT ALL  NOT AT ALL  NOT AT ALL  NOT AT ALL  NOT AT ALL   \n",
       "3   20004    NO    SOMEWHAT    SOMEWHAT    A LITTLE    A LITTLE    A LITTLE   \n",
       "4   20005    NO    A LITTLE    A LITTLE    A LITTLE    A LITTLE    SOMEWHAT   \n",
       "\n",
       "             V4428            V4433 V6305   ...       PDLT     PTLT   AGOLT1  \\\n",
       "0    A LITTLE TRUE        VERY TRUE   YES   ...    Present  Present  Present   \n",
       "1    A LITTLE TRUE  NOT TRUE AT ALL    NO   ...     Absent   Absent   Absent   \n",
       "2  NOT TRUE AT ALL  NOT TRUE AT ALL    NO   ...     Absent   Absent   Absent   \n",
       "3    A LITTLE TRUE  NOT TRUE AT ALL    NO   ...     Absent   Absent   Absent   \n",
       "4    SOMEWHAT TRUE    A LITTLE TRUE    NO   ...     Absent   Absent   Absent   \n",
       "\n",
       "   AGOLT2   PTSDLT   NAPLT   AABLT     CDLT  ASPLT1  ASPLT2  \n",
       "0  Absent  Present  Absent  Absent   Absent  Absent  Absent  \n",
       "1  Absent   Absent  Absent  Absent   Absent  Absent  Absent  \n",
       "2  Absent   Absent  Absent  Absent  Present  Absent  Absent  \n",
       "3  Absent   Absent  Absent  Absent   Absent  Absent  Absent  \n",
       "4  Absent   Absent  Absent  Absent   Absent  Absent  Absent  \n",
       "\n",
       "[5 rows x 56 columns]"
      ]
     },
     "execution_count": 4,
     "metadata": {},
     "output_type": "execute_result"
    }
   ],
   "source": [
    "df.head()"
   ]
  },
  {
   "cell_type": "markdown",
   "metadata": {},
   "source": [
    "# Convert Categorical Variables to 0-1 Coded Variables\n",
    "We use Pandas `get_dummies` to convert the categorical variables to one-hot encoded variables for fitting"
   ]
  },
  {
   "cell_type": "code",
   "execution_count": 5,
   "metadata": {},
   "outputs": [],
   "source": [
    "num_attribs = ['AGE']\n",
    "response = ['V6309']\n",
    "cat_attribs = df.columns.tolist()\n",
    "cat_attribs.remove('V6309')\n",
    "cat_attribs.remove('AGE')\n",
    "cat_attribs.remove('CASEID')"
   ]
  },
  {
   "cell_type": "code",
   "execution_count": 6,
   "metadata": {},
   "outputs": [
    {
     "data": {
      "text/html": [
       "<div>\n",
       "<style scoped>\n",
       "    .dataframe tbody tr th:only-of-type {\n",
       "        vertical-align: middle;\n",
       "    }\n",
       "\n",
       "    .dataframe tbody tr th {\n",
       "        vertical-align: top;\n",
       "    }\n",
       "\n",
       "    .dataframe thead th {\n",
       "        text-align: right;\n",
       "    }\n",
       "</style>\n",
       "<table border=\"1\" class=\"dataframe\">\n",
       "  <thead>\n",
       "    <tr style=\"text-align: right;\">\n",
       "      <th></th>\n",
       "      <th>V5114_DK</th>\n",
       "      <th>V5114_INAP</th>\n",
       "      <th>V5114_NOT AT ALL</th>\n",
       "      <th>V5114_SOMEWHAT</th>\n",
       "      <th>V5114_VERY</th>\n",
       "      <th>V5114_nan</th>\n",
       "      <th>V5118_DK</th>\n",
       "      <th>V5118_INAP</th>\n",
       "      <th>V5118_NOT AT ALL</th>\n",
       "      <th>V5118_SOMEWHAT</th>\n",
       "      <th>...</th>\n",
       "      <th>AABLT_Present</th>\n",
       "      <th>AABLT_nan</th>\n",
       "      <th>CDLT_Present</th>\n",
       "      <th>CDLT_nan</th>\n",
       "      <th>ASPLT1_Present</th>\n",
       "      <th>ASPLT1_nan</th>\n",
       "      <th>ASPLT2_Present</th>\n",
       "      <th>ASPLT2_nan</th>\n",
       "      <th>AGE</th>\n",
       "      <th>response</th>\n",
       "    </tr>\n",
       "  </thead>\n",
       "  <tbody>\n",
       "    <tr>\n",
       "      <th>0</th>\n",
       "      <td>0</td>\n",
       "      <td>0</td>\n",
       "      <td>0</td>\n",
       "      <td>0</td>\n",
       "      <td>1</td>\n",
       "      <td>0</td>\n",
       "      <td>0</td>\n",
       "      <td>0</td>\n",
       "      <td>0</td>\n",
       "      <td>0</td>\n",
       "      <td>...</td>\n",
       "      <td>0</td>\n",
       "      <td>0</td>\n",
       "      <td>0</td>\n",
       "      <td>0</td>\n",
       "      <td>0</td>\n",
       "      <td>0</td>\n",
       "      <td>0</td>\n",
       "      <td>0</td>\n",
       "      <td>54</td>\n",
       "      <td>NO</td>\n",
       "    </tr>\n",
       "    <tr>\n",
       "      <th>1</th>\n",
       "      <td>0</td>\n",
       "      <td>0</td>\n",
       "      <td>0</td>\n",
       "      <td>0</td>\n",
       "      <td>0</td>\n",
       "      <td>0</td>\n",
       "      <td>0</td>\n",
       "      <td>0</td>\n",
       "      <td>0</td>\n",
       "      <td>0</td>\n",
       "      <td>...</td>\n",
       "      <td>0</td>\n",
       "      <td>0</td>\n",
       "      <td>0</td>\n",
       "      <td>0</td>\n",
       "      <td>0</td>\n",
       "      <td>0</td>\n",
       "      <td>0</td>\n",
       "      <td>0</td>\n",
       "      <td>36</td>\n",
       "      <td>NO</td>\n",
       "    </tr>\n",
       "    <tr>\n",
       "      <th>2</th>\n",
       "      <td>0</td>\n",
       "      <td>0</td>\n",
       "      <td>1</td>\n",
       "      <td>0</td>\n",
       "      <td>0</td>\n",
       "      <td>0</td>\n",
       "      <td>0</td>\n",
       "      <td>0</td>\n",
       "      <td>1</td>\n",
       "      <td>0</td>\n",
       "      <td>...</td>\n",
       "      <td>0</td>\n",
       "      <td>0</td>\n",
       "      <td>1</td>\n",
       "      <td>0</td>\n",
       "      <td>0</td>\n",
       "      <td>0</td>\n",
       "      <td>0</td>\n",
       "      <td>0</td>\n",
       "      <td>34</td>\n",
       "      <td>NO</td>\n",
       "    </tr>\n",
       "    <tr>\n",
       "      <th>3</th>\n",
       "      <td>0</td>\n",
       "      <td>0</td>\n",
       "      <td>0</td>\n",
       "      <td>1</td>\n",
       "      <td>0</td>\n",
       "      <td>0</td>\n",
       "      <td>0</td>\n",
       "      <td>0</td>\n",
       "      <td>0</td>\n",
       "      <td>1</td>\n",
       "      <td>...</td>\n",
       "      <td>0</td>\n",
       "      <td>0</td>\n",
       "      <td>0</td>\n",
       "      <td>0</td>\n",
       "      <td>0</td>\n",
       "      <td>0</td>\n",
       "      <td>0</td>\n",
       "      <td>0</td>\n",
       "      <td>36</td>\n",
       "      <td>NO</td>\n",
       "    </tr>\n",
       "    <tr>\n",
       "      <th>4</th>\n",
       "      <td>0</td>\n",
       "      <td>0</td>\n",
       "      <td>0</td>\n",
       "      <td>0</td>\n",
       "      <td>0</td>\n",
       "      <td>0</td>\n",
       "      <td>0</td>\n",
       "      <td>0</td>\n",
       "      <td>0</td>\n",
       "      <td>0</td>\n",
       "      <td>...</td>\n",
       "      <td>0</td>\n",
       "      <td>0</td>\n",
       "      <td>0</td>\n",
       "      <td>0</td>\n",
       "      <td>0</td>\n",
       "      <td>0</td>\n",
       "      <td>0</td>\n",
       "      <td>0</td>\n",
       "      <td>31</td>\n",
       "      <td>NO</td>\n",
       "    </tr>\n",
       "  </tbody>\n",
       "</table>\n",
       "<p>5 rows × 162 columns</p>\n",
       "</div>"
      ],
      "text/plain": [
       "   V5114_DK  V5114_INAP  V5114_NOT AT ALL  V5114_SOMEWHAT  V5114_VERY  \\\n",
       "0         0           0                 0               0           1   \n",
       "1         0           0                 0               0           0   \n",
       "2         0           0                 1               0           0   \n",
       "3         0           0                 0               1           0   \n",
       "4         0           0                 0               0           0   \n",
       "\n",
       "   V5114_nan  V5118_DK  V5118_INAP  V5118_NOT AT ALL  V5118_SOMEWHAT  \\\n",
       "0          0         0           0                 0               0   \n",
       "1          0         0           0                 0               0   \n",
       "2          0         0           0                 1               0   \n",
       "3          0         0           0                 0               1   \n",
       "4          0         0           0                 0               0   \n",
       "\n",
       "     ...     AABLT_Present  AABLT_nan  CDLT_Present  CDLT_nan  ASPLT1_Present  \\\n",
       "0    ...                 0          0             0         0               0   \n",
       "1    ...                 0          0             0         0               0   \n",
       "2    ...                 0          0             1         0               0   \n",
       "3    ...                 0          0             0         0               0   \n",
       "4    ...                 0          0             0         0               0   \n",
       "\n",
       "   ASPLT1_nan  ASPLT2_Present  ASPLT2_nan  AGE  response  \n",
       "0           0               0           0   54        NO  \n",
       "1           0               0           0   36        NO  \n",
       "2           0               0           0   34        NO  \n",
       "3           0               0           0   36        NO  \n",
       "4           0               0           0   31        NO  \n",
       "\n",
       "[5 rows x 162 columns]"
      ]
     },
     "execution_count": 6,
     "metadata": {},
     "output_type": "execute_result"
    }
   ],
   "source": [
    "df_with_dummies = pd.get_dummies(df[cat_attribs], dummy_na=True, drop_first=True)\n",
    "df_with_dummies['AGE'] = df['AGE']\n",
    "df_with_dummies['response'] = df['V6309']\n",
    "df_with_dummies.head()"
   ]
  },
  {
   "cell_type": "markdown",
   "metadata": {},
   "source": [
    "# Set Aside Testing Data"
   ]
  },
  {
   "cell_type": "code",
   "execution_count": 7,
   "metadata": {},
   "outputs": [],
   "source": [
    "# Make a train-test split:\n",
    "train_set, test_set = train_test_split(df_with_dummies, random_state=1, stratify=df_with_dummies['response'])"
   ]
  },
  {
   "cell_type": "code",
   "execution_count": 8,
   "metadata": {},
   "outputs": [
    {
     "name": "stdout",
     "output_type": "stream",
     "text": [
      "(4404, 162) (1468, 162)\n"
     ]
    }
   ],
   "source": [
    "print(train_set.shape, test_set.shape)"
   ]
  },
  {
   "cell_type": "code",
   "execution_count": 9,
   "metadata": {},
   "outputs": [
    {
     "name": "stdout",
     "output_type": "stream",
     "text": [
      "train: \n",
      "NO     4130\n",
      "YES     274\n",
      "Name: response, dtype: int64\n",
      "test: \n",
      "NO     1376\n",
      "YES      92\n",
      "Name: response, dtype: int64\n"
     ]
    }
   ],
   "source": [
    "# What is the distribution of the response in the training and testing data\n",
    "print(\"train: \")\n",
    "print(train_set['response'].value_counts())\n",
    "print(\"test: \")\n",
    "print(test_set['response'].value_counts())"
   ]
  },
  {
   "cell_type": "code",
   "execution_count": 10,
   "metadata": {},
   "outputs": [
    {
     "data": {
      "text/plain": [
       "160"
      ]
     },
     "execution_count": 10,
     "metadata": {},
     "output_type": "execute_result"
    }
   ],
   "source": [
    "# We will need to identify the categorical attributes for later\n",
    "cat_attribs = df_with_dummies.columns.tolist()\n",
    "cat_attribs.remove('AGE')\n",
    "cat_attribs.remove('response')\n",
    "len(cat_attribs)"
   ]
  },
  {
   "cell_type": "markdown",
   "metadata": {},
   "source": [
    "# Use Scikit-Learn Pipeline\n",
    "The pipeline can be used to automate selection from a dataframe and transformation"
   ]
  },
  {
   "cell_type": "code",
   "execution_count": 11,
   "metadata": {},
   "outputs": [],
   "source": [
    "# Define a method to select attributes from a DataFrame\n",
    "class DataFrameSelector(BaseEstimator, TransformerMixin):\n",
    "    def __init__(self, attribute_names):\n",
    "        self.attribute_names = attribute_names\n",
    "    def fit(self, X, y=None):\n",
    "        return self\n",
    "    def transform(self, X):\n",
    "        return X[self.attribute_names].values\n",
    "\n",
    "# We will need this later\n",
    "num_pipeline = Pipeline([\n",
    "    ('selector', DataFrameSelector(num_attribs)),\n",
    "    ('std_scaler', StandardScaler()),\n",
    "])\n",
    "\n",
    "cat_pipeline = Pipeline([\n",
    "    ('selector', DataFrameSelector(cat_attribs)),\n",
    "    ('std_scaler', StandardScaler())\n",
    "    #('encoder', LabelBinarizer(sparse=False, handle_unknown='ignore'))\n",
    "])\n",
    "\n",
    "full_pipeline = FeatureUnion(transformer_list=[\n",
    "    (\"num_pipeline\", num_pipeline),\n",
    "    (\"cat_pipeline\", cat_pipeline),\n",
    "])\n"
   ]
  },
  {
   "cell_type": "code",
   "execution_count": 12,
   "metadata": {},
   "outputs": [
    {
     "name": "stderr",
     "output_type": "stream",
     "text": [
      "C:\\Users\\dadra\\anaconda\\Anaconda3\\envs\\PythonWebMongo\\lib\\site-packages\\sklearn\\utils\\validation.py:595: DataConversionWarning: Data with input dtype int64 was converted to float64 by StandardScaler.\n",
      "  warnings.warn(msg, DataConversionWarning)\n",
      "C:\\Users\\dadra\\anaconda\\Anaconda3\\envs\\PythonWebMongo\\lib\\site-packages\\sklearn\\utils\\validation.py:595: DataConversionWarning: Data with input dtype int64 was converted to float64 by StandardScaler.\n",
      "  warnings.warn(msg, DataConversionWarning)\n",
      "C:\\Users\\dadra\\anaconda\\Anaconda3\\envs\\PythonWebMongo\\lib\\site-packages\\sklearn\\utils\\validation.py:595: DataConversionWarning: Data with input dtype uint8 was converted to float64 by StandardScaler.\n",
      "  warnings.warn(msg, DataConversionWarning)\n",
      "C:\\Users\\dadra\\anaconda\\Anaconda3\\envs\\PythonWebMongo\\lib\\site-packages\\sklearn\\utils\\validation.py:595: DataConversionWarning: Data with input dtype uint8 was converted to float64 by StandardScaler.\n",
      "  warnings.warn(msg, DataConversionWarning)\n"
     ]
    },
    {
     "data": {
      "text/plain": [
       "array([[ 0.47333761, -0.01507043, -0.02131523, ...,  0.        ,\n",
       "        -0.20037754,  0.        ],\n",
       "       [-0.83996019, -0.01507043, -0.02131523, ...,  0.        ,\n",
       "        -0.20037754,  0.        ],\n",
       "       [ 0.47333761, -0.01507043, -0.02131523, ...,  0.        ,\n",
       "        -0.20037754,  0.        ],\n",
       "       ...,\n",
       "       [ 0.09810967, -0.01507043, -0.02131523, ...,  0.        ,\n",
       "        -0.20037754,  0.        ],\n",
       "       [ 1.69282842, -0.01507043, -0.02131523, ...,  0.        ,\n",
       "        -0.20037754,  0.        ],\n",
       "       [-0.7461532 , -0.01507043, -0.02131523, ...,  0.        ,\n",
       "        -0.20037754,  0.        ]])"
      ]
     },
     "execution_count": 12,
     "metadata": {},
     "output_type": "execute_result"
    }
   ],
   "source": [
    "y_train = train_set['response']\n",
    "\n",
    "# Prepare the training data with the pipeline above\n",
    "X_train_prepared = full_pipeline.fit_transform(train_set)\n",
    "X_train_prepared"
   ]
  },
  {
   "cell_type": "code",
   "execution_count": 13,
   "metadata": {},
   "outputs": [
    {
     "data": {
      "text/plain": [
       "(4404, 161)"
      ]
     },
     "execution_count": 13,
     "metadata": {},
     "output_type": "execute_result"
    }
   ],
   "source": [
    "X_train_prepared.shape"
   ]
  },
  {
   "cell_type": "code",
   "execution_count": 14,
   "metadata": {},
   "outputs": [
    {
     "name": "stderr",
     "output_type": "stream",
     "text": [
      "C:\\Users\\dadra\\anaconda\\Anaconda3\\envs\\PythonWebMongo\\lib\\site-packages\\sklearn\\utils\\validation.py:595: DataConversionWarning: Data with input dtype int64 was converted to float64 by StandardScaler.\n",
      "  warnings.warn(msg, DataConversionWarning)\n",
      "C:\\Users\\dadra\\anaconda\\Anaconda3\\envs\\PythonWebMongo\\lib\\site-packages\\sklearn\\utils\\validation.py:595: DataConversionWarning: Data with input dtype uint8 was converted to float64 by StandardScaler.\n",
      "  warnings.warn(msg, DataConversionWarning)\n"
     ]
    },
    {
     "data": {
      "text/plain": [
       "(1468, 161)"
      ]
     },
     "execution_count": 14,
     "metadata": {},
     "output_type": "execute_result"
    }
   ],
   "source": [
    "y_test = test_set.response\n",
    "\n",
    "X_test_prepared = full_pipeline.transform(test_set)\n",
    "X_test_prepared.shape"
   ]
  },
  {
   "cell_type": "markdown",
   "metadata": {},
   "source": [
    "# Consider a Decision Tree Classifier"
   ]
  },
  {
   "cell_type": "code",
   "execution_count": 15,
   "metadata": {},
   "outputs": [
    {
     "data": {
      "text/plain": [
       "DecisionTreeClassifier(class_weight=None, criterion='gini', max_depth=None,\n",
       "            max_features=None, max_leaf_nodes=None,\n",
       "            min_impurity_decrease=0.0, min_impurity_split=None,\n",
       "            min_samples_leaf=1, min_samples_split=2,\n",
       "            min_weight_fraction_leaf=0.0, presort=False, random_state=None,\n",
       "            splitter='best')"
      ]
     },
     "execution_count": 15,
     "metadata": {},
     "output_type": "execute_result"
    }
   ],
   "source": [
    "from sklearn.tree import DecisionTreeClassifier\n",
    "\n",
    "tree_clf = DecisionTreeClassifier()\n",
    "tree_clf.fit(X_train_prepared, y_train)"
   ]
  },
  {
   "cell_type": "code",
   "execution_count": 16,
   "metadata": {},
   "outputs": [],
   "source": [
    "y_test_pred = tree_clf.predict(X_test_prepared)"
   ]
  },
  {
   "cell_type": "code",
   "execution_count": 17,
   "metadata": {},
   "outputs": [
    {
     "name": "stdout",
     "output_type": "stream",
     "text": [
      "              precision    recall  f1-score   support\n",
      "\n",
      "          NO       0.96      0.96      0.96      1376\n",
      "         YES       0.44      0.47      0.46        92\n",
      "\n",
      "   micro avg       0.93      0.93      0.93      1468\n",
      "   macro avg       0.70      0.71      0.71      1468\n",
      "weighted avg       0.93      0.93      0.93      1468\n",
      "\n"
     ]
    }
   ],
   "source": [
    "from sklearn.metrics import classification_report\n",
    "\n",
    "print(classification_report(y_test, y_test_pred))"
   ]
  },
  {
   "cell_type": "markdown",
   "metadata": {},
   "source": [
    "# Random Forest Classifier"
   ]
  },
  {
   "cell_type": "code",
   "execution_count": 18,
   "metadata": {},
   "outputs": [
    {
     "name": "stderr",
     "output_type": "stream",
     "text": [
      "C:\\Users\\dadra\\anaconda\\Anaconda3\\envs\\PythonWebMongo\\lib\\site-packages\\sklearn\\ensemble\\forest.py:246: FutureWarning: The default value of n_estimators will change from 10 in version 0.20 to 100 in 0.22.\n",
      "  \"10 in version 0.20 to 100 in 0.22.\", FutureWarning)\n"
     ]
    },
    {
     "data": {
      "text/plain": [
       "RandomForestClassifier(bootstrap=True, class_weight=None, criterion='gini',\n",
       "            max_depth=None, max_features='auto', max_leaf_nodes=None,\n",
       "            min_impurity_decrease=0.0, min_impurity_split=None,\n",
       "            min_samples_leaf=1, min_samples_split=2,\n",
       "            min_weight_fraction_leaf=0.0, n_estimators=10, n_jobs=-1,\n",
       "            oob_score=False, random_state=None, verbose=0,\n",
       "            warm_start=False)"
      ]
     },
     "execution_count": 18,
     "metadata": {},
     "output_type": "execute_result"
    }
   ],
   "source": [
    "from sklearn.ensemble import RandomForestClassifier\n",
    "forest_clf = RandomForestClassifier(n_jobs=-1)\n",
    "forest_clf.fit(X_train_prepared, y_train)"
   ]
  },
  {
   "cell_type": "code",
   "execution_count": 19,
   "metadata": {},
   "outputs": [],
   "source": [
    "y_test_pred_rf = forest_clf.predict(X_test_prepared)"
   ]
  },
  {
   "cell_type": "code",
   "execution_count": 20,
   "metadata": {},
   "outputs": [
    {
     "name": "stdout",
     "output_type": "stream",
     "text": [
      "              precision    recall  f1-score   support\n",
      "\n",
      "          NO       0.95      1.00      0.97      1376\n",
      "         YES       0.74      0.18      0.30        92\n",
      "\n",
      "   micro avg       0.94      0.94      0.94      1468\n",
      "   macro avg       0.84      0.59      0.63      1468\n",
      "weighted avg       0.94      0.94      0.93      1468\n",
      "\n"
     ]
    }
   ],
   "source": [
    "print(classification_report(y_test, y_test_pred_rf))"
   ]
  },
  {
   "cell_type": "markdown",
   "metadata": {},
   "source": [
    "# Use GridSearchCV to Find Good Parameter Values"
   ]
  },
  {
   "cell_type": "code",
   "execution_count": 21,
   "metadata": {},
   "outputs": [
    {
     "name": "stderr",
     "output_type": "stream",
     "text": [
      "C:\\Users\\dadra\\anaconda\\Anaconda3\\envs\\PythonWebMongo\\lib\\site-packages\\sklearn\\model_selection\\_split.py:2053: FutureWarning: You should specify a value for 'cv' instead of relying on the default value. The default value will change from 3 to 5 in version 0.22.\n",
      "  warnings.warn(CV_WARNING, FutureWarning)\n",
      "[Parallel(n_jobs=-1)]: Using backend LokyBackend with 12 concurrent workers.\n"
     ]
    },
    {
     "name": "stdout",
     "output_type": "stream",
     "text": [
      "Fitting 3 folds for each of 6 candidates, totalling 18 fits\n"
     ]
    },
    {
     "name": "stderr",
     "output_type": "stream",
     "text": [
      "[Parallel(n_jobs=-1)]: Done   2 out of  18 | elapsed:    3.5s remaining:   28.5s\n",
      "[Parallel(n_jobs=-1)]: Done   9 out of  18 | elapsed:    4.1s remaining:    4.1s\n",
      "[Parallel(n_jobs=-1)]: Done  16 out of  18 | elapsed:    7.1s remaining:    0.8s\n",
      "[Parallel(n_jobs=-1)]: Done  18 out of  18 | elapsed:    7.2s finished\n"
     ]
    },
    {
     "data": {
      "text/plain": [
       "GridSearchCV(cv='warn', error_score='raise-deprecating',\n",
       "       estimator=RandomForestClassifier(bootstrap=True, class_weight=None, criterion='gini',\n",
       "            max_depth=None, max_features='auto', max_leaf_nodes=None,\n",
       "            min_impurity_decrease=0.0, min_impurity_split=None,\n",
       "            min_samples_leaf=1, min_samples_split=2,\n",
       "            min_weight_fraction_leaf=0.0, n_estimators=10, n_jobs=-1,\n",
       "            oob_score=False, random_state=None, verbose=0,\n",
       "            warm_start=False),\n",
       "       fit_params=None, iid='warn', n_jobs=-1,\n",
       "       param_grid={'n_estimators': [50, 100, 200, 300, 500, 1000]},\n",
       "       pre_dispatch='2*n_jobs', refit=True, return_train_score='warn',\n",
       "       scoring=None, verbose=3)"
      ]
     },
     "execution_count": 21,
     "metadata": {},
     "output_type": "execute_result"
    }
   ],
   "source": [
    "from sklearn.model_selection import GridSearchCV\n",
    "param_grid = {'n_estimators': [50, 100, 200, 300, 500, 1000]}\n",
    "grid_rf = GridSearchCV(forest_clf, param_grid, verbose=3, n_jobs=-1)\n",
    "grid_rf.fit(X_train_prepared, y_train)"
   ]
  },
  {
   "cell_type": "code",
   "execution_count": 22,
   "metadata": {},
   "outputs": [
    {
     "name": "stdout",
     "output_type": "stream",
     "text": [
      "0.9432334241598547\n"
     ]
    }
   ],
   "source": [
    "print(grid_rf.best_score_)"
   ]
  },
  {
   "cell_type": "code",
   "execution_count": 23,
   "metadata": {},
   "outputs": [
    {
     "name": "stdout",
     "output_type": "stream",
     "text": [
      "{'n_estimators': 50}\n"
     ]
    }
   ],
   "source": [
    "print(grid_rf.best_params_)"
   ]
  },
  {
   "cell_type": "code",
   "execution_count": 24,
   "metadata": {},
   "outputs": [
    {
     "name": "stderr",
     "output_type": "stream",
     "text": [
      "C:\\Users\\dadra\\anaconda\\Anaconda3\\envs\\PythonWebMongo\\lib\\site-packages\\sklearn\\model_selection\\_split.py:2053: FutureWarning: You should specify a value for 'cv' instead of relying on the default value. The default value will change from 3 to 5 in version 0.22.\n",
      "  warnings.warn(CV_WARNING, FutureWarning)\n",
      "[Parallel(n_jobs=-1)]: Using backend LokyBackend with 12 concurrent workers.\n"
     ]
    },
    {
     "name": "stdout",
     "output_type": "stream",
     "text": [
      "Fitting 3 folds for each of 8 candidates, totalling 24 fits\n"
     ]
    },
    {
     "name": "stderr",
     "output_type": "stream",
     "text": [
      "[Parallel(n_jobs=-1)]: Done  10 out of  24 | elapsed:    0.4s remaining:    0.5s\n",
      "[Parallel(n_jobs=-1)]: Done  19 out of  24 | elapsed:    0.9s remaining:    0.2s\n",
      "[Parallel(n_jobs=-1)]: Done  24 out of  24 | elapsed:    1.1s finished\n"
     ]
    },
    {
     "data": {
      "text/plain": [
       "GridSearchCV(cv='warn', error_score='raise-deprecating',\n",
       "       estimator=RandomForestClassifier(bootstrap=True, class_weight=None, criterion='gini',\n",
       "            max_depth=None, max_features='auto', max_leaf_nodes=None,\n",
       "            min_impurity_decrease=0.0, min_impurity_split=None,\n",
       "            min_samples_leaf=1, min_samples_split=2,\n",
       "            min_weight_fraction_leaf=0.0, n_estimators=10, n_jobs=-1,\n",
       "            oob_score=False, random_state=None, verbose=0,\n",
       "            warm_start=False),\n",
       "       fit_params=None, iid='warn', n_jobs=-1,\n",
       "       param_grid={'n_estimators': [10, 20, 30, 40, 50, 60, 70, 80]},\n",
       "       pre_dispatch='2*n_jobs', refit=True, return_train_score='warn',\n",
       "       scoring=None, verbose=3)"
      ]
     },
     "execution_count": 24,
     "metadata": {},
     "output_type": "execute_result"
    }
   ],
   "source": [
    "param_grid = {'n_estimators': [10, 20, 30, 40, 50, 60, 70, 80]}\n",
    "grid_rf = GridSearchCV(forest_clf, param_grid, verbose=3, n_jobs=-1)\n",
    "grid_rf.fit(X_train_prepared, y_train)"
   ]
  },
  {
   "cell_type": "code",
   "execution_count": 25,
   "metadata": {},
   "outputs": [
    {
     "name": "stdout",
     "output_type": "stream",
     "text": [
      "{'n_estimators': 10}\n"
     ]
    }
   ],
   "source": [
    "print(grid_rf.best_params_)"
   ]
  },
  {
   "cell_type": "code",
   "execution_count": 26,
   "metadata": {},
   "outputs": [
    {
     "data": {
      "text/plain": [
       "[(0.10596432213230259, 'V6301_YES'),\n",
       " (0.07943020033230312, 'V6305_YES'),\n",
       " (0.03757651794515308, 'AGE'),\n",
       " (0.02025277588344561, 'V6143_YES'),\n",
       " (0.01762042965112847, 'V5112_VERY'),\n",
       " (0.016737379395948417, 'PTSDLT_Present'),\n",
       " (0.016456461644817434, 'V6114_NO'),\n",
       " (0.01597585973458988, 'CDLT_Present'),\n",
       " (0.014652807958583172, 'DEPLT1_Present'),\n",
       " (0.014616868186518672, 'V6126_NO'),\n",
       " (0.013383261755608212, 'V6114_YES'),\n",
       " (0.013258898610583932, 'V5918_OFTEN'),\n",
       " (0.013023970680180541, 'REL_Protestant'),\n",
       " (0.012839572340846603, 'EMP_Working, incl. temp. laid off, matern./s'),\n",
       " (0.01264268253993057, 'EMP_Other'),\n",
       " (0.012349081235816822, 'V5114_SOMEWHAT'),\n",
       " (0.011883815076609646, 'V6649_NO'),\n",
       " (0.011771358382855878, 'DRGDLT_Present'),\n",
       " (0.01156534556520887, 'MARSTAT_Marnev'),\n",
       " (0.01139762353771331, 'V4433_NOT TRUE AT ALL'),\n",
       " (0.011219576424174831, 'V5113_SOMEWHAT'),\n",
       " (0.011063986983925838, 'SEX_Male'),\n",
       " (0.010738230655992831, 'V102_GOOD'),\n",
       " (0.010503237703938878, 'DEPLT2_Present'),\n",
       " (0.010323853046912593, 'V5225_INAP'),\n",
       " (0.010230187349613156, 'AABLT_Present'),\n",
       " (0.010094398846045766, 'MARSTAT_Marswd'),\n",
       " (0.010044630909693911, 'V5225_NOT AT ALL'),\n",
       " (0.009962441477447875, 'EDCAT_12 Years'),\n",
       " (0.009949418443085814, 'AGOLT1_Present'),\n",
       " (0.009948734713168397, 'SIMLT_Present'),\n",
       " (0.009857959086563929, 'GADLT2_Present'),\n",
       " (0.009679759666801008, 'V101_FAIR'),\n",
       " (0.009485720784512519, 'V4428_VERY TRUE'),\n",
       " (0.00936291241832697, 'SOCLT_Present'),\n",
       " (0.0092669930389371, 'V102_VERY GOOD'),\n",
       " (0.00923900288814725, 'ALCDLT_Present'),\n",
       " (0.009200706329076241, 'V5112_SOMEWHAT'),\n",
       " (0.009118475610789295, 'V4428_NOT TRUE AT ALL'),\n",
       " (0.008951618165952085, 'V102_FAIR'),\n",
       " (0.008938224898096153, 'V5918_SOMETIMES'),\n",
       " (0.00891480224509682, 'DRGALT1_Present'),\n",
       " (0.00885311161584828, 'V101_VERY GOOD'),\n",
       " (0.008678622177370546, 'V6215_ONLY ONE YES RESPONSE IN U1-U12'),\n",
       " (0.00866964612917185, 'V5114_VERY'),\n",
       " (0.008608043787376743, 'V101_GOOD'),\n",
       " (0.00858868229575902, 'EDCAT_16+ Years'),\n",
       " (0.008528841752210362, 'V5918_RARELY'),\n",
       " (0.008502326641903337, 'V5115_VERY'),\n",
       " (0.008406682905966353, 'ALCALT1_Present'),\n",
       " (0.008361350608652415, 'V5115_SOMEWHAT'),\n",
       " (0.008246531112394264, 'EDCAT_13-15 Years'),\n",
       " (0.008206240016572516, 'V5118_NOT AT ALL'),\n",
       " (0.008117002892494844, 'AGOLT2_Present'),\n",
       " (0.008076102378795988, 'V4428_SOMEWHAT TRUE'),\n",
       " (0.00791246428596409, 'V4433_VERY TRUE'),\n",
       " (0.00784926506690568, 'RACE_White'),\n",
       " (0.007589258157120996, 'V6215_TWO OR MORE YES RESPONSES IN U1-U12'),\n",
       " (0.007552686042678324, 'V5118_SOMEWHAT'),\n",
       " (0.007447980524580997, 'DYSLT1_Present'),\n",
       " (0.007348577084485665, 'PTLT_Present'),\n",
       " (0.0071452321262062465, 'V5225_A LOT'),\n",
       " (0.0071152199828578315, 'GADLT1_Present'),\n",
       " (0.007090986232248246, 'PDLT_Present'),\n",
       " (0.006893976335033294, 'REL_Other'),\n",
       " (0.006855217152298587, 'V4433_SOMEWHAT TRUE'),\n",
       " (0.006457602659582234, 'V6649_INAP'),\n",
       " (0.0064405330979115495, 'V5225_SOME'),\n",
       " (0.0063270133688916414, 'BP1LT1_Present'),\n",
       " (0.006315233255004858, 'V5114_NOT AT ALL'),\n",
       " (0.006261615107021963, 'V6749_NO'),\n",
       " (0.006165096439012068, 'V6649_YES'),\n",
       " (0.005972480521352588, 'V5112_NOT AT ALL'),\n",
       " (0.005444456853534689, 'DYSLT2_Present'),\n",
       " (0.005426419500376436, 'ASPLT2_Present'),\n",
       " (0.005275319240734664, 'V5113_NOT AT ALL'),\n",
       " (0.0052227321680509715, 'V6749_YES'),\n",
       " (0.005146250352119736, 'RACE_Hispanic'),\n",
       " (0.0049067330696513384, 'BP1LT2_Present'),\n",
       " (0.004438995280493771, 'V5118_VERY'),\n",
       " (0.004370084101663908, 'ASPLT1_Present'),\n",
       " (0.004338579004118603, 'V5115_NOT AT ALL'),\n",
       " (0.004239438508981239, 'EMP_Student'),\n",
       " (0.004058346067536734, 'V5113_VERY'),\n",
       " (0.0035555692781945496, 'RACE_Other'),\n",
       " (0.003472359347978537, 'V101_POOR'),\n",
       " (0.0034714017854221776, 'REL_No Preference, None'),\n",
       " (0.0033326598613305698, 'NAPLT_Present'),\n",
       " (0.0031845591737790927, 'V102_POOR'),\n",
       " (0.0027056247561218615, 'ALCALT2_Present'),\n",
       " (0.0024660936821513943, 'V6126_YES'),\n",
       " (0.002346821239940705, 'MANLT2_Present'),\n",
       " (0.0020791713945316455, 'V6749_INAP'),\n",
       " (0.0018688728608149934, 'MANLT1_Present'),\n",
       " (0.001570310336602367, 'DRGALT2_Present'),\n",
       " (0.0008112695675271005, 'V6749_nan'),\n",
       " (0.0006033655863608434, 'V5114_nan'),\n",
       " (0.0006025940420701007, 'V4433_nan'),\n",
       " (0.0005710483232895077, 'V5225_nan'),\n",
       " (0.00027572254179942255, 'V6143_nan'),\n",
       " (0.00013747604470556156, 'V6126_nan'),\n",
       " (0.0, 'V6649_nan'),\n",
       " (0.0, 'V6305_nan'),\n",
       " (0.0, 'V6301_nan'),\n",
       " (0.0, 'V6215_nan'),\n",
       " (0.0, 'V6114_nan'),\n",
       " (0.0, 'V5918_nan'),\n",
       " (0.0, 'V5118_nan'),\n",
       " (0.0, 'V5118_INAP'),\n",
       " (0.0, 'V5118_DK'),\n",
       " (0.0, 'V5115_nan'),\n",
       " (0.0, 'V5115_INAP'),\n",
       " (0.0, 'V5115_DK'),\n",
       " (0.0, 'V5114_INAP'),\n",
       " (0.0, 'V5114_DK'),\n",
       " (0.0, 'V5113_nan'),\n",
       " (0.0, 'V5113_INAP'),\n",
       " (0.0, 'V5112_nan'),\n",
       " (0.0, 'V5112_INAP'),\n",
       " (0.0, 'V5112_DK'),\n",
       " (0.0, 'V4433_INAP'),\n",
       " (0.0, 'V4433_DK'),\n",
       " (0.0, 'V4428_nan'),\n",
       " (0.0, 'V4428_INAP'),\n",
       " (0.0, 'V4428_DK'),\n",
       " (0.0, 'V102_nan'),\n",
       " (0.0, 'V101_nan'),\n",
       " (0.0, 'SOCLT_nan'),\n",
       " (0.0, 'SIMLT_nan'),\n",
       " (0.0, 'SEX_nan'),\n",
       " (0.0, 'REL_nan'),\n",
       " (0.0, 'RACE_nan'),\n",
       " (0.0, 'PTSDLT_nan'),\n",
       " (0.0, 'PTLT_nan'),\n",
       " (0.0, 'PDLT_nan'),\n",
       " (0.0, 'NAPLT_nan'),\n",
       " (0.0, 'MARSTAT_nan'),\n",
       " (0.0, 'MANLT2_nan'),\n",
       " (0.0, 'MANLT1_nan'),\n",
       " (0.0, 'GADLT2_nan'),\n",
       " (0.0, 'GADLT1_nan'),\n",
       " (0.0, 'EMP_nan'),\n",
       " (0.0, 'EDCAT_nan'),\n",
       " (0.0, 'DYSLT2_nan'),\n",
       " (0.0, 'DYSLT1_nan'),\n",
       " (0.0, 'DRGDLT_nan'),\n",
       " (0.0, 'DRGALT2_nan'),\n",
       " (0.0, 'DRGALT1_nan'),\n",
       " (0.0, 'DEPLT2_nan'),\n",
       " (0.0, 'DEPLT1_nan'),\n",
       " (0.0, 'CDLT_nan'),\n",
       " (0.0, 'BP1LT2_nan'),\n",
       " (0.0, 'BP1LT1_nan'),\n",
       " (0.0, 'ASPLT2_nan'),\n",
       " (0.0, 'ASPLT1_nan'),\n",
       " (0.0, 'ALCDLT_nan'),\n",
       " (0.0, 'ALCALT2_nan'),\n",
       " (0.0, 'ALCALT1_nan'),\n",
       " (0.0, 'AGOLT2_nan'),\n",
       " (0.0, 'AGOLT1_nan'),\n",
       " (0.0, 'AABLT_nan')]"
      ]
     },
     "execution_count": 26,
     "metadata": {},
     "output_type": "execute_result"
    }
   ],
   "source": [
    "attributes = num_attribs + cat_attribs\n",
    "feature_importances = grid_rf.best_estimator_.feature_importances_\n",
    "sorted(zip(feature_importances, attributes), reverse=True)"
   ]
  },
  {
   "cell_type": "code",
   "execution_count": 27,
   "metadata": {},
   "outputs": [],
   "source": [
    "y_test_pred_rf = grid_rf.best_estimator_.predict(X_test_prepared)"
   ]
  },
  {
   "cell_type": "code",
   "execution_count": 28,
   "metadata": {},
   "outputs": [
    {
     "name": "stdout",
     "output_type": "stream",
     "text": [
      "              precision    recall  f1-score   support\n",
      "\n",
      "          NO       0.95      1.00      0.97      1376\n",
      "         YES       0.68      0.14      0.23        92\n",
      "\n",
      "   micro avg       0.94      0.94      0.94      1468\n",
      "   macro avg       0.81      0.57      0.60      1468\n",
      "weighted avg       0.93      0.94      0.92      1468\n",
      "\n"
     ]
    }
   ],
   "source": [
    "print(classification_report(y_test, y_test_pred_rf))"
   ]
  },
  {
   "cell_type": "markdown",
   "metadata": {},
   "source": [
    "# Logistic Regression with L1 Regularization"
   ]
  },
  {
   "cell_type": "code",
   "execution_count": 30,
   "metadata": {},
   "outputs": [],
   "source": [
    "### from sklearn.linear_model import LogisticRegression\n",
    "from sklearn.linear_model import LogisticRegression\n",
    "classifier = LogisticRegression(penalty='l1', solver='saga', max_iter=10000, multi_class='auto', n_jobs=-1,verbose=3)"
   ]
  },
  {
   "cell_type": "code",
   "execution_count": 31,
   "metadata": {},
   "outputs": [
    {
     "name": "stderr",
     "output_type": "stream",
     "text": [
      "[Parallel(n_jobs=-1)]: Using backend ThreadingBackend with 12 concurrent workers.\n"
     ]
    },
    {
     "name": "stdout",
     "output_type": "stream",
     "text": [
      "convergence after 806 epochs took 9 seconds\n"
     ]
    },
    {
     "name": "stderr",
     "output_type": "stream",
     "text": [
      "[Parallel(n_jobs=-1)]: Done   1 out of   1 | elapsed:    8.7s finished\n"
     ]
    },
    {
     "data": {
      "text/plain": [
       "LogisticRegression(C=1.0, class_weight=None, dual=False, fit_intercept=True,\n",
       "          intercept_scaling=1, max_iter=10000, multi_class='auto',\n",
       "          n_jobs=-1, penalty='l1', random_state=None, solver='saga',\n",
       "          tol=0.0001, verbose=3, warm_start=False)"
      ]
     },
     "execution_count": 31,
     "metadata": {},
     "output_type": "execute_result"
    }
   ],
   "source": [
    "classifier.fit(X_train_prepared, y_train)"
   ]
  },
  {
   "cell_type": "code",
   "execution_count": 32,
   "metadata": {},
   "outputs": [
    {
     "name": "stdout",
     "output_type": "stream",
     "text": [
      "Training Data Score: 0.9595821980018165\n",
      "Testing Data Score: 0.9516348773841962\n"
     ]
    }
   ],
   "source": [
    "print(f\"Training Data Score: {classifier.score(X_train_prepared, y_train)}\")\n",
    "print(f\"Testing Data Score: {classifier.score(X_test_prepared, y_test)}\")"
   ]
  },
  {
   "cell_type": "code",
   "execution_count": 33,
   "metadata": {},
   "outputs": [],
   "source": [
    "y_test_pred = classifier.predict(X_test_prepared)"
   ]
  },
  {
   "cell_type": "code",
   "execution_count": 34,
   "metadata": {},
   "outputs": [
    {
     "name": "stdout",
     "output_type": "stream",
     "text": [
      "              precision    recall  f1-score   support\n",
      "\n",
      "          NO       0.97      0.98      0.97      1376\n",
      "         YES       0.65      0.49      0.56        92\n",
      "\n",
      "   micro avg       0.95      0.95      0.95      1468\n",
      "   macro avg       0.81      0.74      0.77      1468\n",
      "weighted avg       0.95      0.95      0.95      1468\n",
      "\n"
     ]
    }
   ],
   "source": [
    "print(classification_report(y_test, y_test_pred))"
   ]
  },
  {
   "cell_type": "code",
   "execution_count": 36,
   "metadata": {},
   "outputs": [
    {
     "data": {
      "image/png": "[encoded data removed]",
      "text/plain": [
       "<Figure size 432x288 with 2 Axes>"
      ]
     },
     "metadata": {
      "needs_background": "light"
     },
     "output_type": "display_data"
    }
   ],
   "source": [
    "# We can visualize where the classifier is making errors using a confusion matrix\n",
    "import matplotlib.pyplot as plt\n",
    "from sklearn.metrics import confusion_matrix\n",
    "import seaborn as sns\n",
    "\n",
    "conf_mx = confusion_matrix(y_test, y_test_pred)\n",
    "conf_df= pd.DataFrame(conf_mx, index=classifier.classes_, columns=classifier.classes_)\n",
    "sns.heatmap(conf_df, annot=True, cmap=\"Blues\")\n",
    "plt.title(\"Confusion Matrix\")\n",
    "plt.tight_layout()\n",
    "plt.ylabel(\"True Class\")\n",
    "plt.xlabel(\"Predicted Class\")\n",
    "plt.show()"
   ]
  },
  {
   "cell_type": "markdown",
   "metadata": {},
   "source": [
    "# Search for a Model that Fits Better"
   ]
  },
  {
   "cell_type": "code",
   "execution_count": 37,
   "metadata": {},
   "outputs": [],
   "source": [
    "param_grid = {'C': [0.01, 0.1, 1, 5, 10, 50]}"
   ]
  },
  {
   "cell_type": "code",
   "execution_count": 38,
   "metadata": {},
   "outputs": [],
   "source": [
    "grid = GridSearchCV(classifier, param_grid, verbose=3, n_jobs=-1)"
   ]
  },
  {
   "cell_type": "code",
   "execution_count": 39,
   "metadata": {},
   "outputs": [
    {
     "name": "stderr",
     "output_type": "stream",
     "text": [
      "C:\\Users\\dadra\\anaconda\\Anaconda3\\envs\\PythonWebMongo\\lib\\site-packages\\sklearn\\model_selection\\_split.py:2053: FutureWarning: You should specify a value for 'cv' instead of relying on the default value. The default value will change from 3 to 5 in version 0.22.\n",
      "  warnings.warn(CV_WARNING, FutureWarning)\n",
      "[Parallel(n_jobs=-1)]: Using backend LokyBackend with 12 concurrent workers.\n"
     ]
    },
    {
     "name": "stdout",
     "output_type": "stream",
     "text": [
      "Fitting 3 folds for each of 6 candidates, totalling 18 fits\n"
     ]
    },
    {
     "name": "stderr",
     "output_type": "stream",
     "text": [
      "[Parallel(n_jobs=-1)]: Done   2 out of  18 | elapsed:    5.7s remaining:   46.1s\n",
      "[Parallel(n_jobs=-1)]: Done   9 out of  18 | elapsed:   19.3s remaining:   19.3s\n",
      "[Parallel(n_jobs=-1)]: Done  16 out of  18 | elapsed:   28.4s remaining:    3.5s\n",
      "[Parallel(n_jobs=-1)]: Done  18 out of  18 | elapsed:   31.4s finished\n",
      "[Parallel(n_jobs=-1)]: Using backend ThreadingBackend with 12 concurrent workers.\n"
     ]
    },
    {
     "name": "stdout",
     "output_type": "stream",
     "text": [
      "convergence after 805 epochs took 9 seconds\n"
     ]
    },
    {
     "name": "stderr",
     "output_type": "stream",
     "text": [
      "[Parallel(n_jobs=-1)]: Done   1 out of   1 | elapsed:    8.7s finished\n"
     ]
    },
    {
     "data": {
      "text/plain": [
       "GridSearchCV(cv='warn', error_score='raise-deprecating',\n",
       "       estimator=LogisticRegression(C=1.0, class_weight=None, dual=False, fit_intercept=True,\n",
       "          intercept_scaling=1, max_iter=10000, multi_class='auto',\n",
       "          n_jobs=-1, penalty='l1', random_state=None, solver='saga',\n",
       "          tol=0.0001, verbose=3, warm_start=False),\n",
       "       fit_params=None, iid='warn', n_jobs=-1,\n",
       "       param_grid={'C': [0.01, 0.1, 1, 5, 10, 50]},\n",
       "       pre_dispatch='2*n_jobs', refit=True, return_train_score='warn',\n",
       "       scoring=None, verbose=3)"
      ]
     },
     "execution_count": 39,
     "metadata": {},
     "output_type": "execute_result"
    }
   ],
   "source": [
    "grid.fit(X_train_prepared, y_train)"
   ]
  },
  {
   "cell_type": "code",
   "execution_count": 40,
   "metadata": {},
   "outputs": [
    {
     "data": {
      "text/plain": [
       "{'C': 1}"
      ]
     },
     "execution_count": 40,
     "metadata": {},
     "output_type": "execute_result"
    }
   ],
   "source": [
    "grid.best_params_"
   ]
  },
  {
   "cell_type": "code",
   "execution_count": 41,
   "metadata": {},
   "outputs": [],
   "source": [
    "param_grid = {'C': [0.5, 0.75, 1.0, 1.25, 2.0]}"
   ]
  },
  {
   "cell_type": "code",
   "execution_count": 42,
   "metadata": {},
   "outputs": [
    {
     "name": "stderr",
     "output_type": "stream",
     "text": [
      "C:\\Users\\dadra\\anaconda\\Anaconda3\\envs\\PythonWebMongo\\lib\\site-packages\\sklearn\\model_selection\\_split.py:2053: FutureWarning: You should specify a value for 'cv' instead of relying on the default value. The default value will change from 3 to 5 in version 0.22.\n",
      "  warnings.warn(CV_WARNING, FutureWarning)\n",
      "[Parallel(n_jobs=-1)]: Using backend LokyBackend with 12 concurrent workers.\n"
     ]
    },
    {
     "name": "stdout",
     "output_type": "stream",
     "text": [
      "Fitting 3 folds for each of 5 candidates, totalling 15 fits\n"
     ]
    },
    {
     "name": "stderr",
     "output_type": "stream",
     "text": [
      "[Parallel(n_jobs=-1)]: Done   4 out of  15 | elapsed:   18.1s remaining:   50.0s\n",
      "[Parallel(n_jobs=-1)]: Done  10 out of  15 | elapsed:   20.0s remaining:    9.9s\n",
      "[Parallel(n_jobs=-1)]: Done  15 out of  15 | elapsed:   30.1s finished\n",
      "[Parallel(n_jobs=-1)]: Using backend ThreadingBackend with 12 concurrent workers.\n"
     ]
    },
    {
     "name": "stdout",
     "output_type": "stream",
     "text": [
      "convergence after 770 epochs took 9 seconds\n"
     ]
    },
    {
     "name": "stderr",
     "output_type": "stream",
     "text": [
      "[Parallel(n_jobs=-1)]: Done   1 out of   1 | elapsed:    8.5s finished\n"
     ]
    },
    {
     "data": {
      "text/plain": [
       "GridSearchCV(cv='warn', error_score='raise-deprecating',\n",
       "       estimator=LogisticRegression(C=1.0, class_weight=None, dual=False, fit_intercept=True,\n",
       "          intercept_scaling=1, max_iter=10000, multi_class='auto',\n",
       "          n_jobs=-1, penalty='l1', random_state=None, solver='saga',\n",
       "          tol=0.0001, verbose=3, warm_start=False),\n",
       "       fit_params=None, iid='warn', n_jobs=-1,\n",
       "       param_grid={'C': [0.5, 0.75, 1.0, 1.25, 2.0]},\n",
       "       pre_dispatch='2*n_jobs', refit=True, return_train_score='warn',\n",
       "       scoring=None, verbose=3)"
      ]
     },
     "execution_count": 42,
     "metadata": {},
     "output_type": "execute_result"
    }
   ],
   "source": [
    "grid = GridSearchCV(classifier, param_grid, verbose=3, n_jobs=-1)\n",
    "grid.fit(X_train_prepared, y_train)"
   ]
  },
  {
   "cell_type": "code",
   "execution_count": 43,
   "metadata": {},
   "outputs": [
    {
     "data": {
      "text/plain": [
       "{'C': 0.5}"
      ]
     },
     "execution_count": 43,
     "metadata": {},
     "output_type": "execute_result"
    }
   ],
   "source": [
    "grid.best_params_"
   ]
  },
  {
   "cell_type": "code",
   "execution_count": 44,
   "metadata": {},
   "outputs": [
    {
     "data": {
      "text/plain": [
       "0.9518619436875567"
      ]
     },
     "execution_count": 44,
     "metadata": {},
     "output_type": "execute_result"
    }
   ],
   "source": [
    "grid.best_score_"
   ]
  },
  {
   "cell_type": "code",
   "execution_count": 45,
   "metadata": {},
   "outputs": [
    {
     "name": "stderr",
     "output_type": "stream",
     "text": [
      "C:\\Users\\dadra\\anaconda\\Anaconda3\\envs\\PythonWebMongo\\lib\\site-packages\\sklearn\\model_selection\\_split.py:2053: FutureWarning: You should specify a value for 'cv' instead of relying on the default value. The default value will change from 3 to 5 in version 0.22.\n",
      "  warnings.warn(CV_WARNING, FutureWarning)\n",
      "[Parallel(n_jobs=-1)]: Using backend LokyBackend with 12 concurrent workers.\n"
     ]
    },
    {
     "name": "stdout",
     "output_type": "stream",
     "text": [
      "Fitting 3 folds for each of 3 candidates, totalling 9 fits\n"
     ]
    },
    {
     "name": "stderr",
     "output_type": "stream",
     "text": [
      "[Parallel(n_jobs=-1)]: Done   2 out of   9 | elapsed:    9.5s remaining:   33.4s\n",
      "[Parallel(n_jobs=-1)]: Done   6 out of   9 | elapsed:   11.6s remaining:    5.7s\n",
      "[Parallel(n_jobs=-1)]: Done   9 out of   9 | elapsed:   12.7s finished\n",
      "[Parallel(n_jobs=-1)]: Using backend ThreadingBackend with 12 concurrent workers.\n"
     ]
    },
    {
     "name": "stdout",
     "output_type": "stream",
     "text": [
      "convergence after 770 epochs took 8 seconds\n"
     ]
    },
    {
     "name": "stderr",
     "output_type": "stream",
     "text": [
      "[Parallel(n_jobs=-1)]: Done   1 out of   1 | elapsed:    8.0s finished\n"
     ]
    },
    {
     "data": {
      "text/plain": [
       "GridSearchCV(cv='warn', error_score='raise-deprecating',\n",
       "       estimator=LogisticRegression(C=1.0, class_weight=None, dual=False, fit_intercept=True,\n",
       "          intercept_scaling=1, max_iter=10000, multi_class='auto',\n",
       "          n_jobs=-1, penalty='l1', random_state=None, solver='saga',\n",
       "          tol=0.0001, verbose=3, warm_start=False),\n",
       "       fit_params=None, iid='warn', n_jobs=-1,\n",
       "       param_grid={'C': [0.1, 0.25, 0.5]}, pre_dispatch='2*n_jobs',\n",
       "       refit=True, return_train_score='warn', scoring=None, verbose=3)"
      ]
     },
     "execution_count": 45,
     "metadata": {},
     "output_type": "execute_result"
    }
   ],
   "source": [
    "param_grid = {'C': [0.1, 0.25, 0.5]}\n",
    "grid = GridSearchCV(classifier, param_grid, verbose=3, n_jobs=-1)\n",
    "grid.fit(X_train_prepared, y_train)"
   ]
  },
  {
   "cell_type": "code",
   "execution_count": 46,
   "metadata": {},
   "outputs": [
    {
     "data": {
      "text/plain": [
       "{'C': 0.5}"
      ]
     },
     "execution_count": 46,
     "metadata": {},
     "output_type": "execute_result"
    }
   ],
   "source": [
    "grid.best_params_"
   ]
  },
  {
   "cell_type": "markdown",
   "metadata": {},
   "source": [
    "# Look at the Coefficients for the Model"
   ]
  },
  {
   "cell_type": "code",
   "execution_count": 47,
   "metadata": {
    "scrolled": false
   },
   "outputs": [
    {
     "name": "stdout",
     "output_type": "stream",
     "text": [
      "(1.405703812270731, 'V6301_YES')\n",
      "(0.3352223221274035, 'V6305_YES')\n",
      "(0.2671181245853438, 'V5112_VERY')\n",
      "(0.22031080567473357, 'MANLT1_Present')\n",
      "(0.19490744465606258, 'AGOLT2_Present')\n",
      "(0.187354920012867, 'GADLT2_Present')\n",
      "(0.18677025125436397, 'RACE_Other')\n",
      "(0.16174506120081208, 'V5114_NOT AT ALL')\n",
      "(0.16002889217051564, 'V4428_NOT TRUE AT ALL')\n",
      "(0.1574067835723938, 'DEPLT1_Present')\n",
      "(0.14607985652706781, 'V6143_YES')\n",
      "(0.14306933488338724, 'V5114_VERY')\n",
      "(0.11597610119923091, 'CDLT_Present')\n",
      "(0.10503733279461921, 'V6649_YES')\n",
      "(0.10190670082093853, 'V4428_SOMEWHAT TRUE')\n",
      "(0.09376439874700598, 'EMP_Other')\n",
      "(0.08748741857235821, 'DRGDLT_Present')\n",
      "(0.08444230263392431, 'V4433_VERY TRUE')\n",
      "(0.08291378285814878, 'MARSTAT_Marswd')\n",
      "(0.06514503860507423, 'V5114_SOMEWHAT')\n",
      "(0.06350514837099, 'V102_FAIR')\n",
      "(0.06311551277404878, 'EMP_Working, incl. temp. laid off, matern./s')\n",
      "(0.062011612294565255, 'DYSLT2_Present')\n",
      "(0.05925450443116165, 'V4433_nan')\n",
      "(0.05428055300577384, 'V5118_SOMEWHAT')\n",
      "(0.05082971973728185, 'V6749_YES')\n",
      "(0.048182940687969814, 'REL_Other')\n",
      "(0.04603511160559177, 'V5118_NOT AT ALL')\n",
      "(0.04050708922655088, 'V6649_INAP')\n",
      "(0.04036439411734284, 'V102_POOR')\n",
      "(0.028841834091414605, 'V4428_VERY TRUE')\n",
      "(0.02769841821160808, 'V6215_ONLY ONE YES RESPONSE IN U1-U12')\n",
      "(0.02345695425121209, 'DEPLT2_Present')\n",
      "(0.021070168240737604, 'BP1LT1_Present')\n",
      "(0.015240909997301032, 'V4433_SOMEWHAT TRUE')\n",
      "(0.008586678359335631, 'V6126_NO')\n",
      "(0.005086174004186556, 'PTLT_Present')\n",
      "(0.0016084761572354507, 'ALCALT2_Present')\n",
      "(0.0013714895414490762, 'ASPLT1_Present')\n",
      "(0.0, 'V6749_nan')\n",
      "(0.0, 'V6305_nan')\n",
      "(0.0, 'V6301_nan')\n",
      "(0.0, 'V6215_nan')\n",
      "(0.0, 'V6215_TWO OR MORE YES RESPONSES IN U1-U12')\n",
      "(0.0, 'V6126_YES')\n",
      "(0.0, 'V6114_nan')\n",
      "(0.0, 'V6114_YES')\n",
      "(0.0, 'V5918_nan')\n",
      "(0.0, 'V5225_A LOT')\n",
      "(0.0, 'V5118_INAP')\n",
      "(0.0, 'V5118_DK')\n",
      "(0.0, 'V5115_INAP')\n",
      "(0.0, 'V5115_DK')\n",
      "(0.0, 'V5114_INAP')\n",
      "(0.0, 'V5114_DK')\n",
      "(0.0, 'V5113_INAP')\n",
      "(0.0, 'V5112_nan')\n",
      "(0.0, 'V5112_SOMEWHAT')\n",
      "(0.0, 'V5112_NOT AT ALL')\n",
      "(0.0, 'V5112_INAP')\n",
      "(0.0, 'V5112_DK')\n",
      "(0.0, 'V4433_INAP')\n",
      "(0.0, 'V4433_DK')\n",
      "(0.0, 'V4428_INAP')\n",
      "(0.0, 'V4428_DK')\n",
      "(0.0, 'V102_nan')\n",
      "(0.0, 'V101_nan')\n",
      "(0.0, 'SOCLT_nan')\n",
      "(0.0, 'SOCLT_Present')\n",
      "(0.0, 'SIMLT_nan')\n",
      "(0.0, 'SEX_nan')\n",
      "(0.0, 'REL_nan')\n",
      "(0.0, 'RACE_nan')\n",
      "(0.0, 'RACE_Hispanic')\n",
      "(0.0, 'PTSDLT_nan')\n",
      "(0.0, 'PTLT_nan')\n",
      "(0.0, 'PDLT_nan')\n",
      "(0.0, 'NAPLT_nan')\n",
      "(0.0, 'MARSTAT_nan')\n",
      "(0.0, 'MANLT2_nan')\n",
      "(0.0, 'MANLT1_nan')\n",
      "(0.0, 'GADLT2_nan')\n",
      "(0.0, 'GADLT1_nan')\n",
      "(0.0, 'EMP_nan')\n",
      "(0.0, 'EDCAT_nan')\n",
      "(0.0, 'DYSLT2_nan')\n",
      "(0.0, 'DYSLT1_nan')\n",
      "(0.0, 'DRGDLT_nan')\n",
      "(0.0, 'DRGALT2_nan')\n",
      "(0.0, 'DRGALT1_nan')\n",
      "(0.0, 'DRGALT1_Present')\n",
      "(0.0, 'DEPLT2_nan')\n",
      "(0.0, 'DEPLT1_nan')\n",
      "(0.0, 'CDLT_nan')\n",
      "(0.0, 'BP1LT2_nan')\n",
      "(0.0, 'BP1LT1_nan')\n",
      "(0.0, 'ASPLT2_nan')\n",
      "(0.0, 'ASPLT2_Present')\n",
      "(0.0, 'ASPLT1_nan')\n",
      "(0.0, 'ALCDLT_nan')\n",
      "(0.0, 'ALCALT2_nan')\n",
      "(0.0, 'ALCALT1_nan')\n",
      "(0.0, 'AGOLT2_nan')\n",
      "(0.0, 'AGOLT1_nan')\n",
      "(0.0, 'AABLT_nan')\n",
      "(0.0, 'AABLT_Present')\n",
      "(-4.3792614336451575e-09, 'ALCALT1_Present')\n",
      "(-6.189127774912484e-05, 'PDLT_Present')\n",
      "(-0.0022437033962745445, 'BP1LT2_Present')\n",
      "(-0.0026680125780015793, 'GADLT1_Present')\n",
      "(-0.0078017820139745335, 'V6749_NO')\n",
      "(-0.008203806858502033, 'ALCDLT_Present')\n",
      "(-0.012548959620373385, 'V5918_RARELY')\n",
      "(-0.014238671801721343, 'DYSLT1_Present')\n",
      "(-0.019657947337533187, 'V101_GOOD')\n",
      "(-0.01971568015411971, 'REL_Protestant')\n",
      "(-0.022318621559910382, 'V102_GOOD')\n",
      "(-0.024668097014764495, 'V5115_nan')\n",
      "(-0.027327036902896503, 'V5918_OFTEN')\n",
      "(-0.028427557945102683, 'DRGALT2_Present')\n",
      "(-0.031782700925540024, 'V101_VERY GOOD')\n",
      "(-0.03180425889168251, 'V6649_nan')\n",
      "(-0.04131970378340204, 'NAPLT_Present')\n",
      "(-0.04317463541935023, 'V6749_INAP')\n",
      "(-0.04331059762929013, 'V5113_nan')\n",
      "(-0.04409823261316062, 'REL_No Preference, None')\n",
      "(-0.045512862368752564, 'PTSDLT_Present')\n",
      "(-0.06548163878321532, 'V5114_nan')\n",
      "(-0.06558426381372447, 'V6126_nan')\n",
      "(-0.072079539972884, 'V101_FAIR')\n",
      "(-0.07365587155458184, 'V5115_VERY')\n",
      "(-0.07554611205687609, 'V6649_NO')\n",
      "(-0.07581536683103464, 'V5113_NOT AT ALL')\n",
      "(-0.0763143332665447, 'V5115_SOMEWHAT')\n",
      "(-0.07755640720234999, 'AGOLT1_Present')\n",
      "(-0.08034999051940162, 'V101_POOR')\n",
      "(-0.08598988794640758, 'V4433_NOT TRUE AT ALL')\n",
      "(-0.08725683116114903, 'V5115_NOT AT ALL')\n",
      "(-0.09134989171199648, 'V6143_nan')\n",
      "(-0.10197774432451405, 'V5225_SOME')\n",
      "(-0.10326360939887179, 'RACE_White')\n",
      "(-0.10470480896369988, 'EMP_Student')\n",
      "(-0.1084265363142451, 'AGE')\n",
      "(-0.11341981834248227, 'V5113_SOMEWHAT')\n",
      "(-0.11563431507087796, 'V5118_VERY')\n",
      "(-0.12914883253025136, 'V5225_NOT AT ALL')\n",
      "(-0.15262054762584326, 'MANLT2_Present')\n",
      "(-0.15988760994935408, 'V5918_SOMETIMES')\n",
      "(-0.1717779338449285, 'MARSTAT_Marnev')\n",
      "(-0.17285336745134225, 'SEX_Male')\n",
      "(-0.17403082831266203, 'SIMLT_Present')\n",
      "(-0.17628401943347866, 'EDCAT_12 Years')\n",
      "(-0.18033489401509195, 'V102_VERY GOOD')\n",
      "(-0.20160868214576103, 'V6114_NO')\n",
      "(-0.2142356450200656, 'V5113_VERY')\n",
      "(-0.24344419753797647, 'V5118_nan')\n",
      "(-0.2693705527928723, 'V5225_nan')\n",
      "(-0.28279116592730885, 'V4428_nan')\n",
      "(-0.28704678553078117, 'V5225_INAP')\n",
      "(-0.4396296944457304, 'EDCAT_13-15 Years')\n",
      "(-0.7817613297772439, 'EDCAT_16+ Years')\n"
     ]
    }
   ],
   "source": [
    "# The estimated coefficients\n",
    "final_model = grid.best_estimator_\n",
    "fit_coefs = final_model.coef_\n",
    "\n",
    "for feat_imp in sorted(zip(fit_coefs[0], attributes), reverse=True):\n",
    "    print(feat_imp)"
   ]
  },
  {
   "cell_type": "code",
   "execution_count": 48,
   "metadata": {},
   "outputs": [],
   "source": [
    "final_model = grid.best_estimator_"
   ]
  },
  {
   "cell_type": "code",
   "execution_count": 49,
   "metadata": {},
   "outputs": [
    {
     "name": "stdout",
     "output_type": "stream",
     "text": [
      "              precision    recall  f1-score   support\n",
      "\n",
      "          NO       0.97      0.98      0.98      1376\n",
      "         YES       0.69      0.50      0.58        92\n",
      "\n",
      "   micro avg       0.95      0.95      0.95      1468\n",
      "   macro avg       0.83      0.74      0.78      1468\n",
      "weighted avg       0.95      0.95      0.95      1468\n",
      "\n"
     ]
    }
   ],
   "source": [
    "y_test_pred = final_model.predict(X_test_prepared)\n",
    "print(classification_report(y_test, y_test_pred))"
   ]
  },
  {
   "cell_type": "markdown",
   "metadata": {},
   "source": [
    "# The ROC Curve for our Classifier"
   ]
  },
  {
   "cell_type": "code",
   "execution_count": 51,
   "metadata": {},
   "outputs": [],
   "source": [
    "from sklearn.model_selection import cross_val_predict\n",
    "y_scores = cross_val_predict(final_model, X_train_prepared, y_train, cv=3, method=\"decision_function\", n_jobs=-1)"
   ]
  },
  {
   "cell_type": "code",
   "execution_count": 52,
   "metadata": {},
   "outputs": [],
   "source": [
    "y_train_0 = pd.get_dummies(y_train, drop_first=True).values"
   ]
  },
  {
   "cell_type": "code",
   "execution_count": 54,
   "metadata": {},
   "outputs": [],
   "source": [
    "from sklearn.metrics import roc_curve\n",
    "fpr, tpr, thresholds = roc_curve(y_train_0, y_scores)"
   ]
  },
  {
   "cell_type": "code",
   "execution_count": 55,
   "metadata": {},
   "outputs": [
    {
     "data": {
      "image/png": "[encoded data removed]",
      "text/plain": [
       "<Figure size 864x576 with 1 Axes>"
      ]
     },
     "metadata": {
      "needs_background": "light"
     },
     "output_type": "display_data"
    }
   ],
   "source": [
    "def plot_roc_curve(fpr, tpr, label=None):\n",
    "    plt.figure(figsize=(12,8))\n",
    "    plt.plot(fpr, tpr, linewidth=2, label=label)\n",
    "    plt.plot([0,1],[0,1], 'k--')\n",
    "    plt.axis([0,1,0,1])\n",
    "    plt.xlabel('False Positive Rate')\n",
    "    plt.ylabel('True Positive Rate')\n",
    "    \n",
    "plot_roc_curve(fpr, tpr)\n",
    "plt.show()"
   ]
  },
  {
   "cell_type": "code",
   "execution_count": null,
   "metadata": {},
   "outputs": [],
   "source": []
  },
  {
   "cell_type": "code",
   "execution_count": 56,
   "metadata": {},
   "outputs": [],
   "source": [
    "from sklearn.metrics import precision_recall_curve"
   ]
  },
  {
   "cell_type": "code",
   "execution_count": 57,
   "metadata": {},
   "outputs": [
    {
     "name": "stderr",
     "output_type": "stream",
     "text": [
      "C:\\Users\\dadra\\anaconda\\Anaconda3\\envs\\PythonWebMongo\\lib\\site-packages\\sklearn\\preprocessing\\label.py:235: DataConversionWarning: A column-vector y was passed when a 1d array was expected. Please change the shape of y to (n_samples, ), for example using ravel().\n",
      "  y = column_or_1d(y, warn=True)\n"
     ]
    }
   ],
   "source": [
    "y_scores = cross_val_predict(final_model, X_train_prepared, y_train_0.reshape((-1,1)), cv=3, method=\"decision_function\", n_jobs=-1)\n",
    "precisions, recalls, thresholds = precision_recall_curve(y_train_0, y_scores)"
   ]
  },
  {
   "cell_type": "code",
   "execution_count": 58,
   "metadata": {},
   "outputs": [],
   "source": [
    "def plot_precision_recall_vs_threshold(precisions, recalls, thresholds):\n",
    "    plt.figure(figsize=(12,8))\n",
    "    plt.plot(thresholds, precisions[:-1], 'b--', label=\"Precision\")\n",
    "    plt.plot(thresholds, recalls[:-1], 'g-', label=\"Recall\")\n",
    "    plt.xlabel(\"Threshold\")\n",
    "    plt.legend(loc=\"center left\")\n",
    "    plt.ylim([0, 1])"
   ]
  },
  {
   "cell_type": "code",
   "execution_count": 59,
   "metadata": {
    "scrolled": false
   },
   "outputs": [
    {
     "data": {
      "image/png": "[encoded data removed]",
      "text/plain": [
       "<Figure size 864x576 with 1 Axes>"
      ]
     },
     "metadata": {
      "needs_background": "light"
     },
     "output_type": "display_data"
    }
   ],
   "source": [
    "plot_precision_recall_vs_threshold(precisions, recalls, thresholds)\n",
    "plt.show()"
   ]
  },
  {
   "cell_type": "code",
   "execution_count": 60,
   "metadata": {},
   "outputs": [
    {
     "data": {
      "text/plain": [
       "<Figure size 432x288 with 0 Axes>"
      ]
     },
     "metadata": {},
     "output_type": "display_data"
    }
   ],
   "source": [
    "plt.savefig(\"newprecvsrecall.png\")"
   ]
  },
  {
   "cell_type": "markdown",
   "metadata": {},
   "source": [
    "# Compare the ROC Curves - Random Forest and L1 Logistic Regression"
   ]
  },
  {
   "cell_type": "code",
   "execution_count": 61,
   "metadata": {},
   "outputs": [
    {
     "name": "stderr",
     "output_type": "stream",
     "text": [
      "C:\\Users\\dadra\\anaconda\\Anaconda3\\envs\\PythonWebMongo\\lib\\site-packages\\sklearn\\preprocessing\\label.py:235: DataConversionWarning: A column-vector y was passed when a 1d array was expected. Please change the shape of y to (n_samples, ), for example using ravel().\n",
      "  y = column_or_1d(y, warn=True)\n"
     ]
    }
   ],
   "source": [
    "y_probas_forest = cross_val_predict(grid_rf.best_estimator_, X_train_prepared, y_train_0, cv=3, method=\"predict_proba\")"
   ]
  },
  {
   "cell_type": "code",
   "execution_count": 62,
   "metadata": {},
   "outputs": [],
   "source": [
    "y_scores_forest = y_probas_forest[:,1]\n",
    "fpr_forest, tpr_forest, thresholds_forest = roc_curve(y_train_0, y_scores_forest)"
   ]
  },
  {
   "cell_type": "code",
   "execution_count": 63,
   "metadata": {},
   "outputs": [
    {
     "data": {
      "image/png": "[encoded data removed]",
      "text/plain": [
       "<Figure size 864x576 with 1 Axes>"
      ]
     },
     "metadata": {
      "needs_background": "light"
     },
     "output_type": "display_data"
    }
   ],
   "source": [
    "plot_roc_curve(fpr_forest, tpr_forest, \"Random Forest\")\n",
    "plt.plot(fpr, tpr, \"b:\", label=\"L1 Logistic\")\n",
    "plt.legend(loc=\"lower right\")\n",
    "plt.show()"
   ]
  },
  {
   "cell_type": "markdown",
   "metadata": {},
   "source": [
    "# AdaBoost"
   ]
  },
  {
   "cell_type": "code",
   "execution_count": 64,
   "metadata": {},
   "outputs": [
    {
     "data": {
      "text/plain": [
       "AdaBoostClassifier(algorithm='SAMME.R',\n",
       "          base_estimator=DecisionTreeClassifier(class_weight=None, criterion='gini', max_depth=1,\n",
       "            max_features=None, max_leaf_nodes=None,\n",
       "            min_impurity_decrease=0.0, min_impurity_split=None,\n",
       "            min_samples_leaf=1, min_samples_split=2,\n",
       "            min_weight_fraction_leaf=0.0, presort=False, random_state=None,\n",
       "            splitter='best'),\n",
       "          learning_rate=0.5, n_estimators=500, random_state=None)"
      ]
     },
     "execution_count": 64,
     "metadata": {},
     "output_type": "execute_result"
    }
   ],
   "source": [
    "from sklearn.ensemble import AdaBoostClassifier\n",
    "\n",
    "ada_clf =  AdaBoostClassifier(\n",
    "    DecisionTreeClassifier(max_depth=1), n_estimators=500,\n",
    "                           algorithm=\"SAMME.R\", learning_rate=0.5)\n",
    "ada_clf.fit(X_train_prepared, y_train)"
   ]
  },
  {
   "cell_type": "code",
   "execution_count": 65,
   "metadata": {},
   "outputs": [
    {
     "name": "stdout",
     "output_type": "stream",
     "text": [
      "Training Data Score: 0.9543596730245232\n",
      "Testing Data Score: 0.944141689373297\n"
     ]
    }
   ],
   "source": [
    "print(f\"Training Data Score: {ada_clf.score(X_train_prepared, y_train)}\")\n",
    "print(f\"Testing Data Score: {ada_clf.score(X_test_prepared, y_test)}\")"
   ]
  },
  {
   "cell_type": "code",
   "execution_count": 66,
   "metadata": {},
   "outputs": [
    {
     "name": "stdout",
     "output_type": "stream",
     "text": [
      "              precision    recall  f1-score   support\n",
      "\n",
      "          NO       0.96      0.98      0.97      1376\n",
      "         YES       0.57      0.43      0.49        92\n",
      "\n",
      "   micro avg       0.94      0.94      0.94      1468\n",
      "   macro avg       0.77      0.71      0.73      1468\n",
      "weighted avg       0.94      0.94      0.94      1468\n",
      "\n"
     ]
    }
   ],
   "source": [
    "print(classification_report(y_test, ada_clf.predict(X_test_prepared)))"
   ]
  },
  {
   "cell_type": "code",
   "execution_count": 67,
   "metadata": {},
   "outputs": [
    {
     "name": "stderr",
     "output_type": "stream",
     "text": [
      "C:\\Users\\dadra\\anaconda\\Anaconda3\\envs\\PythonWebMongo\\lib\\site-packages\\sklearn\\model_selection\\_split.py:2053: FutureWarning: You should specify a value for 'cv' instead of relying on the default value. The default value will change from 3 to 5 in version 0.22.\n",
      "  warnings.warn(CV_WARNING, FutureWarning)\n",
      "[Parallel(n_jobs=-1)]: Using backend LokyBackend with 12 concurrent workers.\n"
     ]
    },
    {
     "name": "stdout",
     "output_type": "stream",
     "text": [
      "Fitting 3 folds for each of 5 candidates, totalling 15 fits\n"
     ]
    },
    {
     "name": "stderr",
     "output_type": "stream",
     "text": [
      "[Parallel(n_jobs=-1)]: Done   4 out of  15 | elapsed:    9.7s remaining:   26.9s\n",
      "[Parallel(n_jobs=-1)]: Done  10 out of  15 | elapsed:   15.8s remaining:    7.8s\n",
      "[Parallel(n_jobs=-1)]: Done  15 out of  15 | elapsed:   21.6s finished\n"
     ]
    },
    {
     "data": {
      "text/plain": [
       "GridSearchCV(cv='warn', error_score='raise-deprecating',\n",
       "       estimator=AdaBoostClassifier(algorithm='SAMME.R',\n",
       "          base_estimator=DecisionTreeClassifier(class_weight=None, criterion='gini', max_depth=1,\n",
       "            max_features=None, max_leaf_nodes=None,\n",
       "            min_impurity_decrease=0.0, min_impurity_split=None,\n",
       "            min_samples_leaf=1, min_samples_split=2,\n",
       "            min_weight_fraction_leaf=0.0, presort=False, random_state=None,\n",
       "            splitter='best'),\n",
       "          learning_rate=0.5, n_estimators=500, random_state=None),\n",
       "       fit_params=None, iid='warn', n_jobs=-1,\n",
       "       param_grid={'n_estimators': [250, 500, 750, 1000, 1500]},\n",
       "       pre_dispatch='2*n_jobs', refit=True, return_train_score='warn',\n",
       "       scoring=None, verbose=3)"
      ]
     },
     "execution_count": 67,
     "metadata": {},
     "output_type": "execute_result"
    }
   ],
   "source": [
    "param_grid = {'n_estimators': [250, 500, 750, 1000, 1500]}\n",
    "grid_ada = GridSearchCV(ada_clf, param_grid, verbose=3, n_jobs=-1)\n",
    "grid_ada.fit(X_train_prepared, y_train)"
   ]
  },
  {
   "cell_type": "code",
   "execution_count": 68,
   "metadata": {},
   "outputs": [
    {
     "data": {
      "text/plain": [
       "0.9459582198001817"
      ]
     },
     "execution_count": 68,
     "metadata": {},
     "output_type": "execute_result"
    }
   ],
   "source": [
    "grid_ada.best_score_"
   ]
  },
  {
   "cell_type": "code",
   "execution_count": 69,
   "metadata": {},
   "outputs": [
    {
     "data": {
      "text/plain": [
       "{'n_estimators': 250}"
      ]
     },
     "execution_count": 69,
     "metadata": {},
     "output_type": "execute_result"
    }
   ],
   "source": [
    "grid_ada.best_params_"
   ]
  },
  {
   "cell_type": "code",
   "execution_count": 70,
   "metadata": {},
   "outputs": [
    {
     "name": "stderr",
     "output_type": "stream",
     "text": [
      "C:\\Users\\dadra\\anaconda\\Anaconda3\\envs\\PythonWebMongo\\lib\\site-packages\\sklearn\\model_selection\\_split.py:2053: FutureWarning: You should specify a value for 'cv' instead of relying on the default value. The default value will change from 3 to 5 in version 0.22.\n",
      "  warnings.warn(CV_WARNING, FutureWarning)\n",
      "[Parallel(n_jobs=-1)]: Using backend LokyBackend with 12 concurrent workers.\n"
     ]
    },
    {
     "name": "stdout",
     "output_type": "stream",
     "text": [
      "Fitting 3 folds for each of 5 candidates, totalling 15 fits\n"
     ]
    },
    {
     "name": "stderr",
     "output_type": "stream",
     "text": [
      "[Parallel(n_jobs=-1)]: Done   4 out of  15 | elapsed:    2.9s remaining:    8.2s\n",
      "[Parallel(n_jobs=-1)]: Done  10 out of  15 | elapsed:    4.1s remaining:    2.0s\n",
      "[Parallel(n_jobs=-1)]: Done  15 out of  15 | elapsed:    5.2s finished\n"
     ]
    },
    {
     "data": {
      "text/plain": [
       "GridSearchCV(cv='warn', error_score='raise-deprecating',\n",
       "       estimator=AdaBoostClassifier(algorithm='SAMME.R',\n",
       "          base_estimator=DecisionTreeClassifier(class_weight=None, criterion='gini', max_depth=1,\n",
       "            max_features=None, max_leaf_nodes=None,\n",
       "            min_impurity_decrease=0.0, min_impurity_split=None,\n",
       "            min_samples_leaf=1, min_samples_split=2,\n",
       "            min_weight_fraction_leaf=0.0, presort=False, random_state=None,\n",
       "            splitter='best'),\n",
       "          learning_rate=0.5, n_estimators=500, random_state=None),\n",
       "       fit_params=None, iid='warn', n_jobs=-1,\n",
       "       param_grid={'n_estimators': [100, 150, 200, 250, 300]},\n",
       "       pre_dispatch='2*n_jobs', refit=True, return_train_score='warn',\n",
       "       scoring=None, verbose=3)"
      ]
     },
     "execution_count": 70,
     "metadata": {},
     "output_type": "execute_result"
    }
   ],
   "source": [
    "param_grid = {'n_estimators': [100, 150, 200, 250, 300]}\n",
    "grid_ada = GridSearchCV(ada_clf, param_grid, verbose=3, n_jobs=-1)\n",
    "grid_ada.fit(X_train_prepared, y_train)"
   ]
  },
  {
   "cell_type": "code",
   "execution_count": 71,
   "metadata": {},
   "outputs": [
    {
     "data": {
      "text/plain": [
       "{'n_estimators': 100}"
      ]
     },
     "execution_count": 71,
     "metadata": {},
     "output_type": "execute_result"
    }
   ],
   "source": [
    "grid_ada.best_params_"
   ]
  },
  {
   "cell_type": "code",
   "execution_count": 72,
   "metadata": {},
   "outputs": [
    {
     "name": "stderr",
     "output_type": "stream",
     "text": [
      "C:\\Users\\dadra\\anaconda\\Anaconda3\\envs\\PythonWebMongo\\lib\\site-packages\\sklearn\\model_selection\\_split.py:2053: FutureWarning: You should specify a value for 'cv' instead of relying on the default value. The default value will change from 3 to 5 in version 0.22.\n",
      "  warnings.warn(CV_WARNING, FutureWarning)\n",
      "[Parallel(n_jobs=-1)]: Using backend LokyBackend with 12 concurrent workers.\n"
     ]
    },
    {
     "name": "stdout",
     "output_type": "stream",
     "text": [
      "Fitting 3 folds for each of 3 candidates, totalling 9 fits\n"
     ]
    },
    {
     "name": "stderr",
     "output_type": "stream",
     "text": [
      "[Parallel(n_jobs=-1)]: Done   2 out of   9 | elapsed:    0.7s remaining:    2.5s\n",
      "[Parallel(n_jobs=-1)]: Done   6 out of   9 | elapsed:    0.9s remaining:    0.4s\n",
      "[Parallel(n_jobs=-1)]: Done   9 out of   9 | elapsed:    1.1s finished\n"
     ]
    },
    {
     "data": {
      "text/plain": [
       "GridSearchCV(cv='warn', error_score='raise-deprecating',\n",
       "       estimator=AdaBoostClassifier(algorithm='SAMME.R',\n",
       "          base_estimator=DecisionTreeClassifier(class_weight=None, criterion='gini', max_depth=1,\n",
       "            max_features=None, max_leaf_nodes=None,\n",
       "            min_impurity_decrease=0.0, min_impurity_split=None,\n",
       "            min_samples_leaf=1, min_samples_split=2,\n",
       "            min_weight_fraction_leaf=0.0, presort=False, random_state=None,\n",
       "            splitter='best'),\n",
       "          learning_rate=0.5, n_estimators=500, random_state=None),\n",
       "       fit_params=None, iid='warn', n_jobs=-1,\n",
       "       param_grid={'n_estimators': [50, 75, 100]}, pre_dispatch='2*n_jobs',\n",
       "       refit=True, return_train_score='warn', scoring=None, verbose=3)"
      ]
     },
     "execution_count": 72,
     "metadata": {},
     "output_type": "execute_result"
    }
   ],
   "source": [
    "param_grid = {'n_estimators': [50, 75, 100]}\n",
    "grid_ada = GridSearchCV(ada_clf, param_grid, verbose=3, n_jobs=-1)\n",
    "grid_ada.fit(X_train_prepared, y_train)"
   ]
  },
  {
   "cell_type": "code",
   "execution_count": 73,
   "metadata": {},
   "outputs": [
    {
     "data": {
      "text/plain": [
       "{'n_estimators': 75}"
      ]
     },
     "execution_count": 73,
     "metadata": {},
     "output_type": "execute_result"
    }
   ],
   "source": [
    "grid_ada.best_params_"
   ]
  },
  {
   "cell_type": "code",
   "execution_count": 74,
   "metadata": {},
   "outputs": [
    {
     "data": {
      "text/plain": [
       "[(0.09333333333333334, 'V6301_YES'),\n",
       " (0.05333333333333334, 'EDCAT_16+ Years'),\n",
       " (0.04, 'V5225_INAP'),\n",
       " (0.04, 'V5113_VERY'),\n",
       " (0.04, 'V102_VERY GOOD'),\n",
       " (0.04, 'SEX_Male'),\n",
       " (0.04, 'GADLT2_Present'),\n",
       " (0.04, 'EDCAT_13-15 Years'),\n",
       " (0.04, 'AGE'),\n",
       " (0.02666666666666667, 'V6649_YES'),\n",
       " (0.02666666666666667, 'V6305_YES'),\n",
       " (0.02666666666666667, 'V5118_VERY'),\n",
       " (0.02666666666666667, 'V5114_VERY'),\n",
       " (0.02666666666666667, 'V5112_VERY'),\n",
       " (0.02666666666666667, 'V4428_nan'),\n",
       " (0.02666666666666667, 'V4428_NOT TRUE AT ALL'),\n",
       " (0.02666666666666667, 'V101_FAIR'),\n",
       " (0.02666666666666667, 'SIMLT_Present'),\n",
       " (0.02666666666666667, 'RACE_White'),\n",
       " (0.02666666666666667, 'MARSTAT_Marnev'),\n",
       " (0.02666666666666667, 'AABLT_Present'),\n",
       " (0.013333333333333334, 'V6649_NO'),\n",
       " (0.013333333333333334, 'V6215_TWO OR MORE YES RESPONSES IN U1-U12'),\n",
       " (0.013333333333333334, 'V6143_nan'),\n",
       " (0.013333333333333334, 'V6143_YES'),\n",
       " (0.013333333333333334, 'V6114_NO'),\n",
       " (0.013333333333333334, 'V5918_SOMETIMES'),\n",
       " (0.013333333333333334, 'V5225_nan'),\n",
       " (0.013333333333333334, 'V5225_NOT AT ALL'),\n",
       " (0.013333333333333334, 'V5118_nan'),\n",
       " (0.013333333333333334, 'V5118_SOMEWHAT'),\n",
       " (0.013333333333333334, 'V102_POOR'),\n",
       " (0.013333333333333334, 'V102_GOOD'),\n",
       " (0.013333333333333334, 'V102_FAIR'),\n",
       " (0.013333333333333334, 'REL_Other'),\n",
       " (0.013333333333333334, 'RACE_Other'),\n",
       " (0.013333333333333334, 'MANLT1_Present'),\n",
       " (0.013333333333333334, 'DRGDLT_Present'),\n",
       " (0.013333333333333334, 'DEPLT1_Present'),\n",
       " (0.013333333333333334, 'CDLT_Present'),\n",
       " (0.0, 'V6749_nan'),\n",
       " (0.0, 'V6749_YES'),\n",
       " (0.0, 'V6749_NO'),\n",
       " (0.0, 'V6749_INAP'),\n",
       " (0.0, 'V6649_nan'),\n",
       " (0.0, 'V6649_INAP'),\n",
       " (0.0, 'V6305_nan'),\n",
       " (0.0, 'V6301_nan'),\n",
       " (0.0, 'V6215_nan'),\n",
       " (0.0, 'V6215_ONLY ONE YES RESPONSE IN U1-U12'),\n",
       " (0.0, 'V6126_nan'),\n",
       " (0.0, 'V6126_YES'),\n",
       " (0.0, 'V6126_NO'),\n",
       " (0.0, 'V6114_nan'),\n",
       " (0.0, 'V6114_YES'),\n",
       " (0.0, 'V5918_nan'),\n",
       " (0.0, 'V5918_RARELY'),\n",
       " (0.0, 'V5918_OFTEN'),\n",
       " (0.0, 'V5225_SOME'),\n",
       " (0.0, 'V5225_A LOT'),\n",
       " (0.0, 'V5118_NOT AT ALL'),\n",
       " (0.0, 'V5118_INAP'),\n",
       " (0.0, 'V5118_DK'),\n",
       " (0.0, 'V5115_nan'),\n",
       " (0.0, 'V5115_VERY'),\n",
       " (0.0, 'V5115_SOMEWHAT'),\n",
       " (0.0, 'V5115_NOT AT ALL'),\n",
       " (0.0, 'V5115_INAP'),\n",
       " (0.0, 'V5115_DK'),\n",
       " (0.0, 'V5114_nan'),\n",
       " (0.0, 'V5114_SOMEWHAT'),\n",
       " (0.0, 'V5114_NOT AT ALL'),\n",
       " (0.0, 'V5114_INAP'),\n",
       " (0.0, 'V5114_DK'),\n",
       " (0.0, 'V5113_nan'),\n",
       " (0.0, 'V5113_SOMEWHAT'),\n",
       " (0.0, 'V5113_NOT AT ALL'),\n",
       " (0.0, 'V5113_INAP'),\n",
       " (0.0, 'V5112_nan'),\n",
       " (0.0, 'V5112_SOMEWHAT'),\n",
       " (0.0, 'V5112_NOT AT ALL'),\n",
       " (0.0, 'V5112_INAP'),\n",
       " (0.0, 'V5112_DK'),\n",
       " (0.0, 'V4433_nan'),\n",
       " (0.0, 'V4433_VERY TRUE'),\n",
       " (0.0, 'V4433_SOMEWHAT TRUE'),\n",
       " (0.0, 'V4433_NOT TRUE AT ALL'),\n",
       " (0.0, 'V4433_INAP'),\n",
       " (0.0, 'V4433_DK'),\n",
       " (0.0, 'V4428_VERY TRUE'),\n",
       " (0.0, 'V4428_SOMEWHAT TRUE'),\n",
       " (0.0, 'V4428_INAP'),\n",
       " (0.0, 'V4428_DK'),\n",
       " (0.0, 'V102_nan'),\n",
       " (0.0, 'V101_nan'),\n",
       " (0.0, 'V101_VERY GOOD'),\n",
       " (0.0, 'V101_POOR'),\n",
       " (0.0, 'V101_GOOD'),\n",
       " (0.0, 'SOCLT_nan'),\n",
       " (0.0, 'SOCLT_Present'),\n",
       " (0.0, 'SIMLT_nan'),\n",
       " (0.0, 'SEX_nan'),\n",
       " (0.0, 'REL_nan'),\n",
       " (0.0, 'REL_Protestant'),\n",
       " (0.0, 'REL_No Preference, None'),\n",
       " (0.0, 'RACE_nan'),\n",
       " (0.0, 'RACE_Hispanic'),\n",
       " (0.0, 'PTSDLT_nan'),\n",
       " (0.0, 'PTSDLT_Present'),\n",
       " (0.0, 'PTLT_nan'),\n",
       " (0.0, 'PTLT_Present'),\n",
       " (0.0, 'PDLT_nan'),\n",
       " (0.0, 'PDLT_Present'),\n",
       " (0.0, 'NAPLT_nan'),\n",
       " (0.0, 'NAPLT_Present'),\n",
       " (0.0, 'MARSTAT_nan'),\n",
       " (0.0, 'MARSTAT_Marswd'),\n",
       " (0.0, 'MANLT2_nan'),\n",
       " (0.0, 'MANLT2_Present'),\n",
       " (0.0, 'MANLT1_nan'),\n",
       " (0.0, 'GADLT2_nan'),\n",
       " (0.0, 'GADLT1_nan'),\n",
       " (0.0, 'GADLT1_Present'),\n",
       " (0.0, 'EMP_nan'),\n",
       " (0.0, 'EMP_Working, incl. temp. laid off, matern./s'),\n",
       " (0.0, 'EMP_Student'),\n",
       " (0.0, 'EMP_Other'),\n",
       " (0.0, 'EDCAT_nan'),\n",
       " (0.0, 'EDCAT_12 Years'),\n",
       " (0.0, 'DYSLT2_nan'),\n",
       " (0.0, 'DYSLT2_Present'),\n",
       " (0.0, 'DYSLT1_nan'),\n",
       " (0.0, 'DYSLT1_Present'),\n",
       " (0.0, 'DRGDLT_nan'),\n",
       " (0.0, 'DRGALT2_nan'),\n",
       " (0.0, 'DRGALT2_Present'),\n",
       " (0.0, 'DRGALT1_nan'),\n",
       " (0.0, 'DRGALT1_Present'),\n",
       " (0.0, 'DEPLT2_nan'),\n",
       " (0.0, 'DEPLT2_Present'),\n",
       " (0.0, 'DEPLT1_nan'),\n",
       " (0.0, 'CDLT_nan'),\n",
       " (0.0, 'BP1LT2_nan'),\n",
       " (0.0, 'BP1LT2_Present'),\n",
       " (0.0, 'BP1LT1_nan'),\n",
       " (0.0, 'BP1LT1_Present'),\n",
       " (0.0, 'ASPLT2_nan'),\n",
       " (0.0, 'ASPLT2_Present'),\n",
       " (0.0, 'ASPLT1_nan'),\n",
       " (0.0, 'ASPLT1_Present'),\n",
       " (0.0, 'ALCDLT_nan'),\n",
       " (0.0, 'ALCDLT_Present'),\n",
       " (0.0, 'ALCALT2_nan'),\n",
       " (0.0, 'ALCALT2_Present'),\n",
       " (0.0, 'ALCALT1_nan'),\n",
       " (0.0, 'ALCALT1_Present'),\n",
       " (0.0, 'AGOLT2_nan'),\n",
       " (0.0, 'AGOLT2_Present'),\n",
       " (0.0, 'AGOLT1_nan'),\n",
       " (0.0, 'AGOLT1_Present'),\n",
       " (0.0, 'AABLT_nan')]"
      ]
     },
     "execution_count": 74,
     "metadata": {},
     "output_type": "execute_result"
    }
   ],
   "source": [
    "feature_importances = grid_ada.best_estimator_.feature_importances_\n",
    "sorted(zip(feature_importances, attributes), reverse=True)"
   ]
  },
  {
   "cell_type": "markdown",
   "metadata": {},
   "source": [
    "# Support Vector Machine"
   ]
  },
  {
   "cell_type": "code",
   "execution_count": 75,
   "metadata": {},
   "outputs": [
    {
     "name": "stderr",
     "output_type": "stream",
     "text": [
      "C:\\Users\\dadra\\anaconda\\Anaconda3\\envs\\PythonWebMongo\\lib\\site-packages\\sklearn\\svm\\base.py:196: FutureWarning: The default value of gamma will change from 'auto' to 'scale' in version 0.22 to account better for unscaled features. Set gamma explicitly to 'auto' or 'scale' to avoid this warning.\n",
      "  \"avoid this warning.\", FutureWarning)\n"
     ]
    },
    {
     "data": {
      "text/plain": [
       "SVC(C=1.0, cache_size=200, class_weight=None, coef0=0.0,\n",
       "  decision_function_shape='ovr', degree=3, gamma='auto_deprecated',\n",
       "  kernel='rbf', max_iter=-1, probability=False, random_state=None,\n",
       "  shrinking=True, tol=0.001, verbose=False)"
      ]
     },
     "execution_count": 75,
     "metadata": {},
     "output_type": "execute_result"
    }
   ],
   "source": [
    "from sklearn.svm import SVC\n",
    "svc_clf = SVC(kernel='rbf')\n",
    "svc_clf.fit(X_train_prepared, np.ravel(y_train_0))"
   ]
  },
  {
   "cell_type": "code",
   "execution_count": 76,
   "metadata": {},
   "outputs": [
    {
     "data": {
      "text/plain": [
       "0.9747956403269755"
      ]
     },
     "execution_count": 76,
     "metadata": {},
     "output_type": "execute_result"
    }
   ],
   "source": [
    "svc_clf.score(X_train_prepared, np.ravel(y_train_0))"
   ]
  },
  {
   "cell_type": "code",
   "execution_count": 77,
   "metadata": {},
   "outputs": [
    {
     "data": {
      "text/plain": [
       "0.9495912806539509"
      ]
     },
     "execution_count": 77,
     "metadata": {},
     "output_type": "execute_result"
    }
   ],
   "source": [
    "y_test_0 = np.ravel(pd.get_dummies(y_test, drop_first=True))\n",
    "svc_clf.score(X_test_prepared, y_test_0)"
   ]
  },
  {
   "cell_type": "code",
   "execution_count": 78,
   "metadata": {},
   "outputs": [],
   "source": [
    "y_test_pred = svc_clf.predict(X_test_prepared)"
   ]
  },
  {
   "cell_type": "code",
   "execution_count": 79,
   "metadata": {},
   "outputs": [
    {
     "name": "stdout",
     "output_type": "stream",
     "text": [
      "              precision    recall  f1-score   support\n",
      "\n",
      "           0       0.95      1.00      0.97      1376\n",
      "           1       0.91      0.22      0.35        92\n",
      "\n",
      "   micro avg       0.95      0.95      0.95      1468\n",
      "   macro avg       0.93      0.61      0.66      1468\n",
      "weighted avg       0.95      0.95      0.93      1468\n",
      "\n"
     ]
    }
   ],
   "source": [
    "print(classification_report(y_test_0, y_test_pred))"
   ]
  },
  {
   "cell_type": "code",
   "execution_count": 80,
   "metadata": {},
   "outputs": [
    {
     "name": "stderr",
     "output_type": "stream",
     "text": [
      "C:\\Users\\dadra\\anaconda\\Anaconda3\\envs\\PythonWebMongo\\lib\\site-packages\\sklearn\\model_selection\\_split.py:2053: FutureWarning: You should specify a value for 'cv' instead of relying on the default value. The default value will change from 3 to 5 in version 0.22.\n",
      "  warnings.warn(CV_WARNING, FutureWarning)\n",
      "[Parallel(n_jobs=-1)]: Using backend LokyBackend with 12 concurrent workers.\n"
     ]
    },
    {
     "name": "stdout",
     "output_type": "stream",
     "text": [
      "Fitting 3 folds for each of 6 candidates, totalling 18 fits\n"
     ]
    },
    {
     "name": "stderr",
     "output_type": "stream",
     "text": [
      "[Parallel(n_jobs=-1)]: Done   2 out of  18 | elapsed:    1.6s remaining:   13.2s\n",
      "[Parallel(n_jobs=-1)]: Done   9 out of  18 | elapsed:    1.7s remaining:    1.7s\n",
      "[Parallel(n_jobs=-1)]: Done  16 out of  18 | elapsed:    3.0s remaining:    0.3s\n",
      "[Parallel(n_jobs=-1)]: Done  18 out of  18 | elapsed:    3.0s finished\n",
      "C:\\Users\\dadra\\anaconda\\Anaconda3\\envs\\PythonWebMongo\\lib\\site-packages\\sklearn\\utils\\validation.py:761: DataConversionWarning: A column-vector y was passed when a 1d array was expected. Please change the shape of y to (n_samples, ), for example using ravel().\n",
      "  y = column_or_1d(y, warn=True)\n",
      "C:\\Users\\dadra\\anaconda\\Anaconda3\\envs\\PythonWebMongo\\lib\\site-packages\\sklearn\\svm\\base.py:196: FutureWarning: The default value of gamma will change from 'auto' to 'scale' in version 0.22 to account better for unscaled features. Set gamma explicitly to 'auto' or 'scale' to avoid this warning.\n",
      "  \"avoid this warning.\", FutureWarning)\n"
     ]
    },
    {
     "data": {
      "text/plain": [
       "GridSearchCV(cv='warn', error_score='raise-deprecating',\n",
       "       estimator=SVC(C=1.0, cache_size=200, class_weight=None, coef0=0.0,\n",
       "  decision_function_shape='ovr', degree=3, gamma='auto_deprecated',\n",
       "  kernel='rbf', max_iter=-1, probability=False, random_state=None,\n",
       "  shrinking=True, tol=0.001, verbose=False),\n",
       "       fit_params=None, iid='warn', n_jobs=-1,\n",
       "       param_grid={'C': [0.01, 0.1, 0.5, 1.0, 2.0, 5.0]},\n",
       "       pre_dispatch='2*n_jobs', refit=True, return_train_score='warn',\n",
       "       scoring=None, verbose=3)"
      ]
     },
     "execution_count": 80,
     "metadata": {},
     "output_type": "execute_result"
    }
   ],
   "source": [
    "param_grid = {'C': [0.01, 0.1, 0.5, 1.0, 2.0, 5.0]}\n",
    "grid_svc = GridSearchCV(svc_clf, param_grid, n_jobs=-1, verbose=3)\n",
    "grid_svc.fit(X_train_prepared, y_train_0)"
   ]
  },
  {
   "cell_type": "code",
   "execution_count": 81,
   "metadata": {},
   "outputs": [
    {
     "data": {
      "text/plain": [
       "{'C': 2.0}"
      ]
     },
     "execution_count": 81,
     "metadata": {},
     "output_type": "execute_result"
    }
   ],
   "source": [
    "grid_svc.best_params_"
   ]
  },
  {
   "cell_type": "code",
   "execution_count": 82,
   "metadata": {},
   "outputs": [],
   "source": [
    "y_pred = grid_svc.best_estimator_.predict(X_test_prepared)"
   ]
  },
  {
   "cell_type": "code",
   "execution_count": 83,
   "metadata": {},
   "outputs": [
    {
     "name": "stdout",
     "output_type": "stream",
     "text": [
      "              precision    recall  f1-score   support\n",
      "\n",
      "           0       0.96      0.99      0.98      1376\n",
      "           1       0.78      0.35      0.48        92\n",
      "\n",
      "   micro avg       0.95      0.95      0.95      1468\n",
      "   macro avg       0.87      0.67      0.73      1468\n",
      "weighted avg       0.95      0.95      0.94      1468\n",
      "\n"
     ]
    }
   ],
   "source": [
    "print(classification_report(y_test_0, y_pred))"
   ]
  },
  {
   "cell_type": "code",
   "execution_count": null,
   "metadata": {},
   "outputs": [
    {
     "name": "stdout",
     "output_type": "stream",
     "text": [
      "Computing regularization path ...\n"
     ]
    }
   ],
   "source": [
    "from sklearn import linear_model\n",
    "from sklearn.svm import l1_min_c\n",
    "\n",
    "X = X_train_prepared\n",
    "y = y_train\n",
    "\n",
    "#X /= X.max()  # Normalize X to speed-up convergence\n",
    "\n",
    "# #############################################################################\n",
    "# Demo path functions\n",
    "\n",
    "cs = l1_min_c(X, y, loss='log') * np.logspace(0, 7, 16)\n",
    "\n",
    "\n",
    "print(\"Computing regularization path ...\")\n",
    "#start = time()\n",
    "clf = linear_model.LogisticRegression(penalty='l1', solver='saga',\n",
    "                                      tol=1e-6, max_iter=int(1e6),\n",
    "                                      warm_start=True, n_jobs=-1)\n",
    "coefs_ = []\n",
    "for c in cs:\n",
    "    clf.set_params(C=c)\n",
    "    clf.fit(X, y)\n",
    "    coefs_.append(clf.coef_.ravel().copy())\n",
    "#print(\"This took %0.3fs\" % (time() - start))\n",
    "\n",
    "coefs_ = np.array(coefs_)\n",
    "plt.figure(figsize=(16,12))\n",
    "plt.plot(np.log10(cs), coefs_, marker='o')\n",
    "ymin, ymax = plt.ylim()\n",
    "plt.xlabel('log(C)')\n",
    "plt.ylabel('Coefficients')\n",
    "plt.title('Logistic Regression Path')\n",
    "plt.axis('tight')\n",
    "plt.show()"
   ]
  },
  {
   "cell_type": "code",
   "execution_count": null,
   "metadata": {},
   "outputs": [],
   "source": [
    "coefs_ = np.array(coefs_)\n",
    "plt.figure(figsize=(16,12))\n",
    "plt.plot(np.log10(cs), coefs_, marker='o')\n",
    "ymin, ymax = plt.ylim()\n",
    "plt.xlabel('log(C)')\n",
    "plt.ylabel('Coefficients')\n",
    "plt.title('Logistic Regression Path')\n",
    "plt.vlines(np.log10(0.5), ymin=-1.5, ymax=1.5)\n",
    "plt.axis('tight')\n",
    "plt.show()"
   ]
  },
  {
   "cell_type": "code",
   "execution_count": null,
   "metadata": {},
   "outputs": [],
   "source": []
  }
 ],
 "metadata": {
  "kernelspec": {
   "display_name": "Python 3",
   "language": "python",
   "name": "python3"
  },
  "language_info": {
   "codemirror_mode": {
    "name": "ipython",
    "version": 3
   },
   "file_extension": ".py",
   "mimetype": "text/x-python",
   "name": "python",
   "nbconvert_exporter": "python",
   "pygments_lexer": "ipython3",
   "version": "3.6.7"
  }
 },
 "nbformat": 4,
 "nbformat_minor": 2
}
