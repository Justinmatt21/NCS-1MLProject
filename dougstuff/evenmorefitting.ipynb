{
 "cells": [
  {
   "cell_type": "code",
   "execution_count": 1,
   "metadata": {},
   "outputs": [],
   "source": [
    "# import the dependencies\n",
    "from sklearn.base import BaseEstimator, TransformerMixin\n",
    "from sklearn.pipeline import Pipeline, FeatureUnion\n",
    "from sklearn.model_selection import train_test_split\n",
    "from sklearn.preprocessing import OneHotEncoder, CategoricalEncoder\n",
    "from sklearn.preprocessing import StandardScaler\n",
    "\n",
    "import pandas as pd\n",
    "import numpy as np"
   ]
  },
  {
   "cell_type": "markdown",
   "metadata": {},
   "source": [
    "# Read in the Data and Prepare for Fitting Models"
   ]
  },
  {
   "cell_type": "code",
   "execution_count": 2,
   "metadata": {},
   "outputs": [],
   "source": [
    "df = pd.read_csv(\"reduced-data3.csv\")"
   ]
  },
  {
   "cell_type": "code",
   "execution_count": 3,
   "metadata": {},
   "outputs": [
    {
     "data": {
      "text/plain": [
       "(5872, 71)"
      ]
     },
     "execution_count": 3,
     "metadata": {},
     "output_type": "execute_result"
    }
   ],
   "source": [
    "df.shape"
   ]
  },
  {
   "cell_type": "code",
   "execution_count": 4,
   "metadata": {},
   "outputs": [
    {
     "data": {
      "text/html": [
       "<div>\n",
       "<style scoped>\n",
       "    .dataframe tbody tr th:only-of-type {\n",
       "        vertical-align: middle;\n",
       "    }\n",
       "\n",
       "    .dataframe tbody tr th {\n",
       "        vertical-align: top;\n",
       "    }\n",
       "\n",
       "    .dataframe thead th {\n",
       "        text-align: right;\n",
       "    }\n",
       "</style>\n",
       "<table border=\"1\" class=\"dataframe\">\n",
       "  <thead>\n",
       "    <tr style=\"text-align: right;\">\n",
       "      <th></th>\n",
       "      <th>CASEID</th>\n",
       "      <th>V6309</th>\n",
       "      <th>V5114</th>\n",
       "      <th>V5118</th>\n",
       "      <th>V5113</th>\n",
       "      <th>V5115</th>\n",
       "      <th>V5112</th>\n",
       "      <th>V4428</th>\n",
       "      <th>V4433</th>\n",
       "      <th>V6305</th>\n",
       "      <th>...</th>\n",
       "      <th>PDREC</th>\n",
       "      <th>AGREC</th>\n",
       "      <th>SIMREC</th>\n",
       "      <th>SOCREC</th>\n",
       "      <th>ALCDREC</th>\n",
       "      <th>ALCAREC</th>\n",
       "      <th>DRGDREC</th>\n",
       "      <th>DRGAREC</th>\n",
       "      <th>PTSDREC</th>\n",
       "      <th>NAPREC</th>\n",
       "    </tr>\n",
       "  </thead>\n",
       "  <tbody>\n",
       "    <tr>\n",
       "      <th>0</th>\n",
       "      <td>20001</td>\n",
       "      <td>NO</td>\n",
       "      <td>VERY</td>\n",
       "      <td>A LITTLE</td>\n",
       "      <td>SOMEWHAT</td>\n",
       "      <td>SOMEWHAT</td>\n",
       "      <td>SOMEWHAT</td>\n",
       "      <td>A LITTLE TRUE</td>\n",
       "      <td>VERY TRUE</td>\n",
       "      <td>YES</td>\n",
       "      <td>...</td>\n",
       "      <td>&gt; 1 Year</td>\n",
       "      <td>&gt; 1 Year</td>\n",
       "      <td>&gt;6 Months &amp; &lt;= 1 Year</td>\n",
       "      <td>NaN</td>\n",
       "      <td>&gt;1 Month &amp; &lt;=6 Months</td>\n",
       "      <td>&gt;1 Month &amp; &lt;=6 Months</td>\n",
       "      <td>&gt; 1 Year</td>\n",
       "      <td>&gt; 1 Year</td>\n",
       "      <td>&gt; 1 Year</td>\n",
       "      <td>NaN</td>\n",
       "    </tr>\n",
       "    <tr>\n",
       "      <th>1</th>\n",
       "      <td>20002</td>\n",
       "      <td>NO</td>\n",
       "      <td>A LITTLE</td>\n",
       "      <td>A LITTLE</td>\n",
       "      <td>SOMEWHAT</td>\n",
       "      <td>A LITTLE</td>\n",
       "      <td>SOMEWHAT</td>\n",
       "      <td>A LITTLE TRUE</td>\n",
       "      <td>NOT TRUE AT ALL</td>\n",
       "      <td>NO</td>\n",
       "      <td>...</td>\n",
       "      <td>NaN</td>\n",
       "      <td>NaN</td>\n",
       "      <td>&gt; 1 Year</td>\n",
       "      <td>&gt;1 Month &amp; &lt;=6 Months</td>\n",
       "      <td>NaN</td>\n",
       "      <td>NaN</td>\n",
       "      <td>NaN</td>\n",
       "      <td>NaN</td>\n",
       "      <td>NaN</td>\n",
       "      <td>NaN</td>\n",
       "    </tr>\n",
       "    <tr>\n",
       "      <th>2</th>\n",
       "      <td>20003</td>\n",
       "      <td>NO</td>\n",
       "      <td>NOT AT ALL</td>\n",
       "      <td>NOT AT ALL</td>\n",
       "      <td>NOT AT ALL</td>\n",
       "      <td>NOT AT ALL</td>\n",
       "      <td>NOT AT ALL</td>\n",
       "      <td>NOT TRUE AT ALL</td>\n",
       "      <td>NOT TRUE AT ALL</td>\n",
       "      <td>NO</td>\n",
       "      <td>...</td>\n",
       "      <td>NaN</td>\n",
       "      <td>NaN</td>\n",
       "      <td>NaN</td>\n",
       "      <td>NaN</td>\n",
       "      <td>NaN</td>\n",
       "      <td>NaN</td>\n",
       "      <td>&gt; 1 Year</td>\n",
       "      <td>&gt; 1 Year</td>\n",
       "      <td>NaN</td>\n",
       "      <td>NaN</td>\n",
       "    </tr>\n",
       "    <tr>\n",
       "      <th>3</th>\n",
       "      <td>20004</td>\n",
       "      <td>NO</td>\n",
       "      <td>SOMEWHAT</td>\n",
       "      <td>SOMEWHAT</td>\n",
       "      <td>A LITTLE</td>\n",
       "      <td>A LITTLE</td>\n",
       "      <td>A LITTLE</td>\n",
       "      <td>A LITTLE TRUE</td>\n",
       "      <td>NOT TRUE AT ALL</td>\n",
       "      <td>NO</td>\n",
       "      <td>...</td>\n",
       "      <td>NaN</td>\n",
       "      <td>NaN</td>\n",
       "      <td>NaN</td>\n",
       "      <td>NaN</td>\n",
       "      <td>&gt; 1 Year</td>\n",
       "      <td>&gt; 1 Year</td>\n",
       "      <td>&gt; 1 Year</td>\n",
       "      <td>&gt; 1 Year</td>\n",
       "      <td>NaN</td>\n",
       "      <td>NaN</td>\n",
       "    </tr>\n",
       "    <tr>\n",
       "      <th>4</th>\n",
       "      <td>20005</td>\n",
       "      <td>NO</td>\n",
       "      <td>A LITTLE</td>\n",
       "      <td>A LITTLE</td>\n",
       "      <td>A LITTLE</td>\n",
       "      <td>A LITTLE</td>\n",
       "      <td>SOMEWHAT</td>\n",
       "      <td>SOMEWHAT TRUE</td>\n",
       "      <td>A LITTLE TRUE</td>\n",
       "      <td>NO</td>\n",
       "      <td>...</td>\n",
       "      <td>NaN</td>\n",
       "      <td>NaN</td>\n",
       "      <td>&gt;6 Months &amp; &lt;= 1 Year</td>\n",
       "      <td>NaN</td>\n",
       "      <td>&gt; 1 Year</td>\n",
       "      <td>&gt; 1 Year</td>\n",
       "      <td>NaN</td>\n",
       "      <td>NaN</td>\n",
       "      <td>NaN</td>\n",
       "      <td>NaN</td>\n",
       "    </tr>\n",
       "  </tbody>\n",
       "</table>\n",
       "<p>5 rows × 71 columns</p>\n",
       "</div>"
      ],
      "text/plain": [
       "   CASEID V6309       V5114       V5118       V5113       V5115       V5112  \\\n",
       "0   20001    NO        VERY    A LITTLE    SOMEWHAT    SOMEWHAT    SOMEWHAT   \n",
       "1   20002    NO    A LITTLE    A LITTLE    SOMEWHAT    A LITTLE    SOMEWHAT   \n",
       "2   20003    NO  NOT AT ALL  NOT AT ALL  NOT AT ALL  NOT AT ALL  NOT AT ALL   \n",
       "3   20004    NO    SOMEWHAT    SOMEWHAT    A LITTLE    A LITTLE    A LITTLE   \n",
       "4   20005    NO    A LITTLE    A LITTLE    A LITTLE    A LITTLE    SOMEWHAT   \n",
       "\n",
       "             V4428            V4433 V6305  ...       PDREC     AGREC  \\\n",
       "0    A LITTLE TRUE        VERY TRUE   YES  ...    > 1 Year  > 1 Year   \n",
       "1    A LITTLE TRUE  NOT TRUE AT ALL    NO  ...         NaN       NaN   \n",
       "2  NOT TRUE AT ALL  NOT TRUE AT ALL    NO  ...         NaN       NaN   \n",
       "3    A LITTLE TRUE  NOT TRUE AT ALL    NO  ...         NaN       NaN   \n",
       "4    SOMEWHAT TRUE    A LITTLE TRUE    NO  ...         NaN       NaN   \n",
       "\n",
       "                  SIMREC                 SOCREC                ALCDREC  \\\n",
       "0  >6 Months & <= 1 Year                    NaN  >1 Month & <=6 Months   \n",
       "1               > 1 Year  >1 Month & <=6 Months                    NaN   \n",
       "2                    NaN                    NaN                    NaN   \n",
       "3                    NaN                    NaN               > 1 Year   \n",
       "4  >6 Months & <= 1 Year                    NaN               > 1 Year   \n",
       "\n",
       "                 ALCAREC   DRGDREC   DRGAREC   PTSDREC NAPREC  \n",
       "0  >1 Month & <=6 Months  > 1 Year  > 1 Year  > 1 Year    NaN  \n",
       "1                    NaN       NaN       NaN       NaN    NaN  \n",
       "2                    NaN  > 1 Year  > 1 Year       NaN    NaN  \n",
       "3               > 1 Year  > 1 Year  > 1 Year       NaN    NaN  \n",
       "4               > 1 Year       NaN       NaN       NaN    NaN  \n",
       "\n",
       "[5 rows x 71 columns]"
      ]
     },
     "execution_count": 4,
     "metadata": {},
     "output_type": "execute_result"
    }
   ],
   "source": [
    "df.head()"
   ]
  },
  {
   "cell_type": "markdown",
   "metadata": {},
   "source": [
    "# Convert Categorical Variables to 0-1 Coded Variables\n",
    "We use Pandas `get_dummies` to convert the categorical variables to one-hot encoded variables for fitting"
   ]
  },
  {
   "cell_type": "code",
   "execution_count": 5,
   "metadata": {},
   "outputs": [],
   "source": [
    "num_attribs = ['AGE']\n",
    "response = ['V6309']\n",
    "cat_attribs = df.columns.tolist()\n",
    "cat_attribs.remove('V6309')\n",
    "cat_attribs.remove('AGE')\n",
    "cat_attribs.remove('CASEID')"
   ]
  },
  {
   "cell_type": "code",
   "execution_count": 6,
   "metadata": {},
   "outputs": [
    {
     "data": {
      "text/html": [
       "<div>\n",
       "<style scoped>\n",
       "    .dataframe tbody tr th:only-of-type {\n",
       "        vertical-align: middle;\n",
       "    }\n",
       "\n",
       "    .dataframe tbody tr th {\n",
       "        vertical-align: top;\n",
       "    }\n",
       "\n",
       "    .dataframe thead th {\n",
       "        text-align: right;\n",
       "    }\n",
       "</style>\n",
       "<table border=\"1\" class=\"dataframe\">\n",
       "  <thead>\n",
       "    <tr style=\"text-align: right;\">\n",
       "      <th></th>\n",
       "      <th>V5114_DK</th>\n",
       "      <th>V5114_INAP</th>\n",
       "      <th>V5114_NOT AT ALL</th>\n",
       "      <th>V5114_SOMEWHAT</th>\n",
       "      <th>V5114_VERY</th>\n",
       "      <th>V5114_nan</th>\n",
       "      <th>V5118_DK</th>\n",
       "      <th>V5118_INAP</th>\n",
       "      <th>V5118_NOT AT ALL</th>\n",
       "      <th>V5118_SOMEWHAT</th>\n",
       "      <th>...</th>\n",
       "      <th>DRGAREC_nan</th>\n",
       "      <th>PTSDREC_&gt; 1 Year</th>\n",
       "      <th>PTSDREC_&gt;1 Month &amp; &lt;=6 Month</th>\n",
       "      <th>PTSDREC_&gt;6 Months &amp; &lt;= 1 Year</th>\n",
       "      <th>PTSDREC_nan</th>\n",
       "      <th>NAPREC_&gt; 1 Year</th>\n",
       "      <th>NAPREC_&gt;1 Month &amp; &lt;=6 Month</th>\n",
       "      <th>NAPREC_nan</th>\n",
       "      <th>AGE</th>\n",
       "      <th>response</th>\n",
       "    </tr>\n",
       "  </thead>\n",
       "  <tbody>\n",
       "    <tr>\n",
       "      <th>0</th>\n",
       "      <td>0</td>\n",
       "      <td>0</td>\n",
       "      <td>0</td>\n",
       "      <td>0</td>\n",
       "      <td>1</td>\n",
       "      <td>0</td>\n",
       "      <td>0</td>\n",
       "      <td>0</td>\n",
       "      <td>0</td>\n",
       "      <td>0</td>\n",
       "      <td>...</td>\n",
       "      <td>0</td>\n",
       "      <td>1</td>\n",
       "      <td>0</td>\n",
       "      <td>0</td>\n",
       "      <td>0</td>\n",
       "      <td>0</td>\n",
       "      <td>0</td>\n",
       "      <td>1</td>\n",
       "      <td>54</td>\n",
       "      <td>NO</td>\n",
       "    </tr>\n",
       "    <tr>\n",
       "      <th>1</th>\n",
       "      <td>0</td>\n",
       "      <td>0</td>\n",
       "      <td>0</td>\n",
       "      <td>0</td>\n",
       "      <td>0</td>\n",
       "      <td>0</td>\n",
       "      <td>0</td>\n",
       "      <td>0</td>\n",
       "      <td>0</td>\n",
       "      <td>0</td>\n",
       "      <td>...</td>\n",
       "      <td>1</td>\n",
       "      <td>0</td>\n",
       "      <td>0</td>\n",
       "      <td>0</td>\n",
       "      <td>1</td>\n",
       "      <td>0</td>\n",
       "      <td>0</td>\n",
       "      <td>1</td>\n",
       "      <td>36</td>\n",
       "      <td>NO</td>\n",
       "    </tr>\n",
       "    <tr>\n",
       "      <th>2</th>\n",
       "      <td>0</td>\n",
       "      <td>0</td>\n",
       "      <td>1</td>\n",
       "      <td>0</td>\n",
       "      <td>0</td>\n",
       "      <td>0</td>\n",
       "      <td>0</td>\n",
       "      <td>0</td>\n",
       "      <td>1</td>\n",
       "      <td>0</td>\n",
       "      <td>...</td>\n",
       "      <td>0</td>\n",
       "      <td>0</td>\n",
       "      <td>0</td>\n",
       "      <td>0</td>\n",
       "      <td>1</td>\n",
       "      <td>0</td>\n",
       "      <td>0</td>\n",
       "      <td>1</td>\n",
       "      <td>34</td>\n",
       "      <td>NO</td>\n",
       "    </tr>\n",
       "    <tr>\n",
       "      <th>3</th>\n",
       "      <td>0</td>\n",
       "      <td>0</td>\n",
       "      <td>0</td>\n",
       "      <td>1</td>\n",
       "      <td>0</td>\n",
       "      <td>0</td>\n",
       "      <td>0</td>\n",
       "      <td>0</td>\n",
       "      <td>0</td>\n",
       "      <td>1</td>\n",
       "      <td>...</td>\n",
       "      <td>0</td>\n",
       "      <td>0</td>\n",
       "      <td>0</td>\n",
       "      <td>0</td>\n",
       "      <td>1</td>\n",
       "      <td>0</td>\n",
       "      <td>0</td>\n",
       "      <td>1</td>\n",
       "      <td>36</td>\n",
       "      <td>NO</td>\n",
       "    </tr>\n",
       "    <tr>\n",
       "      <th>4</th>\n",
       "      <td>0</td>\n",
       "      <td>0</td>\n",
       "      <td>0</td>\n",
       "      <td>0</td>\n",
       "      <td>0</td>\n",
       "      <td>0</td>\n",
       "      <td>0</td>\n",
       "      <td>0</td>\n",
       "      <td>0</td>\n",
       "      <td>0</td>\n",
       "      <td>...</td>\n",
       "      <td>1</td>\n",
       "      <td>0</td>\n",
       "      <td>0</td>\n",
       "      <td>0</td>\n",
       "      <td>1</td>\n",
       "      <td>0</td>\n",
       "      <td>0</td>\n",
       "      <td>1</td>\n",
       "      <td>31</td>\n",
       "      <td>NO</td>\n",
       "    </tr>\n",
       "  </tbody>\n",
       "</table>\n",
       "<p>5 rows × 221 columns</p>\n",
       "</div>"
      ],
      "text/plain": [
       "   V5114_DK  V5114_INAP  V5114_NOT AT ALL  V5114_SOMEWHAT  V5114_VERY  \\\n",
       "0         0           0                 0               0           1   \n",
       "1         0           0                 0               0           0   \n",
       "2         0           0                 1               0           0   \n",
       "3         0           0                 0               1           0   \n",
       "4         0           0                 0               0           0   \n",
       "\n",
       "   V5114_nan  V5118_DK  V5118_INAP  V5118_NOT AT ALL  V5118_SOMEWHAT  \\\n",
       "0          0         0           0                 0               0   \n",
       "1          0         0           0                 0               0   \n",
       "2          0         0           0                 1               0   \n",
       "3          0         0           0                 0               1   \n",
       "4          0         0           0                 0               0   \n",
       "\n",
       "     ...     DRGAREC_nan  PTSDREC_> 1 Year  PTSDREC_>1 Month & <=6 Month  \\\n",
       "0    ...               0                 1                             0   \n",
       "1    ...               1                 0                             0   \n",
       "2    ...               0                 0                             0   \n",
       "3    ...               0                 0                             0   \n",
       "4    ...               1                 0                             0   \n",
       "\n",
       "   PTSDREC_>6 Months & <= 1 Year  PTSDREC_nan  NAPREC_> 1 Year  \\\n",
       "0                              0            0                0   \n",
       "1                              0            1                0   \n",
       "2                              0            1                0   \n",
       "3                              0            1                0   \n",
       "4                              0            1                0   \n",
       "\n",
       "   NAPREC_>1 Month & <=6 Month  NAPREC_nan  AGE  response  \n",
       "0                            0           1   54        NO  \n",
       "1                            0           1   36        NO  \n",
       "2                            0           1   34        NO  \n",
       "3                            0           1   36        NO  \n",
       "4                            0           1   31        NO  \n",
       "\n",
       "[5 rows x 221 columns]"
      ]
     },
     "execution_count": 6,
     "metadata": {},
     "output_type": "execute_result"
    }
   ],
   "source": [
    "df_with_dummies = pd.get_dummies(df[cat_attribs], dummy_na=True, drop_first=True)\n",
    "df_with_dummies['AGE'] = df['AGE']\n",
    "df_with_dummies['response'] = df['V6309']\n",
    "df_with_dummies.head()"
   ]
  },
  {
   "cell_type": "markdown",
   "metadata": {},
   "source": [
    "# Set Aside Testing Data"
   ]
  },
  {
   "cell_type": "code",
   "execution_count": 7,
   "metadata": {},
   "outputs": [],
   "source": [
    "# Make a train-test split:\n",
    "train_set, test_set = train_test_split(df_with_dummies, random_state=1, stratify=df_with_dummies['response'])"
   ]
  },
  {
   "cell_type": "code",
   "execution_count": 8,
   "metadata": {},
   "outputs": [
    {
     "name": "stdout",
     "output_type": "stream",
     "text": [
      "(4404, 221) (1468, 221)\n"
     ]
    }
   ],
   "source": [
    "print(train_set.shape, test_set.shape)"
   ]
  },
  {
   "cell_type": "code",
   "execution_count": 9,
   "metadata": {},
   "outputs": [
    {
     "name": "stdout",
     "output_type": "stream",
     "text": [
      "train: \n",
      "NO     4130\n",
      "YES     274\n",
      "Name: response, dtype: int64\n",
      "test: \n",
      "NO     1376\n",
      "YES      92\n",
      "Name: response, dtype: int64\n"
     ]
    }
   ],
   "source": [
    "# What is the distribution of the response in the training and testing data\n",
    "print(\"train: \")\n",
    "print(train_set['response'].value_counts())\n",
    "print(\"test: \")\n",
    "print(test_set['response'].value_counts())"
   ]
  },
  {
   "cell_type": "code",
   "execution_count": 10,
   "metadata": {},
   "outputs": [
    {
     "data": {
      "text/plain": [
       "219"
      ]
     },
     "execution_count": 10,
     "metadata": {},
     "output_type": "execute_result"
    }
   ],
   "source": [
    "# We will need to identify the categorical attributes for later\n",
    "cat_attribs = df_with_dummies.columns.tolist()\n",
    "cat_attribs.remove('AGE')\n",
    "cat_attribs.remove('response')\n",
    "len(cat_attribs)"
   ]
  },
  {
   "cell_type": "markdown",
   "metadata": {},
   "source": [
    "# Use Scikit-Learn Pipeline\n",
    "The pipeline can be used to automate selection from a dataframe and transformation"
   ]
  },
  {
   "cell_type": "code",
   "execution_count": 11,
   "metadata": {},
   "outputs": [],
   "source": [
    "# Define a method to select attributes from a DataFrame\n",
    "class DataFrameSelector(BaseEstimator, TransformerMixin):\n",
    "    def __init__(self, attribute_names):\n",
    "        self.attribute_names = attribute_names\n",
    "    def fit(self, X, y=None):\n",
    "        return self\n",
    "    def transform(self, X):\n",
    "        return X[self.attribute_names].values\n",
    "\n",
    "# We will need this later\n",
    "num_pipeline = Pipeline([\n",
    "    ('selector', DataFrameSelector(num_attribs)),\n",
    "    ('std_scaler', StandardScaler()),\n",
    "])\n",
    "\n",
    "cat_pipeline = Pipeline([\n",
    "    ('selector', DataFrameSelector(cat_attribs)),\n",
    "    ('std_scaler', StandardScaler())\n",
    "    #('encoder', LabelBinarizer(sparse=False, handle_unknown='ignore'))\n",
    "])\n",
    "\n",
    "full_pipeline = FeatureUnion(transformer_list=[\n",
    "    (\"num_pipeline\", num_pipeline),\n",
    "    (\"cat_pipeline\", cat_pipeline),\n",
    "])\n"
   ]
  },
  {
   "cell_type": "code",
   "execution_count": 12,
   "metadata": {},
   "outputs": [
    {
     "name": "stderr",
     "output_type": "stream",
     "text": [
      "C:\\Users\\dadra\\anaconda\\Anaconda3\\envs\\PythonWebMongo\\lib\\site-packages\\sklearn\\utils\\validation.py:595: DataConversionWarning: Data with input dtype int64 was converted to float64 by StandardScaler.\n",
      "  warnings.warn(msg, DataConversionWarning)\n",
      "C:\\Users\\dadra\\anaconda\\Anaconda3\\envs\\PythonWebMongo\\lib\\site-packages\\sklearn\\utils\\validation.py:595: DataConversionWarning: Data with input dtype int64 was converted to float64 by StandardScaler.\n",
      "  warnings.warn(msg, DataConversionWarning)\n",
      "C:\\Users\\dadra\\anaconda\\Anaconda3\\envs\\PythonWebMongo\\lib\\site-packages\\sklearn\\utils\\validation.py:595: DataConversionWarning: Data with input dtype uint8 was converted to float64 by StandardScaler.\n",
      "  warnings.warn(msg, DataConversionWarning)\n",
      "C:\\Users\\dadra\\anaconda\\Anaconda3\\envs\\PythonWebMongo\\lib\\site-packages\\sklearn\\utils\\validation.py:595: DataConversionWarning: Data with input dtype uint8 was converted to float64 by StandardScaler.\n",
      "  warnings.warn(msg, DataConversionWarning)\n"
     ]
    },
    {
     "data": {
      "text/plain": [
       "array([[ 0.47333761, -0.01507043, -0.02131523, ..., -0.05227084,\n",
       "        -0.02131523,  0.08555293],\n",
       "       [-0.83996019, -0.01507043, -0.02131523, ..., -0.05227084,\n",
       "        -0.02131523,  0.08555293],\n",
       "       [ 0.47333761, -0.01507043, -0.02131523, ..., -0.05227084,\n",
       "        -0.02131523,  0.08555293],\n",
       "       ...,\n",
       "       [ 0.09810967, -0.01507043, -0.02131523, ..., -0.05227084,\n",
       "        -0.02131523,  0.08555293],\n",
       "       [ 1.69282842, -0.01507043, -0.02131523, ..., -0.05227084,\n",
       "        -0.02131523,  0.08555293],\n",
       "       [-0.7461532 , -0.01507043, -0.02131523, ..., -0.05227084,\n",
       "        -0.02131523,  0.08555293]])"
      ]
     },
     "execution_count": 12,
     "metadata": {},
     "output_type": "execute_result"
    }
   ],
   "source": [
    "y_train = pd.get_dummies(train_set['response'], drop_first=True).values\n",
    "\n",
    "# Prepare the training data with the pipeline above\n",
    "X_train_prepared = full_pipeline.fit_transform(train_set)\n",
    "X_train_prepared"
   ]
  },
  {
   "cell_type": "code",
   "execution_count": 13,
   "metadata": {},
   "outputs": [
    {
     "data": {
      "text/plain": [
       "(4404, 220)"
      ]
     },
     "execution_count": 13,
     "metadata": {},
     "output_type": "execute_result"
    }
   ],
   "source": [
    "X_train_prepared.shape"
   ]
  },
  {
   "cell_type": "code",
   "execution_count": 14,
   "metadata": {},
   "outputs": [
    {
     "name": "stderr",
     "output_type": "stream",
     "text": [
      "C:\\Users\\dadra\\anaconda\\Anaconda3\\envs\\PythonWebMongo\\lib\\site-packages\\sklearn\\utils\\validation.py:595: DataConversionWarning: Data with input dtype int64 was converted to float64 by StandardScaler.\n",
      "  warnings.warn(msg, DataConversionWarning)\n",
      "C:\\Users\\dadra\\anaconda\\Anaconda3\\envs\\PythonWebMongo\\lib\\site-packages\\sklearn\\utils\\validation.py:595: DataConversionWarning: Data with input dtype uint8 was converted to float64 by StandardScaler.\n",
      "  warnings.warn(msg, DataConversionWarning)\n"
     ]
    },
    {
     "data": {
      "text/plain": [
       "(1468, 220)"
      ]
     },
     "execution_count": 14,
     "metadata": {},
     "output_type": "execute_result"
    }
   ],
   "source": [
    "y_test = pd.get_dummies(test_set.response, drop_first=True).values\n",
    "\n",
    "X_test_prepared = full_pipeline.transform(test_set)\n",
    "X_test_prepared.shape"
   ]
  },
  {
   "cell_type": "markdown",
   "metadata": {},
   "source": [
    "# Consider a Decision Tree Classifier"
   ]
  },
  {
   "cell_type": "code",
   "execution_count": 15,
   "metadata": {},
   "outputs": [
    {
     "data": {
      "text/plain": [
       "DecisionTreeClassifier(class_weight=None, criterion='gini', max_depth=None,\n",
       "            max_features=None, max_leaf_nodes=None,\n",
       "            min_impurity_decrease=0.0, min_impurity_split=None,\n",
       "            min_samples_leaf=1, min_samples_split=2,\n",
       "            min_weight_fraction_leaf=0.0, presort=False, random_state=None,\n",
       "            splitter='best')"
      ]
     },
     "execution_count": 15,
     "metadata": {},
     "output_type": "execute_result"
    }
   ],
   "source": [
    "from sklearn.tree import DecisionTreeClassifier\n",
    "\n",
    "tree_clf = DecisionTreeClassifier()\n",
    "tree_clf.fit(X_train_prepared, y_train)"
   ]
  },
  {
   "cell_type": "code",
   "execution_count": 16,
   "metadata": {},
   "outputs": [],
   "source": [
    "y_test_pred = tree_clf.predict(X_test_prepared)"
   ]
  },
  {
   "cell_type": "code",
   "execution_count": 17,
   "metadata": {},
   "outputs": [
    {
     "name": "stdout",
     "output_type": "stream",
     "text": [
      "              precision    recall  f1-score   support\n",
      "\n",
      "           0       0.97      0.97      0.97      1376\n",
      "           1       0.52      0.52      0.52        92\n",
      "\n",
      "   micro avg       0.94      0.94      0.94      1468\n",
      "   macro avg       0.74      0.74      0.74      1468\n",
      "weighted avg       0.94      0.94      0.94      1468\n",
      "\n"
     ]
    }
   ],
   "source": [
    "from sklearn.metrics import classification_report\n",
    "\n",
    "print(classification_report(y_test, y_test_pred))"
   ]
  },
  {
   "cell_type": "markdown",
   "metadata": {},
   "source": [
    "# Random Forest Classifier"
   ]
  },
  {
   "cell_type": "code",
   "execution_count": 18,
   "metadata": {},
   "outputs": [
    {
     "name": "stderr",
     "output_type": "stream",
     "text": [
      "C:\\Users\\dadra\\anaconda\\Anaconda3\\envs\\PythonWebMongo\\lib\\site-packages\\sklearn\\ensemble\\forest.py:246: FutureWarning: The default value of n_estimators will change from 10 in version 0.20 to 100 in 0.22.\n",
      "  \"10 in version 0.20 to 100 in 0.22.\", FutureWarning)\n",
      "C:\\Users\\dadra\\anaconda\\Anaconda3\\envs\\PythonWebMongo\\lib\\site-packages\\ipykernel_launcher.py:3: DataConversionWarning: A column-vector y was passed when a 1d array was expected. Please change the shape of y to (n_samples,), for example using ravel().\n",
      "  This is separate from the ipykernel package so we can avoid doing imports until\n"
     ]
    },
    {
     "data": {
      "text/plain": [
       "RandomForestClassifier(bootstrap=True, class_weight=None, criterion='gini',\n",
       "            max_depth=None, max_features='auto', max_leaf_nodes=None,\n",
       "            min_impurity_decrease=0.0, min_impurity_split=None,\n",
       "            min_samples_leaf=1, min_samples_split=2,\n",
       "            min_weight_fraction_leaf=0.0, n_estimators=10, n_jobs=-1,\n",
       "            oob_score=False, random_state=None, verbose=0,\n",
       "            warm_start=False)"
      ]
     },
     "execution_count": 18,
     "metadata": {},
     "output_type": "execute_result"
    }
   ],
   "source": [
    "from sklearn.ensemble import RandomForestClassifier\n",
    "forest_clf = RandomForestClassifier(n_jobs=-1)\n",
    "forest_clf.fit(X_train_prepared, y_train)"
   ]
  },
  {
   "cell_type": "code",
   "execution_count": 19,
   "metadata": {},
   "outputs": [],
   "source": [
    "y_test_pred_rf = forest_clf.predict(X_test_prepared)"
   ]
  },
  {
   "cell_type": "code",
   "execution_count": 20,
   "metadata": {},
   "outputs": [
    {
     "name": "stdout",
     "output_type": "stream",
     "text": [
      "              precision    recall  f1-score   support\n",
      "\n",
      "           0       0.95      0.99      0.97      1376\n",
      "           1       0.72      0.23      0.35        92\n",
      "\n",
      "   micro avg       0.95      0.95      0.95      1468\n",
      "   macro avg       0.84      0.61      0.66      1468\n",
      "weighted avg       0.94      0.95      0.93      1468\n",
      "\n"
     ]
    }
   ],
   "source": [
    "print(classification_report(y_test, y_test_pred_rf))"
   ]
  },
  {
   "cell_type": "markdown",
   "metadata": {},
   "source": [
    "# Use GridSearchCV to Find Good Parameter Values"
   ]
  },
  {
   "cell_type": "code",
   "execution_count": 21,
   "metadata": {},
   "outputs": [
    {
     "name": "stderr",
     "output_type": "stream",
     "text": [
      "C:\\Users\\dadra\\anaconda\\Anaconda3\\envs\\PythonWebMongo\\lib\\site-packages\\sklearn\\model_selection\\_split.py:2053: FutureWarning: You should specify a value for 'cv' instead of relying on the default value. The default value will change from 3 to 5 in version 0.22.\n",
      "  warnings.warn(CV_WARNING, FutureWarning)\n",
      "[Parallel(n_jobs=-1)]: Using backend LokyBackend with 12 concurrent workers.\n"
     ]
    },
    {
     "name": "stdout",
     "output_type": "stream",
     "text": [
      "Fitting 3 folds for each of 6 candidates, totalling 18 fits\n"
     ]
    },
    {
     "name": "stderr",
     "output_type": "stream",
     "text": [
      "[Parallel(n_jobs=-1)]: Done   2 out of  18 | elapsed:    2.7s remaining:   22.6s\n",
      "[Parallel(n_jobs=-1)]: Done   9 out of  18 | elapsed:    3.5s remaining:    3.5s\n",
      "[Parallel(n_jobs=-1)]: Done  16 out of  18 | elapsed:    6.7s remaining:    0.8s\n",
      "[Parallel(n_jobs=-1)]: Done  18 out of  18 | elapsed:    6.8s finished\n",
      "C:\\Users\\dadra\\anaconda\\Anaconda3\\envs\\PythonWebMongo\\lib\\site-packages\\sklearn\\model_selection\\_search.py:740: DataConversionWarning: A column-vector y was passed when a 1d array was expected. Please change the shape of y to (n_samples,), for example using ravel().\n",
      "  self.best_estimator_.fit(X, y, **fit_params)\n"
     ]
    },
    {
     "data": {
      "text/plain": [
       "GridSearchCV(cv='warn', error_score='raise-deprecating',\n",
       "       estimator=RandomForestClassifier(bootstrap=True, class_weight=None, criterion='gini',\n",
       "            max_depth=None, max_features='auto', max_leaf_nodes=None,\n",
       "            min_impurity_decrease=0.0, min_impurity_split=None,\n",
       "            min_samples_leaf=1, min_samples_split=2,\n",
       "            min_weight_fraction_leaf=0.0, n_estimators=10, n_jobs=-1,\n",
       "            oob_score=False, random_state=None, verbose=0,\n",
       "            warm_start=False),\n",
       "       fit_params=None, iid='warn', n_jobs=-1,\n",
       "       param_grid={'n_estimators': [50, 100, 200, 300, 500, 1000]},\n",
       "       pre_dispatch='2*n_jobs', refit=True, return_train_score='warn',\n",
       "       scoring=None, verbose=3)"
      ]
     },
     "execution_count": 21,
     "metadata": {},
     "output_type": "execute_result"
    }
   ],
   "source": [
    "from sklearn.model_selection import GridSearchCV\n",
    "param_grid = {'n_estimators': [50, 100, 200, 300, 500, 1000]}\n",
    "grid_rf = GridSearchCV(forest_clf, param_grid, verbose=3, n_jobs=-1)\n",
    "grid_rf.fit(X_train_prepared, y_train)"
   ]
  },
  {
   "cell_type": "code",
   "execution_count": 22,
   "metadata": {},
   "outputs": [
    {
     "name": "stdout",
     "output_type": "stream",
     "text": [
      "0.9418710263396912\n"
     ]
    }
   ],
   "source": [
    "print(grid_rf.best_score_)"
   ]
  },
  {
   "cell_type": "code",
   "execution_count": 23,
   "metadata": {},
   "outputs": [
    {
     "name": "stdout",
     "output_type": "stream",
     "text": [
      "{'n_estimators': 500}\n"
     ]
    }
   ],
   "source": [
    "print(grid_rf.best_params_)"
   ]
  },
  {
   "cell_type": "code",
   "execution_count": 24,
   "metadata": {},
   "outputs": [
    {
     "name": "stderr",
     "output_type": "stream",
     "text": [
      "C:\\Users\\dadra\\anaconda\\Anaconda3\\envs\\PythonWebMongo\\lib\\site-packages\\sklearn\\model_selection\\_split.py:2053: FutureWarning: You should specify a value for 'cv' instead of relying on the default value. The default value will change from 3 to 5 in version 0.22.\n",
      "  warnings.warn(CV_WARNING, FutureWarning)\n",
      "[Parallel(n_jobs=-1)]: Using backend LokyBackend with 12 concurrent workers.\n"
     ]
    },
    {
     "name": "stdout",
     "output_type": "stream",
     "text": [
      "Fitting 3 folds for each of 5 candidates, totalling 15 fits\n"
     ]
    },
    {
     "name": "stderr",
     "output_type": "stream",
     "text": [
      "[Parallel(n_jobs=-1)]: Done   4 out of  15 | elapsed:    2.7s remaining:    7.6s\n",
      "[Parallel(n_jobs=-1)]: Done  10 out of  15 | elapsed:    4.5s remaining:    2.2s\n",
      "[Parallel(n_jobs=-1)]: Done  15 out of  15 | elapsed:    5.8s finished\n",
      "C:\\Users\\dadra\\anaconda\\Anaconda3\\envs\\PythonWebMongo\\lib\\site-packages\\sklearn\\model_selection\\_search.py:740: DataConversionWarning: A column-vector y was passed when a 1d array was expected. Please change the shape of y to (n_samples,), for example using ravel().\n",
      "  self.best_estimator_.fit(X, y, **fit_params)\n"
     ]
    },
    {
     "data": {
      "text/plain": [
       "GridSearchCV(cv='warn', error_score='raise-deprecating',\n",
       "       estimator=RandomForestClassifier(bootstrap=True, class_weight=None, criterion='gini',\n",
       "            max_depth=None, max_features='auto', max_leaf_nodes=None,\n",
       "            min_impurity_decrease=0.0, min_impurity_split=None,\n",
       "            min_samples_leaf=1, min_samples_split=2,\n",
       "            min_weight_fraction_leaf=0.0, n_estimators=10, n_jobs=-1,\n",
       "            oob_score=False, random_state=None, verbose=0,\n",
       "            warm_start=False),\n",
       "       fit_params=None, iid='warn', n_jobs=-1,\n",
       "       param_grid={'n_estimators': [400, 500, 600, 700, 800]},\n",
       "       pre_dispatch='2*n_jobs', refit=True, return_train_score='warn',\n",
       "       scoring=None, verbose=3)"
      ]
     },
     "execution_count": 24,
     "metadata": {},
     "output_type": "execute_result"
    }
   ],
   "source": [
    "param_grid = {'n_estimators': [400, 500, 600, 700, 800]}\n",
    "grid_rf = GridSearchCV(forest_clf, param_grid, verbose=3, n_jobs=-1)\n",
    "grid_rf.fit(X_train_prepared, y_train)"
   ]
  },
  {
   "cell_type": "code",
   "execution_count": 25,
   "metadata": {},
   "outputs": [
    {
     "name": "stdout",
     "output_type": "stream",
     "text": [
      "{'n_estimators': 600}\n"
     ]
    }
   ],
   "source": [
    "print(grid_rf.best_params_)"
   ]
  },
  {
   "cell_type": "code",
   "execution_count": 26,
   "metadata": {},
   "outputs": [
    {
     "data": {
      "text/plain": [
       "[(0.0995963162198873, 'V6301_YES'),\n",
       " (0.0747045584424761, 'V6305_YES'),\n",
       " (0.03622885397843664, 'AGE'),\n",
       " (0.013212274349244909, 'V6114_YES'),\n",
       " (0.011889521790023687, 'V6143_YES'),\n",
       " (0.011442613731487129, 'PTSDLT_Present'),\n",
       " (0.011078848236470807, 'V6114_NO'),\n",
       " (0.010571964459720456, 'DEPREC_nan'),\n",
       " (0.01031153525848248, 'DEPLT1_Present'),\n",
       " (0.01028224615507755, 'V4433_VERY TRUE'),\n",
       " (0.009962852141359226, 'EDCAT_12 Years'),\n",
       " (0.009573152502083404, 'V5225_INAP'),\n",
       " (0.009360429123720043, 'V5918_OFTEN'),\n",
       " (0.00926156095327707, 'PTSDREC_nan'),\n",
       " (0.0091666367428997, 'REL_Protestant'),\n",
       " (0.00905370255612979, 'CDLT_Present'),\n",
       " (0.008955894934562201, 'V5112_VERY'),\n",
       " (0.008826677829080865, 'V5118_SOMEWHAT'),\n",
       " (0.008777922642079227, 'V6649_NO'),\n",
       " (0.008692848320003782, 'SEX_Male'),\n",
       " (0.008397261100760268, 'V4428_VERY TRUE'),\n",
       " (0.00832416600871236, 'V6215_TWO OR MORE YES RESPONSES IN U1-U12'),\n",
       " (0.008301752630639134, 'EMP_Working, incl. temp. laid off, matern./s'),\n",
       " (0.008200672953885529, 'V102_VERY GOOD'),\n",
       " (0.008155064211740745, 'V102_GOOD'),\n",
       " (0.008105463085177395, 'V5118_NOT AT ALL'),\n",
       " (0.008043321080652444, 'MARSTAT_Marswd'),\n",
       " (0.007947956037748892, 'V5112_SOMEWHAT'),\n",
       " (0.007929528121129478, 'V5114_SOMEWHAT'),\n",
       " (0.007848653216966699, 'DEPLT2_Present'),\n",
       " (0.007705176663669236, 'DRGDLT_Present'),\n",
       " (0.007694840659265939, 'V101_VERY GOOD'),\n",
       " (0.0076115593849202055, 'V101_GOOD'),\n",
       " (0.007566706137222487, 'V5115_SOMEWHAT'),\n",
       " (0.007432259890625755, 'V5114_VERY'),\n",
       " (0.007414525210305052, 'V5113_SOMEWHAT'),\n",
       " (0.007365607983958261, 'MARSTAT_Marnev'),\n",
       " (0.007265978514533587, 'EDCAT_16+ Years'),\n",
       " (0.007245262996710571, 'V6126_YES'),\n",
       " (0.007149617818926326, 'V5918_RARELY'),\n",
       " (0.00714431986348084, 'V4433_NOT TRUE AT ALL'),\n",
       " (0.007133306139406508, 'V102_FAIR'),\n",
       " (0.007087063397344867, 'DRGDREC_nan'),\n",
       " (0.007066805815370837, 'V4428_SOMEWHAT TRUE'),\n",
       " (0.00705201737409715, 'V6126_NO'),\n",
       " (0.006969875896723228, 'RACE_White'),\n",
       " (0.006901254008914471, 'V6749_NO'),\n",
       " (0.006714693798383428, 'V5918_SOMETIMES'),\n",
       " (0.006702362333268892, 'V4433_SOMEWHAT TRUE'),\n",
       " (0.006683916395322078, 'EDCAT_13-15 Years'),\n",
       " (0.00668305967674154, 'DEPREC_> 1 Year'),\n",
       " (0.006527948069384167, 'V5225_A LOT'),\n",
       " (0.006451997586067864, 'DYSLT1_Present'),\n",
       " (0.006434165651400242, 'ALCDREC_nan'),\n",
       " (0.0063454505593379526, 'DYSREC_nan'),\n",
       " (0.0063013522287544265, 'MANREC_nan'),\n",
       " (0.00629487301346062, 'ALCDLT_Present'),\n",
       " (0.0062717411439934204, 'ALCDREC_> 1 Year'),\n",
       " (0.006137674160120243, 'SOCREC_nan'),\n",
       " (0.0060261516334509544, 'V4428_NOT TRUE AT ALL'),\n",
       " (0.005922489674883009, 'DRGAREC_nan'),\n",
       " (0.005919481841770761, 'DRGALT1_Present'),\n",
       " (0.005899488516350743, 'V6215_ONLY ONE YES RESPONSE IN U1-U12'),\n",
       " (0.005806497300185769, 'SOCLT_Present'),\n",
       " (0.0057951566099174595, 'V5114_NOT AT ALL'),\n",
       " (0.005788776729510732, 'GADREC_nan'),\n",
       " (0.005722668535375264, 'DRGDREC_> 1 Year'),\n",
       " (0.005716965124879282, 'V101_FAIR'),\n",
       " (0.005695024104230408, 'EMP_Other'),\n",
       " (0.005641471709958797, 'ALCAREC_nan'),\n",
       " (0.005583453458226715, 'ALCALT1_Present'),\n",
       " (0.005564549430347497, 'GADLT2_Present'),\n",
       " (0.005470553581575373, 'BP1LT1_Present'),\n",
       " (0.00544932294859638, 'V5113_VERY'),\n",
       " (0.005436194490578875, 'SIMREC_nan'),\n",
       " (0.00541570206446522, 'V5115_VERY'),\n",
       " (0.005373968662349657, 'AABLT_Present'),\n",
       " (0.005339767241513098, 'V5225_SOME'),\n",
       " (0.005322811039896778, 'SIMLT_Present'),\n",
       " (0.005261635566240221, 'DYSREC_> 1 Year'),\n",
       " (0.005214648650335464, 'REL_No Preference, None'),\n",
       " (0.005150434016484328, 'V5113_NOT AT ALL'),\n",
       " (0.0051432157672218, 'V6649_INAP'),\n",
       " (0.005140821581507773, 'GADLT1_Present'),\n",
       " (0.005107229947849418, 'PTSDREC_> 1 Year'),\n",
       " (0.00510671591013493, 'ALCAREC_> 1 Year'),\n",
       " (0.0050590691091445105, 'AGREC_nan'),\n",
       " (0.004972787040993281, 'V5225_NOT AT ALL'),\n",
       " (0.0048496764886324355, 'PTREC_nan'),\n",
       " (0.004848002761945949, 'DEPREC_>1 Month & <=6 Months'),\n",
       " (0.004842100599256585, 'RACE_Hispanic'),\n",
       " (0.004727488045338092, 'AGOLT2_Present'),\n",
       " (0.004695282023706544, 'AGOLT1_Present'),\n",
       " (0.004663598466096987, 'V6749_YES'),\n",
       " (0.0046587627486583, 'V5115_NOT AT ALL'),\n",
       " (0.00458454035841918, 'DRGAREC_> 1 Year'),\n",
       " (0.004577613103423959, 'V6649_YES'),\n",
       " (0.004505462363335122, 'REL_Other'),\n",
       " (0.004497555024682886, 'PTLT_Present'),\n",
       " (0.004442521334107268, 'BP1LT2_Present'),\n",
       " (0.0040019629706346425, 'ASPLT2_Present'),\n",
       " (0.00397112444811064, 'EMP_Student'),\n",
       " (0.0037197412222033364, 'V5112_NOT AT ALL'),\n",
       " (0.0036568608410639846, 'ALCALT2_Present'),\n",
       " (0.0036201312170062966, 'ALCDREC_>6 Months & <= 1 Year'),\n",
       " (0.003600894720975731, 'V102_POOR'),\n",
       " (0.0036000338785774416, 'DYSLT2_Present'),\n",
       " (0.0035410539462635325, 'ALCAREC_>1 Month & <=6 Months'),\n",
       " (0.003512877253119585, 'ASPLT1_Present'),\n",
       " (0.0033484815675025553, 'V101_POOR'),\n",
       " (0.003331507475455638, 'SIMREC_>1 Month & <=6 Months'),\n",
       " (0.0032616277319290287, 'V5118_VERY'),\n",
       " (0.003143371150373206, 'SOCREC_>1 Month & <=6 Months'),\n",
       " (0.0031370933241337755, 'PDLT_Present'),\n",
       " (0.003134396232558274, 'RACE_Other'),\n",
       " (0.0030648618906265255, 'PDREC_nan'),\n",
       " (0.0030169377467509297, 'AGREC_> 1 Year'),\n",
       " (0.0029675049562774415, 'SOCREC_> 1 Year'),\n",
       " (0.002849640530285424, 'ALCDREC_>1 Month & <=6 Months'),\n",
       " (0.0028257459152444394, 'DRGALT2_Present'),\n",
       " (0.0025859211779713947, 'GADREC_>1 Month & <=6 Months'),\n",
       " (0.0025391486062376154, 'PTSDREC_>1 Month & <=6 Month'),\n",
       " (0.0025328581588536132, 'GADREC_> 1 Year'),\n",
       " (0.0024788737206943865, 'ALCAREC_>6 Months & <= 1 Year'),\n",
       " (0.0023635527752838346, 'DRGDREC_>1 Month & <=6 Months'),\n",
       " (0.0023310020597157024, 'PTREC_> 1 Year'),\n",
       " (0.0022655574991488287, 'PTREC_>1 Month & <=6 Months'),\n",
       " (0.002240907565744675, 'NAPREC_nan'),\n",
       " (0.0021268291865707287, 'NAPLT_Present'),\n",
       " (0.002024379020384761, 'SIMREC_> 1 Year'),\n",
       " (0.00184929324993199, 'AGREC_>1 Month & <=6 Months'),\n",
       " (0.0017910961722169062, 'V6749_INAP'),\n",
       " (0.0017661923925078211, 'DEPREC_>6 Months & <= 1 Year'),\n",
       " (0.0016855395533204498, 'DRGAREC_>1 Month & <=6 Month'),\n",
       " (0.0016059561776243655, 'MANREC_> 1 Year'),\n",
       " (0.0015204038026517762, 'V4433_nan'),\n",
       " (0.0014667147625417505, 'MANLT1_Present'),\n",
       " (0.0014212087387805445, 'PDREC_> 1 Year'),\n",
       " (0.001418367378521268, 'MANREC_>1 Month & <=6 Months'),\n",
       " (0.0013342370520096185, 'SOCREC_>6 Months & <= 1 Year'),\n",
       " (0.001250149509853696, 'DYSREC_>6 Months & <= 1 Year'),\n",
       " (0.0011976634216367132, 'GADREC_>6 Months & <= 1 Year'),\n",
       " (0.0011480683174676881, 'SIMREC_>6 Months & <= 1 Year'),\n",
       " (0.001147729335144833, 'DRGAREC_>6 Months & <= 1 Year'),\n",
       " (0.0010550242042121302, 'DYSREC_>1 Month & <=6 Months'),\n",
       " (0.0009857763566800072, 'PTSDREC_>6 Months & <= 1 Year'),\n",
       " (0.0009763927531220529, 'PDREC_>1 Month & <=6 Month'),\n",
       " (0.0009627272286111057, 'MANLT2_Present'),\n",
       " (0.0008186751820902079, 'PTREC_>6 Months & <= 1 Year'),\n",
       " (0.0007018965982270259, 'DRGDREC_>6 Months & <= 1 Year'),\n",
       " (0.0006775970899071621, 'NAPREC_> 1 Year'),\n",
       " (0.0006769221663457622, 'AGREC_>6 Months & <= 1 Year'),\n",
       " (0.0005440497405551414, 'PDREC_>6 Months & <= 1 Year'),\n",
       " (0.0005361570633529682, 'MANREC_>6 Months & <= 1 Year'),\n",
       " (0.00047080852812897005, 'V5114_nan'),\n",
       " (0.0003854200629316162, 'V4428_nan'),\n",
       " (0.00034370537170360407, 'NAPREC_>1 Month & <=6 Month'),\n",
       " (0.0002670869913767904, 'V5225_nan'),\n",
       " (0.00016428850987418997, 'V6143_nan'),\n",
       " (0.0001279120295217575, 'V5115_nan'),\n",
       " (8.537177507915913e-05, 'V5118_nan'),\n",
       " (7.953053252366215e-05, 'V6749_nan'),\n",
       " (4.869723676992957e-05, 'V5113_nan'),\n",
       " (4.679024039882752e-05, 'V6126_nan'),\n",
       " (3.727646182442941e-05, 'V5112_nan'),\n",
       " (3.579723307871692e-05, 'V4433_INAP'),\n",
       " (3.554686587165641e-05, 'V6114_nan'),\n",
       " (1.5762600604369972e-05, 'V6649_nan'),\n",
       " (6.340717826657807e-06, 'V6305_nan'),\n",
       " (6.173053342489371e-06, 'V4428_INAP'),\n",
       " (4.477138535109549e-06, 'V5114_INAP'),\n",
       " (3.310935650567278e-06, 'V5114_DK'),\n",
       " (2.557667035971721e-06, 'V5112_DK'),\n",
       " (5.912136310988037e-07, 'V5115_INAP'),\n",
       " (3.288689922147089e-07, 'V5918_nan'),\n",
       " (1.423844033598847e-07, 'V5118_DK'),\n",
       " (4.975268054343407e-08, 'V5112_INAP'),\n",
       " (0.0, 'V6301_nan'),\n",
       " (0.0, 'V6215_nan'),\n",
       " (0.0, 'V5118_INAP'),\n",
       " (0.0, 'V5115_DK'),\n",
       " (0.0, 'V5113_INAP'),\n",
       " (0.0, 'V4433_DK'),\n",
       " (0.0, 'V4428_DK'),\n",
       " (0.0, 'V102_nan'),\n",
       " (0.0, 'V101_nan'),\n",
       " (0.0, 'SOCLT_nan'),\n",
       " (0.0, 'SIMLT_nan'),\n",
       " (0.0, 'SEX_nan'),\n",
       " (0.0, 'REL_nan'),\n",
       " (0.0, 'RACE_nan'),\n",
       " (0.0, 'PTSDLT_nan'),\n",
       " (0.0, 'PTLT_nan'),\n",
       " (0.0, 'PDLT_nan'),\n",
       " (0.0, 'NAPLT_nan'),\n",
       " (0.0, 'MARSTAT_nan'),\n",
       " (0.0, 'MANLT2_nan'),\n",
       " (0.0, 'MANLT1_nan'),\n",
       " (0.0, 'GADLT2_nan'),\n",
       " (0.0, 'GADLT1_nan'),\n",
       " (0.0, 'EMP_nan'),\n",
       " (0.0, 'EDCAT_nan'),\n",
       " (0.0, 'DYSLT2_nan'),\n",
       " (0.0, 'DYSLT1_nan'),\n",
       " (0.0, 'DRGDLT_nan'),\n",
       " (0.0, 'DRGALT2_nan'),\n",
       " (0.0, 'DRGALT1_nan'),\n",
       " (0.0, 'DEPLT2_nan'),\n",
       " (0.0, 'DEPLT1_nan'),\n",
       " (0.0, 'CDLT_nan'),\n",
       " (0.0, 'BP1LT2_nan'),\n",
       " (0.0, 'BP1LT1_nan'),\n",
       " (0.0, 'ASPLT2_nan'),\n",
       " (0.0, 'ASPLT1_nan'),\n",
       " (0.0, 'ALCDLT_nan'),\n",
       " (0.0, 'ALCALT2_nan'),\n",
       " (0.0, 'ALCALT1_nan'),\n",
       " (0.0, 'AGOLT2_nan'),\n",
       " (0.0, 'AGOLT1_nan'),\n",
       " (0.0, 'AABLT_nan')]"
      ]
     },
     "execution_count": 26,
     "metadata": {},
     "output_type": "execute_result"
    }
   ],
   "source": [
    "attributes = num_attribs + cat_attribs\n",
    "feature_importances = grid_rf.best_estimator_.feature_importances_\n",
    "sorted(zip(feature_importances, attributes), reverse=True)"
   ]
  },
  {
   "cell_type": "code",
   "execution_count": 27,
   "metadata": {},
   "outputs": [],
   "source": [
    "y_test_pred_rf = grid_rf.best_estimator_.predict(X_test_prepared)"
   ]
  },
  {
   "cell_type": "code",
   "execution_count": 28,
   "metadata": {},
   "outputs": [
    {
     "name": "stdout",
     "output_type": "stream",
     "text": [
      "              precision    recall  f1-score   support\n",
      "\n",
      "           0       0.95      1.00      0.97      1376\n",
      "           1       0.92      0.13      0.23        92\n",
      "\n",
      "   micro avg       0.94      0.94      0.94      1468\n",
      "   macro avg       0.93      0.56      0.60      1468\n",
      "weighted avg       0.94      0.94      0.92      1468\n",
      "\n"
     ]
    }
   ],
   "source": [
    "print(classification_report(y_test, y_test_pred_rf))"
   ]
  },
  {
   "cell_type": "markdown",
   "metadata": {},
   "source": [
    "# Logistic Regression with L1 Regularization"
   ]
  },
  {
   "cell_type": "code",
   "execution_count": 29,
   "metadata": {},
   "outputs": [],
   "source": [
    "### from sklearn.linear_model import LogisticRegression\n",
    "from sklearn.linear_model import LogisticRegression\n",
    "classifier = LogisticRegression(penalty='l1', solver='saga', max_iter=10000, multi_class='auto', n_jobs=-1,verbose=3)"
   ]
  },
  {
   "cell_type": "code",
   "execution_count": 30,
   "metadata": {},
   "outputs": [
    {
     "name": "stderr",
     "output_type": "stream",
     "text": [
      "C:\\Users\\dadra\\anaconda\\Anaconda3\\envs\\PythonWebMongo\\lib\\site-packages\\sklearn\\utils\\validation.py:761: DataConversionWarning: A column-vector y was passed when a 1d array was expected. Please change the shape of y to (n_samples, ), for example using ravel().\n",
      "  y = column_or_1d(y, warn=True)\n",
      "[Parallel(n_jobs=-1)]: Using backend ThreadingBackend with 12 concurrent workers.\n"
     ]
    },
    {
     "name": "stdout",
     "output_type": "stream",
     "text": [
      "convergence after 870 epochs took 477 seconds\n"
     ]
    },
    {
     "name": "stderr",
     "output_type": "stream",
     "text": [
      "[Parallel(n_jobs=-1)]: Done   1 out of   1 | elapsed:  7.9min finished\n"
     ]
    },
    {
     "data": {
      "text/plain": [
       "LogisticRegression(C=1.0, class_weight=None, dual=False, fit_intercept=True,\n",
       "          intercept_scaling=1, max_iter=10000, multi_class='auto',\n",
       "          n_jobs=-1, penalty='l1', random_state=None, solver='saga',\n",
       "          tol=0.0001, verbose=3, warm_start=False)"
      ]
     },
     "execution_count": 30,
     "metadata": {},
     "output_type": "execute_result"
    }
   ],
   "source": [
    "classifier.fit(X_train_prepared, y_train)"
   ]
  },
  {
   "cell_type": "code",
   "execution_count": 31,
   "metadata": {},
   "outputs": [
    {
     "name": "stdout",
     "output_type": "stream",
     "text": [
      "Training Data Score: 0.9620799273387829\n",
      "Testing Data Score: 0.9475476839237057\n"
     ]
    }
   ],
   "source": [
    "print(f\"Training Data Score: {classifier.score(X_train_prepared, y_train)}\")\n",
    "print(f\"Testing Data Score: {classifier.score(X_test_prepared, y_test)}\")"
   ]
  },
  {
   "cell_type": "code",
   "execution_count": 32,
   "metadata": {},
   "outputs": [],
   "source": [
    "y_test_pred = classifier.predict(X_test_prepared)"
   ]
  },
  {
   "cell_type": "code",
   "execution_count": 33,
   "metadata": {},
   "outputs": [
    {
     "name": "stdout",
     "output_type": "stream",
     "text": [
      "              precision    recall  f1-score   support\n",
      "\n",
      "           0       0.96      0.98      0.97      1376\n",
      "           1       0.62      0.42      0.50        92\n",
      "\n",
      "   micro avg       0.95      0.95      0.95      1468\n",
      "   macro avg       0.79      0.70      0.74      1468\n",
      "weighted avg       0.94      0.95      0.94      1468\n",
      "\n"
     ]
    }
   ],
   "source": [
    "print(classification_report(y_test, y_test_pred))"
   ]
  },
  {
   "cell_type": "code",
   "execution_count": 34,
   "metadata": {},
   "outputs": [
    {
     "data": {
      "text/plain": [
       "<Figure size 640x480 with 2 Axes>"
      ]
     },
     "metadata": {},
     "output_type": "display_data"
    }
   ],
   "source": [
    "# We can visualize where the classifier is making errors using a confusion matrix\n",
    "import matplotlib.pyplot as plt\n",
    "from sklearn.metrics import confusion_matrix\n",
    "import seaborn as sns\n",
    "\n",
    "conf_mx = confusion_matrix(y_test, y_test_pred)\n",
    "conf_df= pd.DataFrame(conf_mx, index=classifier.classes_, columns=classifier.classes_)\n",
    "sns.heatmap(conf_df, annot=True, cmap=\"Blues\")\n",
    "plt.title(\"Confusion Matrix\")\n",
    "plt.tight_layout()\n",
    "plt.ylabel(\"True Class\")\n",
    "plt.xlabel(\"Predicted Class\")\n",
    "plt.show()"
   ]
  },
  {
   "cell_type": "markdown",
   "metadata": {},
   "source": [
    "# Search for a Model that Fits Better"
   ]
  },
  {
   "cell_type": "code",
   "execution_count": 35,
   "metadata": {},
   "outputs": [],
   "source": [
    "param_grid = {'C': [0.01, 0.1, 1, 5, 10, 50]}"
   ]
  },
  {
   "cell_type": "code",
   "execution_count": 36,
   "metadata": {},
   "outputs": [],
   "source": [
    "grid = GridSearchCV(classifier, param_grid, verbose=3, n_jobs=-1)"
   ]
  },
  {
   "cell_type": "code",
   "execution_count": 37,
   "metadata": {},
   "outputs": [
    {
     "name": "stderr",
     "output_type": "stream",
     "text": [
      "C:\\Users\\dadra\\anaconda\\Anaconda3\\envs\\PythonWebMongo\\lib\\site-packages\\sklearn\\model_selection\\_split.py:2053: FutureWarning: You should specify a value for 'cv' instead of relying on the default value. The default value will change from 3 to 5 in version 0.22.\n",
      "  warnings.warn(CV_WARNING, FutureWarning)\n",
      "[Parallel(n_jobs=-1)]: Using backend LokyBackend with 12 concurrent workers.\n"
     ]
    },
    {
     "name": "stdout",
     "output_type": "stream",
     "text": [
      "Fitting 3 folds for each of 6 candidates, totalling 18 fits\n"
     ]
    },
    {
     "name": "stderr",
     "output_type": "stream",
     "text": [
      "[Parallel(n_jobs=-1)]: Done   2 out of  18 | elapsed:   17.1s remaining:  2.3min\n",
      "[Parallel(n_jobs=-1)]: Done   9 out of  18 | elapsed:   43.2s remaining:   43.2s\n",
      "[Parallel(n_jobs=-1)]: Done  16 out of  18 | elapsed:  1.1min remaining:    7.9s\n",
      "[Parallel(n_jobs=-1)]: Done  18 out of  18 | elapsed:  1.2min finished\n",
      "C:\\Users\\dadra\\anaconda\\Anaconda3\\envs\\PythonWebMongo\\lib\\site-packages\\sklearn\\utils\\validation.py:761: DataConversionWarning: A column-vector y was passed when a 1d array was expected. Please change the shape of y to (n_samples, ), for example using ravel().\n",
      "  y = column_or_1d(y, warn=True)\n",
      "[Parallel(n_jobs=-1)]: Using backend ThreadingBackend with 12 concurrent workers.\n"
     ]
    },
    {
     "name": "stdout",
     "output_type": "stream",
     "text": [
      "convergence after 637 epochs took 9 seconds\n"
     ]
    },
    {
     "name": "stderr",
     "output_type": "stream",
     "text": [
      "[Parallel(n_jobs=-1)]: Done   1 out of   1 | elapsed:    8.0s finished\n"
     ]
    },
    {
     "data": {
      "text/plain": [
       "GridSearchCV(cv='warn', error_score='raise-deprecating',\n",
       "       estimator=LogisticRegression(C=1.0, class_weight=None, dual=False, fit_intercept=True,\n",
       "          intercept_scaling=1, max_iter=10000, multi_class='auto',\n",
       "          n_jobs=-1, penalty='l1', random_state=None, solver='saga',\n",
       "          tol=0.0001, verbose=3, warm_start=False),\n",
       "       fit_params=None, iid='warn', n_jobs=-1,\n",
       "       param_grid={'C': [0.01, 0.1, 1, 5, 10, 50]},\n",
       "       pre_dispatch='2*n_jobs', refit=True, return_train_score='warn',\n",
       "       scoring=None, verbose=3)"
      ]
     },
     "execution_count": 37,
     "metadata": {},
     "output_type": "execute_result"
    }
   ],
   "source": [
    "grid.fit(X_train_prepared, y_train)"
   ]
  },
  {
   "cell_type": "code",
   "execution_count": 38,
   "metadata": {},
   "outputs": [
    {
     "data": {
      "text/plain": [
       "{'C': 0.1}"
      ]
     },
     "execution_count": 38,
     "metadata": {},
     "output_type": "execute_result"
    }
   ],
   "source": [
    "grid.best_params_"
   ]
  },
  {
   "cell_type": "code",
   "execution_count": 39,
   "metadata": {},
   "outputs": [],
   "source": [
    "param_grid = {'C': [0.01, 0.02, 0.05, 0.1, 0.15, 0.20, 0.5]}"
   ]
  },
  {
   "cell_type": "code",
   "execution_count": 40,
   "metadata": {},
   "outputs": [
    {
     "name": "stderr",
     "output_type": "stream",
     "text": [
      "C:\\Users\\dadra\\anaconda\\Anaconda3\\envs\\PythonWebMongo\\lib\\site-packages\\sklearn\\model_selection\\_split.py:2053: FutureWarning: You should specify a value for 'cv' instead of relying on the default value. The default value will change from 3 to 5 in version 0.22.\n",
      "  warnings.warn(CV_WARNING, FutureWarning)\n",
      "[Parallel(n_jobs=-1)]: Using backend LokyBackend with 12 concurrent workers.\n"
     ]
    },
    {
     "name": "stdout",
     "output_type": "stream",
     "text": [
      "Fitting 3 folds for each of 7 candidates, totalling 21 fits\n"
     ]
    },
    {
     "name": "stderr",
     "output_type": "stream",
     "text": [
      "[Parallel(n_jobs=-1)]: Done   6 out of  21 | elapsed:    8.9s remaining:   22.5s\n",
      "[Parallel(n_jobs=-1)]: Done  14 out of  21 | elapsed:   21.6s remaining:   10.8s\n",
      "[Parallel(n_jobs=-1)]: Done  21 out of  21 | elapsed:   29.1s finished\n",
      "C:\\Users\\dadra\\anaconda\\Anaconda3\\envs\\PythonWebMongo\\lib\\site-packages\\sklearn\\utils\\validation.py:761: DataConversionWarning: A column-vector y was passed when a 1d array was expected. Please change the shape of y to (n_samples, ), for example using ravel().\n",
      "  y = column_or_1d(y, warn=True)\n",
      "[Parallel(n_jobs=-1)]: Using backend ThreadingBackend with 12 concurrent workers.\n"
     ]
    },
    {
     "name": "stdout",
     "output_type": "stream",
     "text": [
      "convergence after 638 epochs took 9 seconds\n"
     ]
    },
    {
     "name": "stderr",
     "output_type": "stream",
     "text": [
      "[Parallel(n_jobs=-1)]: Done   1 out of   1 | elapsed:    8.3s finished\n"
     ]
    },
    {
     "data": {
      "text/plain": [
       "GridSearchCV(cv='warn', error_score='raise-deprecating',\n",
       "       estimator=LogisticRegression(C=1.0, class_weight=None, dual=False, fit_intercept=True,\n",
       "          intercept_scaling=1, max_iter=10000, multi_class='auto',\n",
       "          n_jobs=-1, penalty='l1', random_state=None, solver='saga',\n",
       "          tol=0.0001, verbose=3, warm_start=False),\n",
       "       fit_params=None, iid='warn', n_jobs=-1,\n",
       "       param_grid={'C': [0.01, 0.02, 0.05, 0.1, 0.15, 0.2, 0.5]},\n",
       "       pre_dispatch='2*n_jobs', refit=True, return_train_score='warn',\n",
       "       scoring=None, verbose=3)"
      ]
     },
     "execution_count": 40,
     "metadata": {},
     "output_type": "execute_result"
    }
   ],
   "source": [
    "grid = GridSearchCV(classifier, param_grid, verbose=3, n_jobs=-1)\n",
    "grid.fit(X_train_prepared, y_train)"
   ]
  },
  {
   "cell_type": "code",
   "execution_count": 41,
   "metadata": {},
   "outputs": [
    {
     "data": {
      "text/plain": [
       "{'C': 0.1}"
      ]
     },
     "execution_count": 41,
     "metadata": {},
     "output_type": "execute_result"
    }
   ],
   "source": [
    "grid.best_params_"
   ]
  },
  {
   "cell_type": "code",
   "execution_count": 42,
   "metadata": {},
   "outputs": [
    {
     "data": {
      "text/plain": [
       "0.9500454132606722"
      ]
     },
     "execution_count": 42,
     "metadata": {},
     "output_type": "execute_result"
    }
   ],
   "source": [
    "grid.best_score_"
   ]
  },
  {
   "cell_type": "code",
   "execution_count": 45,
   "metadata": {},
   "outputs": [
    {
     "name": "stderr",
     "output_type": "stream",
     "text": [
      "C:\\Users\\dadra\\anaconda\\Anaconda3\\envs\\PythonWebMongo\\lib\\site-packages\\sklearn\\model_selection\\_split.py:2053: FutureWarning: You should specify a value for 'cv' instead of relying on the default value. The default value will change from 3 to 5 in version 0.22.\n",
      "  warnings.warn(CV_WARNING, FutureWarning)\n",
      "[Parallel(n_jobs=-1)]: Using backend LokyBackend with 12 concurrent workers.\n"
     ]
    },
    {
     "name": "stdout",
     "output_type": "stream",
     "text": [
      "Fitting 3 folds for each of 3 candidates, totalling 9 fits\n"
     ]
    },
    {
     "name": "stderr",
     "output_type": "stream",
     "text": [
      "[Parallel(n_jobs=-1)]: Done   2 out of   9 | elapsed:    9.5s remaining:   33.4s\n",
      "[Parallel(n_jobs=-1)]: Done   6 out of   9 | elapsed:   11.6s remaining:    5.7s\n",
      "[Parallel(n_jobs=-1)]: Done   9 out of   9 | elapsed:   12.7s finished\n",
      "[Parallel(n_jobs=-1)]: Using backend ThreadingBackend with 12 concurrent workers.\n"
     ]
    },
    {
     "name": "stdout",
     "output_type": "stream",
     "text": [
      "convergence after 770 epochs took 8 seconds\n"
     ]
    },
    {
     "name": "stderr",
     "output_type": "stream",
     "text": [
      "[Parallel(n_jobs=-1)]: Done   1 out of   1 | elapsed:    8.0s finished\n"
     ]
    },
    {
     "data": {
      "text/plain": [
       "GridSearchCV(cv='warn', error_score='raise-deprecating',\n",
       "       estimator=LogisticRegression(C=1.0, class_weight=None, dual=False, fit_intercept=True,\n",
       "          intercept_scaling=1, max_iter=10000, multi_class='auto',\n",
       "          n_jobs=-1, penalty='l1', random_state=None, solver='saga',\n",
       "          tol=0.0001, verbose=3, warm_start=False),\n",
       "       fit_params=None, iid='warn', n_jobs=-1,\n",
       "       param_grid={'C': [0.1, 0.25, 0.5]}, pre_dispatch='2*n_jobs',\n",
       "       refit=True, return_train_score='warn', scoring=None, verbose=3)"
      ]
     },
     "execution_count": 45,
     "metadata": {},
     "output_type": "execute_result"
    }
   ],
   "source": [
    "param_grid = {'C': [0.1, 0.25, 0.5]}\n",
    "grid = GridSearchCV(classifier, param_grid, verbose=3, n_jobs=-1)\n",
    "grid.fit(X_train_prepared, y_train)"
   ]
  },
  {
   "cell_type": "code",
   "execution_count": 46,
   "metadata": {},
   "outputs": [
    {
     "data": {
      "text/plain": [
       "{'C': 0.5}"
      ]
     },
     "execution_count": 46,
     "metadata": {},
     "output_type": "execute_result"
    }
   ],
   "source": [
    "grid.best_params_"
   ]
  },
  {
   "cell_type": "markdown",
   "metadata": {},
   "source": [
    "# Look at the Coefficients for the Model"
   ]
  },
  {
   "cell_type": "code",
   "execution_count": 43,
   "metadata": {
    "scrolled": false
   },
   "outputs": [
    {
     "name": "stdout",
     "output_type": "stream",
     "text": [
      "(1.3177261442024035, 'V6301_YES')\n",
      "(0.31496479309564157, 'V6305_YES')\n",
      "(0.16614308374566397, 'V5112_VERY')\n",
      "(0.13512150936645947, 'RACE_Other')\n",
      "(0.12350822513698245, 'ALCDREC_>6 Months & <= 1 Year')\n",
      "(0.12244124795428828, 'GADLT2_Present')\n",
      "(0.10925772039676565, 'V6143_YES')\n",
      "(0.08796903930691181, 'DRGDLT_Present')\n",
      "(0.08705935499462047, 'V6649_YES')\n",
      "(0.08372262429724496, 'V5114_VERY')\n",
      "(0.07621223371950332, 'MANREC_> 1 Year')\n",
      "(0.07568347493475322, 'DEPREC_>1 Month & <=6 Months')\n",
      "(0.07047599023655027, 'CDLT_Present')\n",
      "(0.06986910050610946, 'AGOLT2_Present')\n",
      "(0.06316123370993511, 'DEPREC_> 1 Year')\n",
      "(0.04048132000073448, 'PTSDREC_>1 Month & <=6 Month')\n",
      "(0.04006340247112914, 'SIMREC_>1 Month & <=6 Months')\n",
      "(0.03803443903940499, 'PTSDREC_> 1 Year')\n",
      "(0.03705600086858265, 'SIMREC_nan')\n",
      "(0.03568339032434916, 'SOCREC_>1 Month & <=6 Months')\n",
      "(0.03564872459374279, 'V102_FAIR')\n",
      "(0.034247511502114386, 'MARSTAT_Marswd')\n",
      "(0.034041175668555815, 'V6749_YES')\n",
      "(0.03215963155361504, 'V4433_VERY TRUE')\n",
      "(0.025812902050477267, 'GADREC_>1 Month & <=6 Months')\n",
      "(0.024607309478390224, 'V6649_INAP')\n",
      "(0.023339957580720667, 'MANREC_>1 Month & <=6 Months')\n",
      "(0.02225737112432209, 'EMP_Other')\n",
      "(0.020620756109302803, 'GADREC_>6 Months & <= 1 Year')\n",
      "(0.020526217115620585, 'MANLT1_Present')\n",
      "(0.01985428009562052, 'DYSLT2_Present')\n",
      "(0.018993939205848638, 'MANREC_>6 Months & <= 1 Year')\n",
      "(0.01729208241559637, 'V5114_NOT AT ALL')\n",
      "(0.014541609034905489, 'DEPLT2_Present')\n",
      "(0.013690611916687205, 'V4428_SOMEWHAT TRUE')\n",
      "(0.011872824927163671, 'DEPLT1_Present')\n",
      "(0.00901316339890208, 'V5225_A LOT')\n",
      "(0.006835254357228425, 'V102_POOR')\n",
      "(0.005528899041492386, 'PTREC_>1 Month & <=6 Months')\n",
      "(0.0021001492196563417, 'ASPLT1_Present')\n",
      "(0.0017365659805978202, 'ALCAREC_>1 Month & <=6 Months')\n",
      "(0.0010686576468358288, 'V6114_YES')\n",
      "(0.00046070855277562594, 'PDREC_nan')\n",
      "(0.0, 'V6749_nan')\n",
      "(0.0, 'V6749_NO')\n",
      "(0.0, 'V6749_INAP')\n",
      "(0.0, 'V6649_nan')\n",
      "(0.0, 'V6305_nan')\n",
      "(0.0, 'V6301_nan')\n",
      "(0.0, 'V6215_nan')\n",
      "(0.0, 'V6215_TWO OR MORE YES RESPONSES IN U1-U12')\n",
      "(0.0, 'V6215_ONLY ONE YES RESPONSE IN U1-U12')\n",
      "(0.0, 'V6143_nan')\n",
      "(0.0, 'V6126_YES')\n",
      "(0.0, 'V6126_NO')\n",
      "(0.0, 'V5918_nan')\n",
      "(0.0, 'V5918_RARELY')\n",
      "(0.0, 'V5918_OFTEN')\n",
      "(0.0, 'V5225_SOME')\n",
      "(0.0, 'V5225_NOT AT ALL')\n",
      "(0.0, 'V5118_SOMEWHAT')\n",
      "(0.0, 'V5118_NOT AT ALL')\n",
      "(0.0, 'V5118_INAP')\n",
      "(0.0, 'V5118_DK')\n",
      "(0.0, 'V5115_nan')\n",
      "(0.0, 'V5115_VERY')\n",
      "(0.0, 'V5115_SOMEWHAT')\n",
      "(0.0, 'V5115_NOT AT ALL')\n",
      "(0.0, 'V5115_INAP')\n",
      "(0.0, 'V5115_DK')\n",
      "(0.0, 'V5114_nan')\n",
      "(0.0, 'V5114_SOMEWHAT')\n",
      "(0.0, 'V5114_INAP')\n",
      "(0.0, 'V5114_DK')\n",
      "(0.0, 'V5113_nan')\n",
      "(0.0, 'V5113_SOMEWHAT')\n",
      "(0.0, 'V5113_NOT AT ALL')\n",
      "(0.0, 'V5113_INAP')\n",
      "(0.0, 'V5112_nan')\n",
      "(0.0, 'V5112_SOMEWHAT')\n",
      "(0.0, 'V5112_NOT AT ALL')\n",
      "(0.0, 'V5112_INAP')\n",
      "(0.0, 'V5112_DK')\n",
      "(0.0, 'V4433_nan')\n",
      "(0.0, 'V4433_SOMEWHAT TRUE')\n",
      "(0.0, 'V4433_INAP')\n",
      "(0.0, 'V4433_DK')\n",
      "(0.0, 'V4428_VERY TRUE')\n",
      "(0.0, 'V4428_NOT TRUE AT ALL')\n",
      "(0.0, 'V4428_INAP')\n",
      "(0.0, 'V4428_DK')\n",
      "(0.0, 'V102_nan')\n",
      "(0.0, 'V102_GOOD')\n",
      "(0.0, 'V101_nan')\n",
      "(0.0, 'V101_VERY GOOD')\n",
      "(0.0, 'V101_POOR')\n",
      "(0.0, 'V101_GOOD')\n",
      "(0.0, 'V101_FAIR')\n",
      "(0.0, 'SOCREC_nan')\n",
      "(0.0, 'SOCREC_>6 Months & <= 1 Year')\n",
      "(0.0, 'SOCREC_> 1 Year')\n",
      "(0.0, 'SOCLT_nan')\n",
      "(0.0, 'SOCLT_Present')\n",
      "(0.0, 'SIMREC_> 1 Year')\n",
      "(0.0, 'SIMLT_nan')\n",
      "(0.0, 'SEX_nan')\n",
      "(0.0, 'REL_nan')\n",
      "(0.0, 'REL_Protestant')\n",
      "(0.0, 'REL_Other')\n",
      "(0.0, 'REL_No Preference, None')\n",
      "(0.0, 'RACE_nan')\n",
      "(0.0, 'RACE_Hispanic')\n",
      "(0.0, 'PTSDREC_nan')\n",
      "(0.0, 'PTSDLT_nan')\n",
      "(0.0, 'PTSDLT_Present')\n",
      "(0.0, 'PTREC_nan')\n",
      "(0.0, 'PTREC_>6 Months & <= 1 Year')\n",
      "(0.0, 'PTREC_> 1 Year')\n",
      "(0.0, 'PTLT_nan')\n",
      "(0.0, 'PTLT_Present')\n",
      "(0.0, 'PDREC_>6 Months & <= 1 Year')\n",
      "(0.0, 'PDREC_> 1 Year')\n",
      "(0.0, 'PDLT_nan')\n",
      "(0.0, 'NAPREC_nan')\n",
      "(0.0, 'NAPREC_>1 Month & <=6 Month')\n",
      "(0.0, 'NAPREC_> 1 Year')\n",
      "(0.0, 'NAPLT_nan')\n",
      "(0.0, 'NAPLT_Present')\n",
      "(0.0, 'MARSTAT_nan')\n",
      "(0.0, 'MANREC_nan')\n",
      "(0.0, 'MANLT2_nan')\n",
      "(0.0, 'MANLT2_Present')\n",
      "(0.0, 'MANLT1_nan')\n",
      "(0.0, 'GADREC_nan')\n",
      "(0.0, 'GADLT2_nan')\n",
      "(0.0, 'GADLT1_nan')\n",
      "(0.0, 'GADLT1_Present')\n",
      "(0.0, 'EMP_nan')\n",
      "(0.0, 'EMP_Working, incl. temp. laid off, matern./s')\n",
      "(0.0, 'EMP_Student')\n",
      "(0.0, 'EDCAT_nan')\n",
      "(0.0, 'EDCAT_12 Years')\n",
      "(0.0, 'DYSREC_nan')\n",
      "(0.0, 'DYSREC_>6 Months & <= 1 Year')\n",
      "(0.0, 'DYSREC_>1 Month & <=6 Months')\n",
      "(0.0, 'DYSREC_> 1 Year')\n",
      "(0.0, 'DYSLT2_nan')\n",
      "(0.0, 'DYSLT1_nan')\n",
      "(0.0, 'DYSLT1_Present')\n",
      "(0.0, 'DRGDREC_nan')\n",
      "(0.0, 'DRGDREC_>1 Month & <=6 Months')\n",
      "(0.0, 'DRGDREC_> 1 Year')\n",
      "(0.0, 'DRGDLT_nan')\n",
      "(0.0, 'DRGAREC_nan')\n",
      "(0.0, 'DRGAREC_>6 Months & <= 1 Year')\n",
      "(0.0, 'DRGAREC_>1 Month & <=6 Month')\n",
      "(0.0, 'DRGAREC_> 1 Year')\n",
      "(0.0, 'DRGALT2_nan')\n",
      "(0.0, 'DRGALT2_Present')\n",
      "(0.0, 'DRGALT1_nan')\n",
      "(0.0, 'DRGALT1_Present')\n",
      "(0.0, 'DEPLT2_nan')\n",
      "(0.0, 'DEPLT1_nan')\n",
      "(0.0, 'CDLT_nan')\n",
      "(0.0, 'BP1LT2_nan')\n",
      "(0.0, 'BP1LT2_Present')\n",
      "(0.0, 'BP1LT1_nan')\n",
      "(0.0, 'BP1LT1_Present')\n",
      "(0.0, 'ASPLT2_nan')\n",
      "(0.0, 'ASPLT2_Present')\n",
      "(0.0, 'ASPLT1_nan')\n",
      "(0.0, 'ALCDREC_nan')\n",
      "(0.0, 'ALCDREC_>1 Month & <=6 Months')\n",
      "(0.0, 'ALCDREC_> 1 Year')\n",
      "(0.0, 'ALCDLT_nan')\n",
      "(0.0, 'ALCDLT_Present')\n",
      "(0.0, 'ALCAREC_nan')\n",
      "(0.0, 'ALCAREC_>6 Months & <= 1 Year')\n",
      "(0.0, 'ALCALT2_nan')\n",
      "(0.0, 'ALCALT2_Present')\n",
      "(0.0, 'ALCALT1_nan')\n",
      "(0.0, 'ALCALT1_Present')\n",
      "(0.0, 'AGREC_nan')\n",
      "(0.0, 'AGREC_>6 Months & <= 1 Year')\n",
      "(0.0, 'AGREC_>1 Month & <=6 Months')\n",
      "(0.0, 'AGREC_> 1 Year')\n",
      "(0.0, 'AGOLT2_nan')\n",
      "(0.0, 'AGOLT1_nan')\n",
      "(0.0, 'AGOLT1_Present')\n",
      "(0.0, 'AGE')\n",
      "(0.0, 'AABLT_nan')\n",
      "(0.0, 'AABLT_Present')\n",
      "(-0.0004607085527723553, 'PDLT_Present')\n",
      "(-0.0009945955651722157, 'V6114_nan')\n",
      "(-0.011872824927163706, 'DEPREC_nan')\n",
      "(-0.013229330071340046, 'V4433_NOT TRUE AT ALL')\n",
      "(-0.029059823787289985, 'GADREC_> 1 Year')\n",
      "(-0.02915979526596984, 'PDREC_>1 Month & <=6 Month')\n",
      "(-0.029374480911870615, 'PTSDREC_>6 Months & <= 1 Year')\n",
      "(-0.0305732459512267, 'ALCAREC_> 1 Year')\n",
      "(-0.03190669041135692, 'V6126_nan')\n",
      "(-0.0338605075108762, 'V6649_NO')\n",
      "(-0.03705600086857948, 'SIMLT_Present')\n",
      "(-0.05160623737942452, 'V5113_VERY')\n",
      "(-0.055838159690378926, 'V5118_nan')\n",
      "(-0.05776249502682656, 'DRGDREC_>6 Months & <= 1 Year')\n",
      "(-0.06466243203886293, 'SIMREC_>6 Months & <= 1 Year')\n",
      "(-0.06735734148685919, 'RACE_White')\n",
      "(-0.06886872488916604, 'DEPREC_>6 Months & <= 1 Year')\n",
      "(-0.07712555392166508, 'V5918_SOMETIMES')\n",
      "(-0.09052109430779336, 'V5118_VERY')\n",
      "(-0.09123950583887357, 'V5225_INAP')\n",
      "(-0.09343290914974182, 'MARSTAT_Marnev')\n",
      "(-0.09799284529855459, 'SEX_Male')\n",
      "(-0.10721502153413935, 'V102_VERY GOOD')\n",
      "(-0.11993678442658565, 'V4428_nan')\n",
      "(-0.12484640367630927, 'V5225_nan')\n",
      "(-0.16752492570628272, 'V6114_NO')\n",
      "(-0.21813044163524192, 'EDCAT_13-15 Years')\n",
      "(-0.49999461829503694, 'EDCAT_16+ Years')\n"
     ]
    }
   ],
   "source": [
    "# The estimated coefficients\n",
    "final_model = grid.best_estimator_\n",
    "fit_coefs = final_model.coef_\n",
    "\n",
    "for feat_imp in sorted(zip(fit_coefs[0], attributes), reverse=True):\n",
    "    print(feat_imp)"
   ]
  },
  {
   "cell_type": "code",
   "execution_count": 44,
   "metadata": {},
   "outputs": [],
   "source": [
    "final_model = grid.best_estimator_"
   ]
  },
  {
   "cell_type": "code",
   "execution_count": 45,
   "metadata": {},
   "outputs": [
    {
     "name": "stdout",
     "output_type": "stream",
     "text": [
      "              precision    recall  f1-score   support\n",
      "\n",
      "           0       0.96      0.99      0.97      1376\n",
      "           1       0.69      0.41      0.52        92\n",
      "\n",
      "   micro avg       0.95      0.95      0.95      1468\n",
      "   macro avg       0.83      0.70      0.75      1468\n",
      "weighted avg       0.94      0.95      0.95      1468\n",
      "\n"
     ]
    }
   ],
   "source": [
    "y_test_pred = final_model.predict(X_test_prepared)\n",
    "print(classification_report(y_test, y_test_pred))"
   ]
  },
  {
   "cell_type": "markdown",
   "metadata": {},
   "source": [
    "# The ROC Curve for our Classifier"
   ]
  },
  {
   "cell_type": "code",
   "execution_count": 46,
   "metadata": {},
   "outputs": [
    {
     "name": "stderr",
     "output_type": "stream",
     "text": [
      "C:\\Users\\dadra\\anaconda\\Anaconda3\\envs\\PythonWebMongo\\lib\\site-packages\\sklearn\\preprocessing\\label.py:235: DataConversionWarning: A column-vector y was passed when a 1d array was expected. Please change the shape of y to (n_samples, ), for example using ravel().\n",
      "  y = column_or_1d(y, warn=True)\n"
     ]
    }
   ],
   "source": [
    "from sklearn.model_selection import cross_val_predict\n",
    "y_scores = cross_val_predict(final_model, X_train_prepared, y_train, cv=3, method=\"decision_function\", n_jobs=-1)"
   ]
  },
  {
   "cell_type": "code",
   "execution_count": 50,
   "metadata": {},
   "outputs": [],
   "source": [
    "#y_train_0 = pd.get_dummies(y_train, drop_first=True).values\n",
    "y_train_0 = y_train"
   ]
  },
  {
   "cell_type": "code",
   "execution_count": 51,
   "metadata": {},
   "outputs": [],
   "source": [
    "from sklearn.metrics import roc_curve\n",
    "fpr, tpr, thresholds = roc_curve(y_train_0, y_scores)"
   ]
  },
  {
   "cell_type": "code",
   "execution_count": 52,
   "metadata": {},
   "outputs": [
    {
     "data": {
      "image/png": "[encoded data removed]",
      "text/plain": [
       "<Figure size 864x576 with 1 Axes>"
      ]
     },
     "metadata": {
      "needs_background": "light"
     },
     "output_type": "display_data"
    }
   ],
   "source": [
    "def plot_roc_curve(fpr, tpr, label=None):\n",
    "    plt.figure(figsize=(12,8))\n",
    "    plt.plot(fpr, tpr, linewidth=2, label=label)\n",
    "    plt.plot([0,1],[0,1], 'k--')\n",
    "    plt.axis([0,1,0,1])\n",
    "    plt.xlabel('False Positive Rate')\n",
    "    plt.ylabel('True Positive Rate')\n",
    "    \n",
    "plot_roc_curve(fpr, tpr)\n",
    "plt.show()"
   ]
  },
  {
   "cell_type": "code",
   "execution_count": null,
   "metadata": {},
   "outputs": [],
   "source": []
  },
  {
   "cell_type": "code",
   "execution_count": 53,
   "metadata": {},
   "outputs": [],
   "source": [
    "from sklearn.metrics import precision_recall_curve"
   ]
  },
  {
   "cell_type": "code",
   "execution_count": 54,
   "metadata": {},
   "outputs": [
    {
     "name": "stderr",
     "output_type": "stream",
     "text": [
      "C:\\Users\\dadra\\anaconda\\Anaconda3\\envs\\PythonWebMongo\\lib\\site-packages\\sklearn\\preprocessing\\label.py:235: DataConversionWarning: A column-vector y was passed when a 1d array was expected. Please change the shape of y to (n_samples, ), for example using ravel().\n",
      "  y = column_or_1d(y, warn=True)\n"
     ]
    }
   ],
   "source": [
    "y_scores = cross_val_predict(final_model, X_train_prepared, y_train_0.reshape((-1,1)), cv=3, method=\"decision_function\", n_jobs=-1)\n",
    "precisions, recalls, thresholds = precision_recall_curve(y_train_0, y_scores)"
   ]
  },
  {
   "cell_type": "code",
   "execution_count": 55,
   "metadata": {},
   "outputs": [],
   "source": [
    "def plot_precision_recall_vs_threshold(precisions, recalls, thresholds):\n",
    "    plt.figure(figsize=(12,8))\n",
    "    plt.plot(thresholds, precisions[:-1], 'b--', label=\"Precision\")\n",
    "    plt.plot(thresholds, recalls[:-1], 'g-', label=\"Recall\")\n",
    "    plt.xlabel(\"Threshold\")\n",
    "    plt.legend(loc=\"center left\")\n",
    "    plt.ylim([0, 1])"
   ]
  },
  {
   "cell_type": "code",
   "execution_count": 56,
   "metadata": {
    "scrolled": false
   },
   "outputs": [
    {
     "data": {
      "image/png": "[encoded data removed]",
      "text/plain": [
       "<Figure size 864x576 with 1 Axes>"
      ]
     },
     "metadata": {
      "needs_background": "light"
     },
     "output_type": "display_data"
    }
   ],
   "source": [
    "plot_precision_recall_vs_threshold(precisions, recalls, thresholds)\n",
    "plt.show()"
   ]
  },
  {
   "cell_type": "code",
   "execution_count": 60,
   "metadata": {},
   "outputs": [
    {
     "data": {
      "text/plain": [
       "<Figure size 432x288 with 0 Axes>"
      ]
     },
     "metadata": {},
     "output_type": "display_data"
    }
   ],
   "source": [
    "plt.savefig(\"newprecvsrecall.png\")"
   ]
  },
  {
   "cell_type": "markdown",
   "metadata": {},
   "source": [
    "# Compare the ROC Curves - Random Forest and L1 Logistic Regression"
   ]
  },
  {
   "cell_type": "code",
   "execution_count": 61,
   "metadata": {},
   "outputs": [
    {
     "name": "stderr",
     "output_type": "stream",
     "text": [
      "C:\\Users\\dadra\\anaconda\\Anaconda3\\envs\\PythonWebMongo\\lib\\site-packages\\sklearn\\preprocessing\\label.py:235: DataConversionWarning: A column-vector y was passed when a 1d array was expected. Please change the shape of y to (n_samples, ), for example using ravel().\n",
      "  y = column_or_1d(y, warn=True)\n"
     ]
    }
   ],
   "source": [
    "y_probas_forest = cross_val_predict(grid_rf.best_estimator_, X_train_prepared, y_train_0, cv=3, method=\"predict_proba\")"
   ]
  },
  {
   "cell_type": "code",
   "execution_count": 62,
   "metadata": {},
   "outputs": [],
   "source": [
    "y_scores_forest = y_probas_forest[:,1]\n",
    "fpr_forest, tpr_forest, thresholds_forest = roc_curve(y_train_0, y_scores_forest)"
   ]
  },
  {
   "cell_type": "code",
   "execution_count": 63,
   "metadata": {},
   "outputs": [
    {
     "data": {
      "image/png": "[encoded data removed]",
      "text/plain": [
       "<Figure size 864x576 with 1 Axes>"
      ]
     },
     "metadata": {
      "needs_background": "light"
     },
     "output_type": "display_data"
    }
   ],
   "source": [
    "plot_roc_curve(fpr_forest, tpr_forest, \"Random Forest\")\n",
    "plt.plot(fpr, tpr, \"b:\", label=\"L1 Logistic\")\n",
    "plt.legend(loc=\"lower right\")\n",
    "plt.show()"
   ]
  },
  {
   "cell_type": "markdown",
   "metadata": {},
   "source": [
    "# AdaBoost"
   ]
  },
  {
   "cell_type": "code",
   "execution_count": 64,
   "metadata": {},
   "outputs": [
    {
     "data": {
      "text/plain": [
       "AdaBoostClassifier(algorithm='SAMME.R',\n",
       "          base_estimator=DecisionTreeClassifier(class_weight=None, criterion='gini', max_depth=1,\n",
       "            max_features=None, max_leaf_nodes=None,\n",
       "            min_impurity_decrease=0.0, min_impurity_split=None,\n",
       "            min_samples_leaf=1, min_samples_split=2,\n",
       "            min_weight_fraction_leaf=0.0, presort=False, random_state=None,\n",
       "            splitter='best'),\n",
       "          learning_rate=0.5, n_estimators=500, random_state=None)"
      ]
     },
     "execution_count": 64,
     "metadata": {},
     "output_type": "execute_result"
    }
   ],
   "source": [
    "from sklearn.ensemble import AdaBoostClassifier\n",
    "\n",
    "ada_clf =  AdaBoostClassifier(\n",
    "    DecisionTreeClassifier(max_depth=1), n_estimators=500,\n",
    "                           algorithm=\"SAMME.R\", learning_rate=0.5)\n",
    "ada_clf.fit(X_train_prepared, y_train)"
   ]
  },
  {
   "cell_type": "code",
   "execution_count": 65,
   "metadata": {},
   "outputs": [
    {
     "name": "stdout",
     "output_type": "stream",
     "text": [
      "Training Data Score: 0.9543596730245232\n",
      "Testing Data Score: 0.944141689373297\n"
     ]
    }
   ],
   "source": [
    "print(f\"Training Data Score: {ada_clf.score(X_train_prepared, y_train)}\")\n",
    "print(f\"Testing Data Score: {ada_clf.score(X_test_prepared, y_test)}\")"
   ]
  },
  {
   "cell_type": "code",
   "execution_count": 66,
   "metadata": {},
   "outputs": [
    {
     "name": "stdout",
     "output_type": "stream",
     "text": [
      "              precision    recall  f1-score   support\n",
      "\n",
      "          NO       0.96      0.98      0.97      1376\n",
      "         YES       0.57      0.43      0.49        92\n",
      "\n",
      "   micro avg       0.94      0.94      0.94      1468\n",
      "   macro avg       0.77      0.71      0.73      1468\n",
      "weighted avg       0.94      0.94      0.94      1468\n",
      "\n"
     ]
    }
   ],
   "source": [
    "print(classification_report(y_test, ada_clf.predict(X_test_prepared)))"
   ]
  },
  {
   "cell_type": "code",
   "execution_count": 67,
   "metadata": {},
   "outputs": [
    {
     "name": "stderr",
     "output_type": "stream",
     "text": [
      "C:\\Users\\dadra\\anaconda\\Anaconda3\\envs\\PythonWebMongo\\lib\\site-packages\\sklearn\\model_selection\\_split.py:2053: FutureWarning: You should specify a value for 'cv' instead of relying on the default value. The default value will change from 3 to 5 in version 0.22.\n",
      "  warnings.warn(CV_WARNING, FutureWarning)\n",
      "[Parallel(n_jobs=-1)]: Using backend LokyBackend with 12 concurrent workers.\n"
     ]
    },
    {
     "name": "stdout",
     "output_type": "stream",
     "text": [
      "Fitting 3 folds for each of 5 candidates, totalling 15 fits\n"
     ]
    },
    {
     "name": "stderr",
     "output_type": "stream",
     "text": [
      "[Parallel(n_jobs=-1)]: Done   4 out of  15 | elapsed:    9.7s remaining:   26.9s\n",
      "[Parallel(n_jobs=-1)]: Done  10 out of  15 | elapsed:   15.8s remaining:    7.8s\n",
      "[Parallel(n_jobs=-1)]: Done  15 out of  15 | elapsed:   21.6s finished\n"
     ]
    },
    {
     "data": {
      "text/plain": [
       "GridSearchCV(cv='warn', error_score='raise-deprecating',\n",
       "       estimator=AdaBoostClassifier(algorithm='SAMME.R',\n",
       "          base_estimator=DecisionTreeClassifier(class_weight=None, criterion='gini', max_depth=1,\n",
       "            max_features=None, max_leaf_nodes=None,\n",
       "            min_impurity_decrease=0.0, min_impurity_split=None,\n",
       "            min_samples_leaf=1, min_samples_split=2,\n",
       "            min_weight_fraction_leaf=0.0, presort=False, random_state=None,\n",
       "            splitter='best'),\n",
       "          learning_rate=0.5, n_estimators=500, random_state=None),\n",
       "       fit_params=None, iid='warn', n_jobs=-1,\n",
       "       param_grid={'n_estimators': [250, 500, 750, 1000, 1500]},\n",
       "       pre_dispatch='2*n_jobs', refit=True, return_train_score='warn',\n",
       "       scoring=None, verbose=3)"
      ]
     },
     "execution_count": 67,
     "metadata": {},
     "output_type": "execute_result"
    }
   ],
   "source": [
    "param_grid = {'n_estimators': [250, 500, 750, 1000, 1500]}\n",
    "grid_ada = GridSearchCV(ada_clf, param_grid, verbose=3, n_jobs=-1)\n",
    "grid_ada.fit(X_train_prepared, y_train)"
   ]
  },
  {
   "cell_type": "code",
   "execution_count": 68,
   "metadata": {},
   "outputs": [
    {
     "data": {
      "text/plain": [
       "0.9459582198001817"
      ]
     },
     "execution_count": 68,
     "metadata": {},
     "output_type": "execute_result"
    }
   ],
   "source": [
    "grid_ada.best_score_"
   ]
  },
  {
   "cell_type": "code",
   "execution_count": 69,
   "metadata": {},
   "outputs": [
    {
     "data": {
      "text/plain": [
       "{'n_estimators': 250}"
      ]
     },
     "execution_count": 69,
     "metadata": {},
     "output_type": "execute_result"
    }
   ],
   "source": [
    "grid_ada.best_params_"
   ]
  },
  {
   "cell_type": "code",
   "execution_count": 70,
   "metadata": {},
   "outputs": [
    {
     "name": "stderr",
     "output_type": "stream",
     "text": [
      "C:\\Users\\dadra\\anaconda\\Anaconda3\\envs\\PythonWebMongo\\lib\\site-packages\\sklearn\\model_selection\\_split.py:2053: FutureWarning: You should specify a value for 'cv' instead of relying on the default value. The default value will change from 3 to 5 in version 0.22.\n",
      "  warnings.warn(CV_WARNING, FutureWarning)\n",
      "[Parallel(n_jobs=-1)]: Using backend LokyBackend with 12 concurrent workers.\n"
     ]
    },
    {
     "name": "stdout",
     "output_type": "stream",
     "text": [
      "Fitting 3 folds for each of 5 candidates, totalling 15 fits\n"
     ]
    },
    {
     "name": "stderr",
     "output_type": "stream",
     "text": [
      "[Parallel(n_jobs=-1)]: Done   4 out of  15 | elapsed:    2.9s remaining:    8.2s\n",
      "[Parallel(n_jobs=-1)]: Done  10 out of  15 | elapsed:    4.1s remaining:    2.0s\n",
      "[Parallel(n_jobs=-1)]: Done  15 out of  15 | elapsed:    5.2s finished\n"
     ]
    },
    {
     "data": {
      "text/plain": [
       "GridSearchCV(cv='warn', error_score='raise-deprecating',\n",
       "       estimator=AdaBoostClassifier(algorithm='SAMME.R',\n",
       "          base_estimator=DecisionTreeClassifier(class_weight=None, criterion='gini', max_depth=1,\n",
       "            max_features=None, max_leaf_nodes=None,\n",
       "            min_impurity_decrease=0.0, min_impurity_split=None,\n",
       "            min_samples_leaf=1, min_samples_split=2,\n",
       "            min_weight_fraction_leaf=0.0, presort=False, random_state=None,\n",
       "            splitter='best'),\n",
       "          learning_rate=0.5, n_estimators=500, random_state=None),\n",
       "       fit_params=None, iid='warn', n_jobs=-1,\n",
       "       param_grid={'n_estimators': [100, 150, 200, 250, 300]},\n",
       "       pre_dispatch='2*n_jobs', refit=True, return_train_score='warn',\n",
       "       scoring=None, verbose=3)"
      ]
     },
     "execution_count": 70,
     "metadata": {},
     "output_type": "execute_result"
    }
   ],
   "source": [
    "param_grid = {'n_estimators': [100, 150, 200, 250, 300]}\n",
    "grid_ada = GridSearchCV(ada_clf, param_grid, verbose=3, n_jobs=-1)\n",
    "grid_ada.fit(X_train_prepared, y_train)"
   ]
  },
  {
   "cell_type": "code",
   "execution_count": 71,
   "metadata": {},
   "outputs": [
    {
     "data": {
      "text/plain": [
       "{'n_estimators': 100}"
      ]
     },
     "execution_count": 71,
     "metadata": {},
     "output_type": "execute_result"
    }
   ],
   "source": [
    "grid_ada.best_params_"
   ]
  },
  {
   "cell_type": "code",
   "execution_count": 72,
   "metadata": {},
   "outputs": [
    {
     "name": "stderr",
     "output_type": "stream",
     "text": [
      "C:\\Users\\dadra\\anaconda\\Anaconda3\\envs\\PythonWebMongo\\lib\\site-packages\\sklearn\\model_selection\\_split.py:2053: FutureWarning: You should specify a value for 'cv' instead of relying on the default value. The default value will change from 3 to 5 in version 0.22.\n",
      "  warnings.warn(CV_WARNING, FutureWarning)\n",
      "[Parallel(n_jobs=-1)]: Using backend LokyBackend with 12 concurrent workers.\n"
     ]
    },
    {
     "name": "stdout",
     "output_type": "stream",
     "text": [
      "Fitting 3 folds for each of 3 candidates, totalling 9 fits\n"
     ]
    },
    {
     "name": "stderr",
     "output_type": "stream",
     "text": [
      "[Parallel(n_jobs=-1)]: Done   2 out of   9 | elapsed:    0.7s remaining:    2.5s\n",
      "[Parallel(n_jobs=-1)]: Done   6 out of   9 | elapsed:    0.9s remaining:    0.4s\n",
      "[Parallel(n_jobs=-1)]: Done   9 out of   9 | elapsed:    1.1s finished\n"
     ]
    },
    {
     "data": {
      "text/plain": [
       "GridSearchCV(cv='warn', error_score='raise-deprecating',\n",
       "       estimator=AdaBoostClassifier(algorithm='SAMME.R',\n",
       "          base_estimator=DecisionTreeClassifier(class_weight=None, criterion='gini', max_depth=1,\n",
       "            max_features=None, max_leaf_nodes=None,\n",
       "            min_impurity_decrease=0.0, min_impurity_split=None,\n",
       "            min_samples_leaf=1, min_samples_split=2,\n",
       "            min_weight_fraction_leaf=0.0, presort=False, random_state=None,\n",
       "            splitter='best'),\n",
       "          learning_rate=0.5, n_estimators=500, random_state=None),\n",
       "       fit_params=None, iid='warn', n_jobs=-1,\n",
       "       param_grid={'n_estimators': [50, 75, 100]}, pre_dispatch='2*n_jobs',\n",
       "       refit=True, return_train_score='warn', scoring=None, verbose=3)"
      ]
     },
     "execution_count": 72,
     "metadata": {},
     "output_type": "execute_result"
    }
   ],
   "source": [
    "param_grid = {'n_estimators': [50, 75, 100]}\n",
    "grid_ada = GridSearchCV(ada_clf, param_grid, verbose=3, n_jobs=-1)\n",
    "grid_ada.fit(X_train_prepared, y_train)"
   ]
  },
  {
   "cell_type": "code",
   "execution_count": 73,
   "metadata": {},
   "outputs": [
    {
     "data": {
      "text/plain": [
       "{'n_estimators': 75}"
      ]
     },
     "execution_count": 73,
     "metadata": {},
     "output_type": "execute_result"
    }
   ],
   "source": [
    "grid_ada.best_params_"
   ]
  },
  {
   "cell_type": "code",
   "execution_count": 74,
   "metadata": {},
   "outputs": [
    {
     "data": {
      "text/plain": [
       "[(0.09333333333333334, 'V6301_YES'),\n",
       " (0.05333333333333334, 'EDCAT_16+ Years'),\n",
       " (0.04, 'V5225_INAP'),\n",
       " (0.04, 'V5113_VERY'),\n",
       " (0.04, 'V102_VERY GOOD'),\n",
       " (0.04, 'SEX_Male'),\n",
       " (0.04, 'GADLT2_Present'),\n",
       " (0.04, 'EDCAT_13-15 Years'),\n",
       " (0.04, 'AGE'),\n",
       " (0.02666666666666667, 'V6649_YES'),\n",
       " (0.02666666666666667, 'V6305_YES'),\n",
       " (0.02666666666666667, 'V5118_VERY'),\n",
       " (0.02666666666666667, 'V5114_VERY'),\n",
       " (0.02666666666666667, 'V5112_VERY'),\n",
       " (0.02666666666666667, 'V4428_nan'),\n",
       " (0.02666666666666667, 'V4428_NOT TRUE AT ALL'),\n",
       " (0.02666666666666667, 'V101_FAIR'),\n",
       " (0.02666666666666667, 'SIMLT_Present'),\n",
       " (0.02666666666666667, 'RACE_White'),\n",
       " (0.02666666666666667, 'MARSTAT_Marnev'),\n",
       " (0.02666666666666667, 'AABLT_Present'),\n",
       " (0.013333333333333334, 'V6649_NO'),\n",
       " (0.013333333333333334, 'V6215_TWO OR MORE YES RESPONSES IN U1-U12'),\n",
       " (0.013333333333333334, 'V6143_nan'),\n",
       " (0.013333333333333334, 'V6143_YES'),\n",
       " (0.013333333333333334, 'V6114_NO'),\n",
       " (0.013333333333333334, 'V5918_SOMETIMES'),\n",
       " (0.013333333333333334, 'V5225_nan'),\n",
       " (0.013333333333333334, 'V5225_NOT AT ALL'),\n",
       " (0.013333333333333334, 'V5118_nan'),\n",
       " (0.013333333333333334, 'V5118_SOMEWHAT'),\n",
       " (0.013333333333333334, 'V102_POOR'),\n",
       " (0.013333333333333334, 'V102_GOOD'),\n",
       " (0.013333333333333334, 'V102_FAIR'),\n",
       " (0.013333333333333334, 'REL_Other'),\n",
       " (0.013333333333333334, 'RACE_Other'),\n",
       " (0.013333333333333334, 'MANLT1_Present'),\n",
       " (0.013333333333333334, 'DRGDLT_Present'),\n",
       " (0.013333333333333334, 'DEPLT1_Present'),\n",
       " (0.013333333333333334, 'CDLT_Present'),\n",
       " (0.0, 'V6749_nan'),\n",
       " (0.0, 'V6749_YES'),\n",
       " (0.0, 'V6749_NO'),\n",
       " (0.0, 'V6749_INAP'),\n",
       " (0.0, 'V6649_nan'),\n",
       " (0.0, 'V6649_INAP'),\n",
       " (0.0, 'V6305_nan'),\n",
       " (0.0, 'V6301_nan'),\n",
       " (0.0, 'V6215_nan'),\n",
       " (0.0, 'V6215_ONLY ONE YES RESPONSE IN U1-U12'),\n",
       " (0.0, 'V6126_nan'),\n",
       " (0.0, 'V6126_YES'),\n",
       " (0.0, 'V6126_NO'),\n",
       " (0.0, 'V6114_nan'),\n",
       " (0.0, 'V6114_YES'),\n",
       " (0.0, 'V5918_nan'),\n",
       " (0.0, 'V5918_RARELY'),\n",
       " (0.0, 'V5918_OFTEN'),\n",
       " (0.0, 'V5225_SOME'),\n",
       " (0.0, 'V5225_A LOT'),\n",
       " (0.0, 'V5118_NOT AT ALL'),\n",
       " (0.0, 'V5118_INAP'),\n",
       " (0.0, 'V5118_DK'),\n",
       " (0.0, 'V5115_nan'),\n",
       " (0.0, 'V5115_VERY'),\n",
       " (0.0, 'V5115_SOMEWHAT'),\n",
       " (0.0, 'V5115_NOT AT ALL'),\n",
       " (0.0, 'V5115_INAP'),\n",
       " (0.0, 'V5115_DK'),\n",
       " (0.0, 'V5114_nan'),\n",
       " (0.0, 'V5114_SOMEWHAT'),\n",
       " (0.0, 'V5114_NOT AT ALL'),\n",
       " (0.0, 'V5114_INAP'),\n",
       " (0.0, 'V5114_DK'),\n",
       " (0.0, 'V5113_nan'),\n",
       " (0.0, 'V5113_SOMEWHAT'),\n",
       " (0.0, 'V5113_NOT AT ALL'),\n",
       " (0.0, 'V5113_INAP'),\n",
       " (0.0, 'V5112_nan'),\n",
       " (0.0, 'V5112_SOMEWHAT'),\n",
       " (0.0, 'V5112_NOT AT ALL'),\n",
       " (0.0, 'V5112_INAP'),\n",
       " (0.0, 'V5112_DK'),\n",
       " (0.0, 'V4433_nan'),\n",
       " (0.0, 'V4433_VERY TRUE'),\n",
       " (0.0, 'V4433_SOMEWHAT TRUE'),\n",
       " (0.0, 'V4433_NOT TRUE AT ALL'),\n",
       " (0.0, 'V4433_INAP'),\n",
       " (0.0, 'V4433_DK'),\n",
       " (0.0, 'V4428_VERY TRUE'),\n",
       " (0.0, 'V4428_SOMEWHAT TRUE'),\n",
       " (0.0, 'V4428_INAP'),\n",
       " (0.0, 'V4428_DK'),\n",
       " (0.0, 'V102_nan'),\n",
       " (0.0, 'V101_nan'),\n",
       " (0.0, 'V101_VERY GOOD'),\n",
       " (0.0, 'V101_POOR'),\n",
       " (0.0, 'V101_GOOD'),\n",
       " (0.0, 'SOCLT_nan'),\n",
       " (0.0, 'SOCLT_Present'),\n",
       " (0.0, 'SIMLT_nan'),\n",
       " (0.0, 'SEX_nan'),\n",
       " (0.0, 'REL_nan'),\n",
       " (0.0, 'REL_Protestant'),\n",
       " (0.0, 'REL_No Preference, None'),\n",
       " (0.0, 'RACE_nan'),\n",
       " (0.0, 'RACE_Hispanic'),\n",
       " (0.0, 'PTSDLT_nan'),\n",
       " (0.0, 'PTSDLT_Present'),\n",
       " (0.0, 'PTLT_nan'),\n",
       " (0.0, 'PTLT_Present'),\n",
       " (0.0, 'PDLT_nan'),\n",
       " (0.0, 'PDLT_Present'),\n",
       " (0.0, 'NAPLT_nan'),\n",
       " (0.0, 'NAPLT_Present'),\n",
       " (0.0, 'MARSTAT_nan'),\n",
       " (0.0, 'MARSTAT_Marswd'),\n",
       " (0.0, 'MANLT2_nan'),\n",
       " (0.0, 'MANLT2_Present'),\n",
       " (0.0, 'MANLT1_nan'),\n",
       " (0.0, 'GADLT2_nan'),\n",
       " (0.0, 'GADLT1_nan'),\n",
       " (0.0, 'GADLT1_Present'),\n",
       " (0.0, 'EMP_nan'),\n",
       " (0.0, 'EMP_Working, incl. temp. laid off, matern./s'),\n",
       " (0.0, 'EMP_Student'),\n",
       " (0.0, 'EMP_Other'),\n",
       " (0.0, 'EDCAT_nan'),\n",
       " (0.0, 'EDCAT_12 Years'),\n",
       " (0.0, 'DYSLT2_nan'),\n",
       " (0.0, 'DYSLT2_Present'),\n",
       " (0.0, 'DYSLT1_nan'),\n",
       " (0.0, 'DYSLT1_Present'),\n",
       " (0.0, 'DRGDLT_nan'),\n",
       " (0.0, 'DRGALT2_nan'),\n",
       " (0.0, 'DRGALT2_Present'),\n",
       " (0.0, 'DRGALT1_nan'),\n",
       " (0.0, 'DRGALT1_Present'),\n",
       " (0.0, 'DEPLT2_nan'),\n",
       " (0.0, 'DEPLT2_Present'),\n",
       " (0.0, 'DEPLT1_nan'),\n",
       " (0.0, 'CDLT_nan'),\n",
       " (0.0, 'BP1LT2_nan'),\n",
       " (0.0, 'BP1LT2_Present'),\n",
       " (0.0, 'BP1LT1_nan'),\n",
       " (0.0, 'BP1LT1_Present'),\n",
       " (0.0, 'ASPLT2_nan'),\n",
       " (0.0, 'ASPLT2_Present'),\n",
       " (0.0, 'ASPLT1_nan'),\n",
       " (0.0, 'ASPLT1_Present'),\n",
       " (0.0, 'ALCDLT_nan'),\n",
       " (0.0, 'ALCDLT_Present'),\n",
       " (0.0, 'ALCALT2_nan'),\n",
       " (0.0, 'ALCALT2_Present'),\n",
       " (0.0, 'ALCALT1_nan'),\n",
       " (0.0, 'ALCALT1_Present'),\n",
       " (0.0, 'AGOLT2_nan'),\n",
       " (0.0, 'AGOLT2_Present'),\n",
       " (0.0, 'AGOLT1_nan'),\n",
       " (0.0, 'AGOLT1_Present'),\n",
       " (0.0, 'AABLT_nan')]"
      ]
     },
     "execution_count": 74,
     "metadata": {},
     "output_type": "execute_result"
    }
   ],
   "source": [
    "feature_importances = grid_ada.best_estimator_.feature_importances_\n",
    "sorted(zip(feature_importances, attributes), reverse=True)"
   ]
  },
  {
   "cell_type": "markdown",
   "metadata": {},
   "source": [
    "# Support Vector Machine"
   ]
  },
  {
   "cell_type": "code",
   "execution_count": 75,
   "metadata": {},
   "outputs": [
    {
     "name": "stderr",
     "output_type": "stream",
     "text": [
      "C:\\Users\\dadra\\anaconda\\Anaconda3\\envs\\PythonWebMongo\\lib\\site-packages\\sklearn\\svm\\base.py:196: FutureWarning: The default value of gamma will change from 'auto' to 'scale' in version 0.22 to account better for unscaled features. Set gamma explicitly to 'auto' or 'scale' to avoid this warning.\n",
      "  \"avoid this warning.\", FutureWarning)\n"
     ]
    },
    {
     "data": {
      "text/plain": [
       "SVC(C=1.0, cache_size=200, class_weight=None, coef0=0.0,\n",
       "  decision_function_shape='ovr', degree=3, gamma='auto_deprecated',\n",
       "  kernel='rbf', max_iter=-1, probability=False, random_state=None,\n",
       "  shrinking=True, tol=0.001, verbose=False)"
      ]
     },
     "execution_count": 75,
     "metadata": {},
     "output_type": "execute_result"
    }
   ],
   "source": [
    "from sklearn.svm import SVC\n",
    "svc_clf = SVC(kernel='rbf')\n",
    "svc_clf.fit(X_train_prepared, np.ravel(y_train_0))"
   ]
  },
  {
   "cell_type": "code",
   "execution_count": 76,
   "metadata": {},
   "outputs": [
    {
     "data": {
      "text/plain": [
       "0.9747956403269755"
      ]
     },
     "execution_count": 76,
     "metadata": {},
     "output_type": "execute_result"
    }
   ],
   "source": [
    "svc_clf.score(X_train_prepared, np.ravel(y_train_0))"
   ]
  },
  {
   "cell_type": "code",
   "execution_count": 77,
   "metadata": {},
   "outputs": [
    {
     "data": {
      "text/plain": [
       "0.9495912806539509"
      ]
     },
     "execution_count": 77,
     "metadata": {},
     "output_type": "execute_result"
    }
   ],
   "source": [
    "y_test_0 = np.ravel(pd.get_dummies(y_test, drop_first=True))\n",
    "svc_clf.score(X_test_prepared, y_test_0)"
   ]
  },
  {
   "cell_type": "code",
   "execution_count": 78,
   "metadata": {},
   "outputs": [],
   "source": [
    "y_test_pred = svc_clf.predict(X_test_prepared)"
   ]
  },
  {
   "cell_type": "code",
   "execution_count": 79,
   "metadata": {},
   "outputs": [
    {
     "name": "stdout",
     "output_type": "stream",
     "text": [
      "              precision    recall  f1-score   support\n",
      "\n",
      "           0       0.95      1.00      0.97      1376\n",
      "           1       0.91      0.22      0.35        92\n",
      "\n",
      "   micro avg       0.95      0.95      0.95      1468\n",
      "   macro avg       0.93      0.61      0.66      1468\n",
      "weighted avg       0.95      0.95      0.93      1468\n",
      "\n"
     ]
    }
   ],
   "source": [
    "print(classification_report(y_test_0, y_test_pred))"
   ]
  },
  {
   "cell_type": "code",
   "execution_count": 80,
   "metadata": {},
   "outputs": [
    {
     "name": "stderr",
     "output_type": "stream",
     "text": [
      "C:\\Users\\dadra\\anaconda\\Anaconda3\\envs\\PythonWebMongo\\lib\\site-packages\\sklearn\\model_selection\\_split.py:2053: FutureWarning: You should specify a value for 'cv' instead of relying on the default value. The default value will change from 3 to 5 in version 0.22.\n",
      "  warnings.warn(CV_WARNING, FutureWarning)\n",
      "[Parallel(n_jobs=-1)]: Using backend LokyBackend with 12 concurrent workers.\n"
     ]
    },
    {
     "name": "stdout",
     "output_type": "stream",
     "text": [
      "Fitting 3 folds for each of 6 candidates, totalling 18 fits\n"
     ]
    },
    {
     "name": "stderr",
     "output_type": "stream",
     "text": [
      "[Parallel(n_jobs=-1)]: Done   2 out of  18 | elapsed:    1.6s remaining:   13.2s\n",
      "[Parallel(n_jobs=-1)]: Done   9 out of  18 | elapsed:    1.7s remaining:    1.7s\n",
      "[Parallel(n_jobs=-1)]: Done  16 out of  18 | elapsed:    3.0s remaining:    0.3s\n",
      "[Parallel(n_jobs=-1)]: Done  18 out of  18 | elapsed:    3.0s finished\n",
      "C:\\Users\\dadra\\anaconda\\Anaconda3\\envs\\PythonWebMongo\\lib\\site-packages\\sklearn\\utils\\validation.py:761: DataConversionWarning: A column-vector y was passed when a 1d array was expected. Please change the shape of y to (n_samples, ), for example using ravel().\n",
      "  y = column_or_1d(y, warn=True)\n",
      "C:\\Users\\dadra\\anaconda\\Anaconda3\\envs\\PythonWebMongo\\lib\\site-packages\\sklearn\\svm\\base.py:196: FutureWarning: The default value of gamma will change from 'auto' to 'scale' in version 0.22 to account better for unscaled features. Set gamma explicitly to 'auto' or 'scale' to avoid this warning.\n",
      "  \"avoid this warning.\", FutureWarning)\n"
     ]
    },
    {
     "data": {
      "text/plain": [
       "GridSearchCV(cv='warn', error_score='raise-deprecating',\n",
       "       estimator=SVC(C=1.0, cache_size=200, class_weight=None, coef0=0.0,\n",
       "  decision_function_shape='ovr', degree=3, gamma='auto_deprecated',\n",
       "  kernel='rbf', max_iter=-1, probability=False, random_state=None,\n",
       "  shrinking=True, tol=0.001, verbose=False),\n",
       "       fit_params=None, iid='warn', n_jobs=-1,\n",
       "       param_grid={'C': [0.01, 0.1, 0.5, 1.0, 2.0, 5.0]},\n",
       "       pre_dispatch='2*n_jobs', refit=True, return_train_score='warn',\n",
       "       scoring=None, verbose=3)"
      ]
     },
     "execution_count": 80,
     "metadata": {},
     "output_type": "execute_result"
    }
   ],
   "source": [
    "param_grid = {'C': [0.01, 0.1, 0.5, 1.0, 2.0, 5.0]}\n",
    "grid_svc = GridSearchCV(svc_clf, param_grid, n_jobs=-1, verbose=3)\n",
    "grid_svc.fit(X_train_prepared, y_train_0)"
   ]
  },
  {
   "cell_type": "code",
   "execution_count": 81,
   "metadata": {},
   "outputs": [
    {
     "data": {
      "text/plain": [
       "{'C': 2.0}"
      ]
     },
     "execution_count": 81,
     "metadata": {},
     "output_type": "execute_result"
    }
   ],
   "source": [
    "grid_svc.best_params_"
   ]
  },
  {
   "cell_type": "code",
   "execution_count": 82,
   "metadata": {},
   "outputs": [],
   "source": [
    "y_pred = grid_svc.best_estimator_.predict(X_test_prepared)"
   ]
  },
  {
   "cell_type": "code",
   "execution_count": 83,
   "metadata": {},
   "outputs": [
    {
     "name": "stdout",
     "output_type": "stream",
     "text": [
      "              precision    recall  f1-score   support\n",
      "\n",
      "           0       0.96      0.99      0.98      1376\n",
      "           1       0.78      0.35      0.48        92\n",
      "\n",
      "   micro avg       0.95      0.95      0.95      1468\n",
      "   macro avg       0.87      0.67      0.73      1468\n",
      "weighted avg       0.95      0.95      0.94      1468\n",
      "\n"
     ]
    }
   ],
   "source": [
    "print(classification_report(y_test_0, y_pred))"
   ]
  },
  {
   "cell_type": "code",
   "execution_count": 84,
   "metadata": {},
   "outputs": [
    {
     "name": "stdout",
     "output_type": "stream",
     "text": [
      "Computing regularization path ...\n"
     ]
    },
    {
     "data": {
      "image/png": "[encoded data removed]",
      "text/plain": [
       "<Figure size 1152x864 with 1 Axes>"
      ]
     },
     "metadata": {
      "needs_background": "light"
     },
     "output_type": "display_data"
    }
   ],
   "source": [
    "from sklearn import linear_model\n",
    "from sklearn.svm import l1_min_c\n",
    "\n",
    "X = X_train_prepared\n",
    "y = y_train\n",
    "\n",
    "#X /= X.max()  # Normalize X to speed-up convergence\n",
    "\n",
    "# #############################################################################\n",
    "# Demo path functions\n",
    "\n",
    "cs = l1_min_c(X, y, loss='log') * np.logspace(0, 7, 16)\n",
    "\n",
    "\n",
    "print(\"Computing regularization path ...\")\n",
    "#start = time()\n",
    "clf = linear_model.LogisticRegression(penalty='l1', solver='saga',\n",
    "                                      tol=1e-6, max_iter=int(1e6),\n",
    "                                      warm_start=True, n_jobs=-1)\n",
    "coefs_ = []\n",
    "for c in cs:\n",
    "    clf.set_params(C=c)\n",
    "    clf.fit(X, y)\n",
    "    coefs_.append(clf.coef_.ravel().copy())\n",
    "#print(\"This took %0.3fs\" % (time() - start))\n",
    "\n",
    "coefs_ = np.array(coefs_)\n",
    "plt.figure(figsize=(16,12))\n",
    "plt.plot(np.log10(cs), coefs_, marker='o')\n",
    "ymin, ymax = plt.ylim()\n",
    "plt.xlabel('log(C)')\n",
    "plt.ylabel('Coefficients')\n",
    "plt.title('Logistic Regression Path')\n",
    "plt.axis('tight')\n",
    "plt.show()"
   ]
  },
  {
   "cell_type": "code",
   "execution_count": 85,
   "metadata": {},
   "outputs": [
    {
     "data": {
      "image/png": "[encoded data removed]",
      "text/plain": [
       "<Figure size 1152x864 with 1 Axes>"
      ]
     },
     "metadata": {
      "needs_background": "light"
     },
     "output_type": "display_data"
    }
   ],
   "source": [
    "coefs_ = np.array(coefs_)\n",
    "plt.figure(figsize=(16,12))\n",
    "plt.plot(np.log10(cs), coefs_, marker='o')\n",
    "ymin, ymax = plt.ylim()\n",
    "plt.xlabel('log(C)')\n",
    "plt.ylabel('Coefficients')\n",
    "plt.title('Logistic Regression Path')\n",
    "plt.vlines(np.log10(0.5), ymin=-1.5, ymax=1.5)\n",
    "plt.axis('tight')\n",
    "plt.show()"
   ]
  },
  {
   "cell_type": "code",
   "execution_count": 87,
   "metadata": {},
   "outputs": [
    {
     "data": {
      "text/plain": [
       "Text(0, 0.5, 'Precisions')"
      ]
     },
     "execution_count": 87,
     "metadata": {},
     "output_type": "execute_result"
    },
    {
     "data": {
      "image/png": "[encoded data removed]",
      "text/plain": [
       "<Figure size 1152x864 with 1 Axes>"
      ]
     },
     "metadata": {
      "needs_background": "light"
     },
     "output_type": "display_data"
    }
   ],
   "source": [
    "plt.figure(figsize=(16,12))\n",
    "plt.plot(recalls, precisions, 'g-')\n",
    "plt.xlabel('Recall')\n",
    "plt.ylabel('Precisions')"
   ]
  },
  {
   "cell_type": "code",
   "execution_count": 88,
   "metadata": {},
   "outputs": [],
   "source": [
    "y_pred_recall8 = (y_scores > -2)"
   ]
  },
  {
   "cell_type": "code",
   "execution_count": 90,
   "metadata": {},
   "outputs": [
    {
     "name": "stdout",
     "output_type": "stream",
     "text": [
      "              precision    recall  f1-score   support\n",
      "\n",
      "           0       0.99      0.92      0.95      4130\n",
      "           1       0.39      0.82      0.53       274\n",
      "\n",
      "   micro avg       0.91      0.91      0.91      4404\n",
      "   macro avg       0.69      0.87      0.74      4404\n",
      "weighted avg       0.95      0.91      0.92      4404\n",
      "\n"
     ]
    }
   ],
   "source": [
    "print(classification_report(y_train_0, y_pred_recall8))"
   ]
  },
  {
   "cell_type": "code",
   "execution_count": 91,
   "metadata": {},
   "outputs": [
    {
     "data": {
      "text/plain": [
       "array([[3786,  344],\n",
       "       [  50,  224]], dtype=int64)"
      ]
     },
     "execution_count": 91,
     "metadata": {},
     "output_type": "execute_result"
    }
   ],
   "source": [
    "confusion_matrix(y_train_0, y_pred_recall8)"
   ]
  },
  {
   "cell_type": "code",
   "execution_count": 92,
   "metadata": {},
   "outputs": [
    {
     "data": {
      "text/plain": [
       "array([[4072,   58],\n",
       "       [ 122,  152]], dtype=int64)"
      ]
     },
     "execution_count": 92,
     "metadata": {},
     "output_type": "execute_result"
    }
   ],
   "source": [
    "confusion_matrix(y_train, final_model.predict(X_train_prepared))"
   ]
  },
  {
   "cell_type": "code",
   "execution_count": 93,
   "metadata": {},
   "outputs": [
    {
     "data": {
      "text/plain": [
       "array([[1355,   21],\n",
       "       [  46,   46]], dtype=int64)"
      ]
     },
     "execution_count": 93,
     "metadata": {},
     "output_type": "execute_result"
    }
   ],
   "source": [
    "confusion_matrix(y_test, final_model.predict(X_test_prepared))"
   ]
  },
  {
   "cell_type": "code",
   "execution_count": null,
   "metadata": {},
   "outputs": [],
   "source": []
  }
 ],
 "metadata": {
  "kernelspec": {
   "display_name": "Python 3",
   "language": "python",
   "name": "python3"
  },
  "language_info": {
   "codemirror_mode": {
    "name": "ipython",
    "version": 3
   },
   "file_extension": ".py",
   "mimetype": "text/x-python",
   "name": "python",
   "nbconvert_exporter": "python",
   "pygments_lexer": "ipython3",
   "version": "3.6.7"
  }
 },
 "nbformat": 4,
 "nbformat_minor": 2
}
