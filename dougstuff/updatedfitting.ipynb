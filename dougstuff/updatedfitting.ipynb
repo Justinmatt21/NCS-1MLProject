{
 "cells": [
  {
   "cell_type": "markdown",
   "metadata": {},
   "source": [
    "# Fitting with only the variables in DS1\n",
    "To get a working model.  Note that the variables are not coded with descriptive labels.  "
   ]
  },
  {
   "cell_type": "code",
   "execution_count": 28,
   "metadata": {},
   "outputs": [],
   "source": [
    "from sklearn.base import BaseEstimator, TransformerMixin\n",
    "from sklearn.pipeline import Pipeline, FeatureUnion\n",
    "from sklearn.preprocessing import PowerTransformer, LabelBinarizer\n",
    "from sklearn.model_selection import train_test_split\n",
    "from sklearn.preprocessing import OneHotEncoder, CategoricalEncoder\n",
    "\n",
    "import pandas as pd\n",
    "import numpy as np"
   ]
  },
  {
   "cell_type": "code",
   "execution_count": 29,
   "metadata": {},
   "outputs": [],
   "source": [
    "# Read in the tsv file\n",
    "df = pd.read_csv('06693-0001-Data.tsv', delim_whitespace=True)\n",
    "\n",
    "# Make a helper dictionary to keep track of 'response', 'numerical', 'categorical'\n",
    "\n",
    "var_dict = {\n",
    "    'response': 'V1144',\n",
    "    'cat_preds': ['V12', 'V13', 'V4515', 'V5114', 'V5118', 'V5113', 'V5115',\\\n",
    "                  'V5112', 'V4428', 'V4433', 'V6305', 'V6301','V5225', 'V6649',\\\n",
    "                  'V6749', 'V5918', 'V6143', 'V6126', 'V6114', 'V101', 'V102', 'V6215'],\n",
    "    'num_preds': []\n",
    "}"
   ]
  },
  {
   "cell_type": "code",
   "execution_count": 30,
   "metadata": {},
   "outputs": [
    {
     "data": {
      "text/plain": [
       "(8098, 2954)"
      ]
     },
     "execution_count": 30,
     "metadata": {},
     "output_type": "execute_result"
    }
   ],
   "source": [
    "# df.shape\n",
    "df.shape"
   ]
  },
  {
   "cell_type": "code",
   "execution_count": 31,
   "metadata": {},
   "outputs": [
    {
     "data": {
      "text/plain": [
       "5    4201\n",
       "0    3511\n",
       "1     379\n",
       "9       7\n",
       "Name: V1144, dtype: int64"
      ]
     },
     "execution_count": 31,
     "metadata": {},
     "output_type": "execute_result"
    }
   ],
   "source": [
    "df[var_dict['response']].value_counts()"
   ]
  },
  {
   "cell_type": "code",
   "execution_count": 32,
   "metadata": {},
   "outputs": [
    {
     "name": "stdout",
     "output_type": "stream",
     "text": [
      "V12:\n",
      "30    298\n",
      "33    297\n",
      "31    284\n",
      "32    282\n",
      "27    266\n",
      "34    265\n",
      "35    258\n",
      "36    250\n",
      "37    249\n",
      "28    245\n",
      "29    240\n",
      "40    239\n",
      "26    230\n",
      "39    226\n",
      "38    226\n",
      "25    219\n",
      "41    212\n",
      "24    209\n",
      "42    200\n",
      "23    197\n",
      "44    197\n",
      "20    197\n",
      "43    185\n",
      "21    180\n",
      "22    179\n",
      "19    168\n",
      "16    167\n",
      "46    167\n",
      "17    160\n",
      "47    160\n",
      "18    159\n",
      "15    152\n",
      "50    151\n",
      "48    149\n",
      "45    148\n",
      "52    146\n",
      "53    145\n",
      "49    141\n",
      "54    136\n",
      "51    110\n",
      "55      4\n",
      "59      2\n",
      "58      1\n",
      "61      1\n",
      "99      1\n",
      "Name: V12, dtype: int64\n",
      "V13:\n",
      "2    4263\n",
      "1    3835\n",
      "Name: V13, dtype: int64\n",
      "V4515:\n",
      "0    3244\n",
      "9    2132\n",
      "1    1921\n",
      "3     576\n",
      "2     192\n",
      "4      33\n",
      "Name: V4515, dtype: int64\n",
      "V5114:\n",
      "3    2579\n",
      "9    2171\n",
      "2    1548\n",
      "4    1340\n",
      "1     391\n",
      "0      67\n",
      "8       2\n",
      "Name: V5114, dtype: int64\n",
      "V5118:\n",
      "4    2871\n",
      "3    2217\n",
      "9    2180\n",
      "2     629\n",
      "1     131\n",
      "0      67\n",
      "8       3\n",
      "Name: V5118, dtype: int64\n",
      "V5113:\n",
      "3    2828\n",
      "9    2163\n",
      "2    1342\n",
      "4    1294\n",
      "1     404\n",
      "0      67\n",
      "Name: V5113, dtype: int64\n",
      "V5115:\n",
      "3    3056\n",
      "9    2165\n",
      "2    1287\n",
      "4    1273\n",
      "1     249\n",
      "0      67\n",
      "8       1\n",
      "Name: V5115, dtype: int64\n",
      "V5112:\n",
      "3    2624\n",
      "9    2155\n",
      "2    1717\n",
      "4    1047\n",
      "1     486\n",
      "0      67\n",
      "8       2\n",
      "Name: V5112, dtype: int64\n",
      "V4428:\n",
      "9    2188\n",
      "3    2170\n",
      "2    1397\n",
      "4    1353\n",
      "1     936\n",
      "0      53\n",
      "8       1\n",
      "Name: V4428, dtype: int64\n",
      "V4433:\n",
      "4    2725\n",
      "9    2242\n",
      "3    1621\n",
      "2     895\n",
      "1     561\n",
      "0      53\n",
      "8       1\n",
      "Name: V4433, dtype: int64\n",
      "V6305:\n",
      "5    5541\n",
      "9    2164\n",
      "1     313\n",
      "0      80\n",
      "Name: V6305, dtype: int64\n",
      "V6301:\n",
      "5    4865\n",
      "9    2145\n",
      "1    1008\n",
      "0      80\n",
      "Name: V6301, dtype: int64\n",
      "V5225:\n",
      "0    4095\n",
      "9    2175\n",
      "4     670\n",
      "3     417\n",
      "2     412\n",
      "1     329\n",
      "Name: V5225, dtype: int64\n",
      "V6649:\n",
      "5    5050\n",
      "9    2161\n",
      "0     475\n",
      "8     322\n",
      "1      90\n",
      "Name: V6649, dtype: int64\n",
      "V6749:\n",
      "5    5382\n",
      "9    2160\n",
      "1     214\n",
      "0     193\n",
      "8     149\n",
      "Name: V6749, dtype: int64\n",
      "V5918:\n",
      "4    4018\n",
      "9    2158\n",
      "3     993\n",
      "2     642\n",
      "1     222\n",
      "0      65\n",
      "Name: V5918, dtype: int64\n",
      "V6143:\n",
      "5    5459\n",
      "9    2211\n",
      "1     348\n",
      "0      80\n",
      "Name: V6143, dtype: int64\n",
      "V6126:\n",
      "5    5325\n",
      "9    2148\n",
      "1     544\n",
      "0      80\n",
      "8       1\n",
      "Name: V6126, dtype: int64\n",
      "V6114:\n",
      "5    5539\n",
      "9    2144\n",
      "1     334\n",
      "0      80\n",
      "8       1\n",
      "Name: V6114, dtype: int64\n",
      "V101:\n",
      "2    3151\n",
      "3    2261\n",
      "1    1880\n",
      "4     659\n",
      "5     145\n",
      "9       2\n",
      "Name: V101, dtype: int64\n",
      "V102:\n",
      "2    3120\n",
      "1    2529\n",
      "3    1876\n",
      "4     501\n",
      "5      69\n",
      "9       3\n",
      "Name: V102, dtype: int64\n",
      "V6215:\n",
      "3    2188\n",
      "9    2142\n",
      "2    2113\n",
      "1    1575\n",
      "0      80\n",
      "Name: V6215, dtype: int64\n"
     ]
    }
   ],
   "source": [
    "for col in var_dict['cat_preds']:\n",
    "    print(col + \":\")\n",
    "    print(df[col].value_counts())"
   ]
  },
  {
   "cell_type": "code",
   "execution_count": 33,
   "metadata": {},
   "outputs": [],
   "source": [
    "# Make a train-test split:\n",
    "train_set, test_set = train_test_split(df, random_state=1, stratify=df[var_dict['response']])\n"
   ]
  },
  {
   "cell_type": "code",
   "execution_count": 34,
   "metadata": {},
   "outputs": [
    {
     "name": "stdout",
     "output_type": "stream",
     "text": [
      "(6073, 2954) (2025, 2954)\n"
     ]
    }
   ],
   "source": [
    "print(train_set.shape, test_set.shape)"
   ]
  },
  {
   "cell_type": "code",
   "execution_count": 39,
   "metadata": {},
   "outputs": [],
   "source": [
    "# Define a method to select attributes from a DataFrame\n",
    "class DataFrameSelector(BaseEstimator, TransformerMixin):\n",
    "    def __init__(self, attribute_names):\n",
    "        self.attribute_names = attribute_names\n",
    "    def fit(self, X, y=None):\n",
    "        return self\n",
    "    def transform(self, X):\n",
    "        return X[self.attribute_names].values\n",
    "\n",
    "# We will need this later\n",
    "#num_pipeline = Pipeline([\n",
    "#    ('selector', DataFrameSelector(num_attribs)),\n",
    "#    ('power_transf', PowerTransformer(method='yeo-johnson', standardize=False)),\n",
    "#    ('minmax_scaler', MinMaxScaler()),\n",
    "#])\n",
    "\n",
    "cat_pipeline = Pipeline([\n",
    "    ('selector', DataFrameSelector(cat_attribs)),\n",
    "    ('encoder', OneHotEncoder(sparse=False, handle_unknown='ignore'))\n",
    "])\n",
    "\n",
    "full_pipeline = FeatureUnion(transformer_list=[\n",
    "    #(\"num_pipeline\", num_pipeline),\n",
    "    (\"cat_pipeline\", cat_pipeline),\n",
    "])\n",
    "\n",
    "\n"
   ]
  },
  {
   "cell_type": "code",
   "execution_count": 40,
   "metadata": {},
   "outputs": [
    {
     "data": {
      "text/plain": [
       "array([[0., 0., 0., ..., 0., 0., 1.],\n",
       "       [0., 0., 0., ..., 0., 0., 1.],\n",
       "       [0., 0., 0., ..., 0., 0., 1.],\n",
       "       ...,\n",
       "       [0., 0., 0., ..., 1., 0., 0.],\n",
       "       [0., 0., 0., ..., 0., 0., 1.],\n",
       "       [0., 0., 0., ..., 1., 0., 0.]])"
      ]
     },
     "execution_count": 40,
     "metadata": {},
     "output_type": "execute_result"
    }
   ],
   "source": [
    "#num_attribs = var_dict['num_preds']\n",
    "cat_attribs = var_dict['cat_preds']\n",
    "\n",
    "\n",
    "y_train = train_set[var_dict['response']]\n",
    "\n",
    "# Prepare the training data with the pipeline above\n",
    "X_train_prepared = cat_pipeline.fit_transform(train_set)\n",
    "X_train_prepared"
   ]
  },
  {
   "cell_type": "code",
   "execution_count": 41,
   "metadata": {},
   "outputs": [
    {
     "data": {
      "text/plain": [
       "(6073, 158)"
      ]
     },
     "execution_count": 41,
     "metadata": {},
     "output_type": "execute_result"
    }
   ],
   "source": [
    "X_train_prepared.shape"
   ]
  },
  {
   "cell_type": "code",
   "execution_count": 42,
   "metadata": {},
   "outputs": [],
   "source": [
    "X_test_prepared = cat_pipeline.transform(test_set)"
   ]
  },
  {
   "cell_type": "code",
   "execution_count": 43,
   "metadata": {},
   "outputs": [
    {
     "data": {
      "text/plain": [
       "(2025, 158)"
      ]
     },
     "execution_count": 43,
     "metadata": {},
     "output_type": "execute_result"
    }
   ],
   "source": [
    "X_test_prepared.shape"
   ]
  },
  {
   "cell_type": "code",
   "execution_count": 44,
   "metadata": {},
   "outputs": [
    {
     "name": "stdout",
     "output_type": "stream",
     "text": [
      "Variable             Type            Data/Info\n",
      "----------------------------------------------\n",
      "BaseEstimator        type            <class 'sklearn.base.BaseEstimator'>\n",
      "CategoricalEncoder   type            <class 'sklearn.preproces<...>data.CategoricalEncoder'>\n",
      "DataFrameSelector    type            <class '__main__.DataFrameSelector'>\n",
      "FeatureUnion         ABCMeta         <class 'sklearn.pipeline.FeatureUnion'>\n",
      "LabelBinarizer       type            <class 'sklearn.preproces<...>ng.label.LabelBinarizer'>\n",
      "MinMaxScaler         type            <class 'sklearn.preprocessing.data.MinMaxScaler'>\n",
      "OneHotEncoder        type            <class 'sklearn.preproces<...>_encoders.OneHotEncoder'>\n",
      "Pipeline             ABCMeta         <class 'sklearn.pipeline.Pipeline'>\n",
      "PowerTransformer     type            <class 'sklearn.preproces<...>g.data.PowerTransformer'>\n",
      "TransformerMixin     type            <class 'sklearn.base.TransformerMixin'>\n",
      "X_test_prepared      ndarray         2025x158: 319950 elems, type `float64`, 2559600 bytes (2.4410247802734375 Mb)\n",
      "X_train_prepared     ndarray         6073x158: 959534 elems, type `float64`, 7676272 bytes (7.3206634521484375 Mb)\n",
      "cat_attribs          list            n=22\n",
      "cat_pipeline         Pipeline        Pipeline(memory=None,\\n  <...>es=None, sparse=False))])\n",
      "col                  str             V6215\n",
      "df                   DataFrame             CASEID        V2  V<...>8098 rows x 2954 columns]\n",
      "full_pipeline        FeatureUnion    FeatureUnion(n_jobs=None,<...>transformer_weights=None)\n",
      "np                   module          <module 'numpy' from 'C:\\<...>ges\\\\numpy\\\\__init__.py'>\n",
      "pd                   module          <module 'pandas' from 'C:<...>es\\\\pandas\\\\__init__.py'>\n",
      "test_set             DataFrame             CASEID        V2  V<...>2025 rows x 2954 columns]\n",
      "train_set            DataFrame             CASEID        V2  V<...>6073 rows x 2954 columns]\n",
      "train_test_split     function        <function train_test_split at 0x0000021F0AFB0510>\n",
      "var_dict             dict            n=3\n",
      "y_train              Series          826     5\\n816     5\\n402<...>ength: 6073, dtype: int64\n"
     ]
    }
   ],
   "source": [
    "%whos"
   ]
  },
  {
   "cell_type": "code",
   "execution_count": 45,
   "metadata": {},
   "outputs": [
    {
     "data": {
      "text/plain": [
       "<bound method Pipeline.get_params of Pipeline(memory=None,\n",
       "     steps=[('selector', DataFrameSelector(attribute_names=['V12', 'V13', 'V4515', 'V5114', 'V5118', 'V5113', 'V5115', 'V5112', 'V4428', 'V4433', 'V6305', 'V6301', 'V5225', 'V6649', 'V6749', 'V5918', 'V6143', 'V6126', 'V6114', 'V101', 'V102', 'V6215'])), ('encoder', OneHotEncoder(categorical_features=None, categories=None,\n",
       "       dtype=<class 'numpy.float64'>, handle_unknown='ignore',\n",
       "       n_values=None, sparse=False))])>"
      ]
     },
     "execution_count": 45,
     "metadata": {},
     "output_type": "execute_result"
    }
   ],
   "source": [
    "cat_pipeline.get_params"
   ]
  },
  {
   "cell_type": "code",
   "execution_count": null,
   "metadata": {},
   "outputs": [],
   "source": []
  },
  {
   "cell_type": "code",
   "execution_count": 46,
   "metadata": {},
   "outputs": [
    {
     "data": {
      "text/plain": [
       "DecisionTreeClassifier(class_weight=None, criterion='gini', max_depth=None,\n",
       "            max_features=None, max_leaf_nodes=None,\n",
       "            min_impurity_decrease=0.0, min_impurity_split=None,\n",
       "            min_samples_leaf=1, min_samples_split=2,\n",
       "            min_weight_fraction_leaf=0.0, presort=False, random_state=None,\n",
       "            splitter='best')"
      ]
     },
     "execution_count": 46,
     "metadata": {},
     "output_type": "execute_result"
    }
   ],
   "source": [
    "from sklearn.tree import DecisionTreeClassifier\n",
    "\n",
    "tree_clf = DecisionTreeClassifier()\n",
    "tree_clf.fit(X_train_prepared, y_train)"
   ]
  },
  {
   "cell_type": "code",
   "execution_count": 47,
   "metadata": {},
   "outputs": [],
   "source": [
    "tree_pred = tree_clf.predict(X_test_prepared)"
   ]
  },
  {
   "cell_type": "code",
   "execution_count": 48,
   "metadata": {},
   "outputs": [
    {
     "name": "stdout",
     "output_type": "stream",
     "text": [
      "              precision    recall  f1-score   support\n",
      "\n",
      "           0       0.89      0.99      0.94      2633\n",
      "           1       1.00      0.99      0.99       284\n",
      "           5       0.99      0.90      0.94      3151\n",
      "           9       1.00      0.60      0.75         5\n",
      "\n",
      "   micro avg       0.94      0.94      0.94      6073\n",
      "   macro avg       0.97      0.87      0.91      6073\n",
      "weighted avg       0.95      0.94      0.94      6073\n",
      "\n"
     ]
    }
   ],
   "source": [
    "from sklearn.metrics import classification_report\n",
    "y_train_pred = tree_clf.predict(X_train_prepared)\n",
    "print(classification_report(y_train, y_train_pred))"
   ]
  },
  {
   "cell_type": "code",
   "execution_count": 51,
   "metadata": {},
   "outputs": [
    {
     "data": {
      "text/plain": [
       "array([0, 1, 5, 9], dtype=int64)"
      ]
     },
     "execution_count": 51,
     "metadata": {},
     "output_type": "execute_result"
    }
   ],
   "source": [
    "tree_clf.classes_"
   ]
  },
  {
   "cell_type": "code",
   "execution_count": 55,
   "metadata": {},
   "outputs": [],
   "source": [
    "y_test = test_set['V1144']"
   ]
  },
  {
   "cell_type": "code",
   "execution_count": 56,
   "metadata": {},
   "outputs": [],
   "source": [
    "y_test_pred = tree_clf.predict(X_test_prepared)"
   ]
  },
  {
   "cell_type": "code",
   "execution_count": 57,
   "metadata": {},
   "outputs": [
    {
     "name": "stdout",
     "output_type": "stream",
     "text": [
      "              precision    recall  f1-score   support\n",
      "\n",
      "           0       0.56      0.65      0.60       878\n",
      "           1       0.46      0.43      0.45        95\n",
      "           5       0.63      0.55      0.58      1050\n",
      "           9       0.00      0.00      0.00         2\n",
      "\n",
      "   micro avg       0.59      0.59      0.59      2025\n",
      "   macro avg       0.41      0.41      0.41      2025\n",
      "weighted avg       0.59      0.59      0.58      2025\n",
      "\n"
     ]
    }
   ],
   "source": [
    "print(classification_report(y_test, y_test_pred))"
   ]
  },
  {
   "cell_type": "code",
   "execution_count": null,
   "metadata": {},
   "outputs": [],
   "source": []
  },
  {
   "cell_type": "code",
   "execution_count": 112,
   "metadata": {},
   "outputs": [
    {
     "data": {
      "text/plain": [
       "LogisticRegression(C=1.0, class_weight=None, dual=False, fit_intercept=True,\n",
       "          intercept_scaling=1, max_iter=1000, multi_class='auto',\n",
       "          n_jobs=-1, penalty='l1', random_state=None, solver='saga',\n",
       "          tol=0.0001, verbose=1, warm_start=False)"
      ]
     },
     "execution_count": 112,
     "metadata": {},
     "output_type": "execute_result"
    }
   ],
   "source": [
    "from sklearn.linear_model import LogisticRegression\n",
    "classifier = LogisticRegression(penalty='l1', solver='saga', max_iter=1000, multi_class='auto', n_jobs=-1,verbose=1)\n",
    "classifier"
   ]
  },
  {
   "cell_type": "code",
   "execution_count": 113,
   "metadata": {},
   "outputs": [
    {
     "name": "stderr",
     "output_type": "stream",
     "text": [
      "[Parallel(n_jobs=-1)]: Using backend ThreadingBackend with 12 concurrent workers.\n"
     ]
    },
    {
     "name": "stdout",
     "output_type": "stream",
     "text": [
      "convergence after 359 epochs took 11 seconds\n"
     ]
    },
    {
     "name": "stderr",
     "output_type": "stream",
     "text": [
      "[Parallel(n_jobs=-1)]: Done   1 out of   1 | elapsed:   10.9s finished\n"
     ]
    },
    {
     "data": {
      "text/plain": [
       "LogisticRegression(C=1.0, class_weight=None, dual=False, fit_intercept=True,\n",
       "          intercept_scaling=1, max_iter=1000, multi_class='auto',\n",
       "          n_jobs=-1, penalty='l1', random_state=None, solver='saga',\n",
       "          tol=0.0001, verbose=1, warm_start=False)"
      ]
     },
     "execution_count": 113,
     "metadata": {},
     "output_type": "execute_result"
    }
   ],
   "source": [
    "classifier.fit(X_train_prepared, y_train)"
   ]
  },
  {
   "cell_type": "code",
   "execution_count": 114,
   "metadata": {},
   "outputs": [
    {
     "name": "stdout",
     "output_type": "stream",
     "text": [
      "Training Data Score: 0.677589329820517\n",
      "Testing Data Score: 0.6617283950617284\n"
     ]
    }
   ],
   "source": [
    "print(f\"Training Data Score: {classifier.score(X_train_prepared, y_train)}\")\n",
    "print(f\"Testing Data Score: {classifier.score(X_test_prepared, y_test)}\")"
   ]
  },
  {
   "cell_type": "code",
   "execution_count": 115,
   "metadata": {},
   "outputs": [],
   "source": [
    "y_test_pred = classifier.predict(X_test_prepared)"
   ]
  },
  {
   "cell_type": "code",
   "execution_count": 116,
   "metadata": {},
   "outputs": [
    {
     "name": "stdout",
     "output_type": "stream",
     "text": [
      "              precision    recall  f1-score   support\n",
      "\n",
      "           0       0.65      0.68      0.66       878\n",
      "           1       0.61      0.39      0.47        95\n",
      "           5       0.68      0.67      0.68      1050\n",
      "           9       0.00      0.00      0.00         2\n",
      "\n",
      "   micro avg       0.66      0.66      0.66      2025\n",
      "   macro avg       0.48      0.44      0.45      2025\n",
      "weighted avg       0.66      0.66      0.66      2025\n",
      "\n"
     ]
    },
    {
     "name": "stderr",
     "output_type": "stream",
     "text": [
      "C:\\Users\\dadra\\anaconda\\Anaconda3\\envs\\PythonWebMongo\\lib\\site-packages\\sklearn\\metrics\\classification.py:1143: UndefinedMetricWarning: Precision and F-score are ill-defined and being set to 0.0 in labels with no predicted samples.\n",
      "  'precision', 'predicted', average, warn_for)\n",
      "C:\\Users\\dadra\\anaconda\\Anaconda3\\envs\\PythonWebMongo\\lib\\site-packages\\sklearn\\metrics\\classification.py:1143: UndefinedMetricWarning: Precision and F-score are ill-defined and being set to 0.0 in labels with no predicted samples.\n",
      "  'precision', 'predicted', average, warn_for)\n",
      "C:\\Users\\dadra\\anaconda\\Anaconda3\\envs\\PythonWebMongo\\lib\\site-packages\\sklearn\\metrics\\classification.py:1143: UndefinedMetricWarning: Precision and F-score are ill-defined and being set to 0.0 in labels with no predicted samples.\n",
      "  'precision', 'predicted', average, warn_for)\n"
     ]
    }
   ],
   "source": [
    "print(classification_report(y_test, y_test_pred))"
   ]
  },
  {
   "cell_type": "code",
   "execution_count": 117,
   "metadata": {},
   "outputs": [],
   "source": [
    "from sklearn.metrics import confusion_matrix"
   ]
  },
  {
   "cell_type": "code",
   "execution_count": 118,
   "metadata": {},
   "outputs": [],
   "source": [
    "import seaborn as sns"
   ]
  },
  {
   "cell_type": "code",
   "execution_count": 119,
   "metadata": {},
   "outputs": [],
   "source": [
    "conf_mx = confusion_matrix(y_test, y_test_pred)"
   ]
  },
  {
   "cell_type": "code",
   "execution_count": 120,
   "metadata": {},
   "outputs": [
    {
     "data": {
      "text/plain": [
       "array([0, 1, 5, 9], dtype=int64)"
      ]
     },
     "execution_count": 120,
     "metadata": {},
     "output_type": "execute_result"
    }
   ],
   "source": [
    "classifier.classes_"
   ]
  },
  {
   "cell_type": "code",
   "execution_count": 121,
   "metadata": {},
   "outputs": [],
   "source": [
    "conf_df= pd.DataFrame(conf_mx, index=classifier.classes_, columns=classifier.classes_)"
   ]
  },
  {
   "cell_type": "code",
   "execution_count": 122,
   "metadata": {},
   "outputs": [
    {
     "data": {
      "image/png": "[encoded data removed]",
      "text/plain": [
       "<Figure size 432x288 with 2 Axes>"
      ]
     },
     "metadata": {
      "needs_background": "light"
     },
     "output_type": "display_data"
    }
   ],
   "source": [
    "import matplotlib.pyplot as plt\n",
    "sns.heatmap(conf_df, annot=True, cmap=\"Blues\")\n",
    "plt.title(\"Confusion Matrix\")\n",
    "plt.tight_layout()\n",
    "plt.ylabel(\"True Class\")\n",
    "plt.xlabel(\"Predicted Class\")\n",
    "plt.show()"
   ]
  },
  {
   "cell_type": "code",
   "execution_count": 123,
   "metadata": {},
   "outputs": [],
   "source": [
    "from sklearn.dummy import DummyClassifier"
   ]
  },
  {
   "cell_type": "code",
   "execution_count": 124,
   "metadata": {},
   "outputs": [],
   "source": [
    "dummy = DummyClassifier(strategy='most_frequent', random_state=1)"
   ]
  },
  {
   "cell_type": "code",
   "execution_count": 125,
   "metadata": {},
   "outputs": [
    {
     "data": {
      "text/plain": [
       "DummyClassifier(constant=None, random_state=1, strategy='most_frequent')"
      ]
     },
     "execution_count": 125,
     "metadata": {},
     "output_type": "execute_result"
    }
   ],
   "source": [
    "dummy.fit(X_train_prepared, y_train)"
   ]
  },
  {
   "cell_type": "code",
   "execution_count": 126,
   "metadata": {},
   "outputs": [
    {
     "data": {
      "text/plain": [
       "0.5185185185185185"
      ]
     },
     "execution_count": 126,
     "metadata": {},
     "output_type": "execute_result"
    }
   ],
   "source": [
    "dummy.score(X_test_prepared, y_test)"
   ]
  },
  {
   "cell_type": "code",
   "execution_count": 127,
   "metadata": {},
   "outputs": [
    {
     "data": {
      "text/plain": [
       "array([0, 1, 5, 9], dtype=int64)"
      ]
     },
     "execution_count": 127,
     "metadata": {},
     "output_type": "execute_result"
    }
   ],
   "source": [
    "dummy.classes_"
   ]
  },
  {
   "cell_type": "code",
   "execution_count": 128,
   "metadata": {},
   "outputs": [],
   "source": [
    "DummyClassifier?"
   ]
  },
  {
   "cell_type": "code",
   "execution_count": 129,
   "metadata": {},
   "outputs": [],
   "source": [
    "dummy2 = DummyClassifier(strategy='constant', random_state=1, constant=5)"
   ]
  },
  {
   "cell_type": "code",
   "execution_count": 130,
   "metadata": {},
   "outputs": [
    {
     "data": {
      "text/plain": [
       "DummyClassifier(constant=5, random_state=1, strategy='constant')"
      ]
     },
     "execution_count": 130,
     "metadata": {},
     "output_type": "execute_result"
    }
   ],
   "source": [
    "dummy2.fit(X_train_prepared, y_train)"
   ]
  },
  {
   "cell_type": "code",
   "execution_count": 131,
   "metadata": {},
   "outputs": [
    {
     "data": {
      "text/plain": [
       "0.5185185185185185"
      ]
     },
     "execution_count": 131,
     "metadata": {},
     "output_type": "execute_result"
    }
   ],
   "source": [
    "dummy.score(X_test_prepared, y_test)   # same as 'most_frequent'"
   ]
  },
  {
   "cell_type": "code",
   "execution_count": 132,
   "metadata": {},
   "outputs": [],
   "source": [
    "LogisticRegression?"
   ]
  },
  {
   "cell_type": "code",
   "execution_count": 133,
   "metadata": {},
   "outputs": [],
   "source": [
    "from sklearn.model_selection import cross_val_score"
   ]
  },
  {
   "cell_type": "code",
   "execution_count": 134,
   "metadata": {},
   "outputs": [
    {
     "name": "stderr",
     "output_type": "stream",
     "text": [
      "[Parallel(n_jobs=-1)]: Using backend LokyBackend with 12 concurrent workers.\n",
      "[Parallel(n_jobs=-1)]: Done   3 out of   3 | elapsed:   22.7s finished\n"
     ]
    },
    {
     "data": {
      "text/plain": [
       "array([0.65597236, 0.64740741, 0.65924827])"
      ]
     },
     "execution_count": 134,
     "metadata": {},
     "output_type": "execute_result"
    }
   ],
   "source": [
    "cross_val_score(classifier, X_train_prepared, y_train, cv=3, scoring='accuracy', n_jobs=-1, verbose=True)"
   ]
  },
  {
   "cell_type": "code",
   "execution_count": 135,
   "metadata": {},
   "outputs": [],
   "source": [
    "from sklearn.base import BaseEstimator"
   ]
  },
  {
   "cell_type": "code",
   "execution_count": 136,
   "metadata": {},
   "outputs": [],
   "source": [
    "import numpy as np"
   ]
  },
  {
   "cell_type": "code",
   "execution_count": 139,
   "metadata": {},
   "outputs": [],
   "source": [
    "class Always0Classifier(BaseEstimator):\n",
    "    def fit(self, X, y=None):\n",
    "        pass\n",
    "    def predict(self, X):\n",
    "        return np.zeros((len(X), 1))\n",
    "    "
   ]
  },
  {
   "cell_type": "code",
   "execution_count": 140,
   "metadata": {},
   "outputs": [],
   "source": [
    "always_0_classifer = Always0Classifier()"
   ]
  },
  {
   "cell_type": "code",
   "execution_count": 141,
   "metadata": {},
   "outputs": [
    {
     "data": {
      "text/plain": [
       "array([0.43209877, 0.43280632, 0.43577075])"
      ]
     },
     "execution_count": 141,
     "metadata": {},
     "output_type": "execute_result"
    }
   ],
   "source": [
    "cross_val_score(always_0_classifer, X_train_prepared, y_train, cv=3, scoring='accuracy', n_jobs=-1)"
   ]
  },
  {
   "cell_type": "code",
   "execution_count": 142,
   "metadata": {},
   "outputs": [
    {
     "data": {
      "text/plain": [
       "5    3151\n",
       "0    2633\n",
       "1     284\n",
       "9       5\n",
       "Name: V1144, dtype: int64"
      ]
     },
     "execution_count": 142,
     "metadata": {},
     "output_type": "execute_result"
    }
   ],
   "source": [
    "y_train.value_counts()"
   ]
  },
  {
   "cell_type": "code",
   "execution_count": 143,
   "metadata": {},
   "outputs": [
    {
     "data": {
      "text/plain": [
       "5    1050\n",
       "0     878\n",
       "1      95\n",
       "9       2\n",
       "Name: V1144, dtype: int64"
      ]
     },
     "execution_count": 143,
     "metadata": {},
     "output_type": "execute_result"
    }
   ],
   "source": [
    "y_test.value_counts()"
   ]
  },
  {
   "cell_type": "code",
   "execution_count": 144,
   "metadata": {},
   "outputs": [
    {
     "data": {
      "text/plain": [
       "0.4335583731269554"
      ]
     },
     "execution_count": 144,
     "metadata": {},
     "output_type": "execute_result"
    }
   ],
   "source": [
    "2633/len(y_train)"
   ]
  },
  {
   "cell_type": "code",
   "execution_count": 145,
   "metadata": {},
   "outputs": [
    {
     "data": {
      "text/plain": [
       "0.046764366869751356"
      ]
     },
     "execution_count": 145,
     "metadata": {},
     "output_type": "execute_result"
    }
   ],
   "source": [
    "284/len(y_train)"
   ]
  },
  {
   "cell_type": "code",
   "execution_count": 147,
   "metadata": {},
   "outputs": [],
   "source": [
    "from sklearn.model_selection import cross_val_predict"
   ]
  },
  {
   "cell_type": "code",
   "execution_count": 148,
   "metadata": {},
   "outputs": [],
   "source": [
    "y_cv_train_pred = cross_val_predict(classifier, X_train_prepared, y_train, cv=5, n_jobs=-1)"
   ]
  },
  {
   "cell_type": "code",
   "execution_count": 149,
   "metadata": {},
   "outputs": [
    {
     "data": {
      "text/plain": [
       "array([[1735,   15,  883,    0],\n",
       "       [  10,  109,  165,    0],\n",
       "       [ 931,   76, 2144,    0],\n",
       "       [   5,    0,    0,    0]], dtype=int64)"
      ]
     },
     "execution_count": 149,
     "metadata": {},
     "output_type": "execute_result"
    }
   ],
   "source": [
    "confusion_matrix(y_train, y_cv_train_pred)"
   ]
  },
  {
   "cell_type": "code",
   "execution_count": 150,
   "metadata": {},
   "outputs": [],
   "source": [
    "from sklearn.metrics import precision_score, recall_score"
   ]
  },
  {
   "cell_type": "code",
   "execution_count": 154,
   "metadata": {},
   "outputs": [
    {
     "name": "stderr",
     "output_type": "stream",
     "text": [
      "C:\\Users\\dadra\\anaconda\\Anaconda3\\envs\\PythonWebMongo\\lib\\site-packages\\sklearn\\metrics\\classification.py:1143: UndefinedMetricWarning: Precision is ill-defined and being set to 0.0 in labels with no predicted samples.\n",
      "  'precision', 'predicted', average, warn_for)\n"
     ]
    },
    {
     "data": {
      "text/plain": [
       "0.6545658021902973"
      ]
     },
     "execution_count": 154,
     "metadata": {},
     "output_type": "execute_result"
    }
   ],
   "source": [
    "precision_score(y_train, y_cv_train_pred, average='weighted')"
   ]
  },
  {
   "cell_type": "code",
   "execution_count": 155,
   "metadata": {},
   "outputs": [
    {
     "data": {
      "text/plain": [
       "0.6566770953400296"
      ]
     },
     "execution_count": 155,
     "metadata": {},
     "output_type": "execute_result"
    }
   ],
   "source": [
    "recall_score(y_train, y_cv_train_pred, average='weighted')"
   ]
  },
  {
   "cell_type": "code",
   "execution_count": 157,
   "metadata": {},
   "outputs": [],
   "source": [
    "from sklearn.model_selection import GridSearchCV"
   ]
  },
  {
   "cell_type": "code",
   "execution_count": 159,
   "metadata": {},
   "outputs": [],
   "source": [
    "param_grid = {'C': [0.01, 0.1, 1, 5, 10, 50]}"
   ]
  },
  {
   "cell_type": "code",
   "execution_count": 161,
   "metadata": {},
   "outputs": [],
   "source": [
    "grid = GridSearchCV(classifier, param_grid, verbose=3, n_jobs=-1)"
   ]
  },
  {
   "cell_type": "code",
   "execution_count": 162,
   "metadata": {},
   "outputs": [
    {
     "name": "stderr",
     "output_type": "stream",
     "text": [
      "C:\\Users\\dadra\\anaconda\\Anaconda3\\envs\\PythonWebMongo\\lib\\site-packages\\sklearn\\model_selection\\_split.py:2053: FutureWarning: You should specify a value for 'cv' instead of relying on the default value. The default value will change from 3 to 5 in version 0.22.\n",
      "  warnings.warn(CV_WARNING, FutureWarning)\n",
      "[Parallel(n_jobs=-1)]: Using backend LokyBackend with 12 concurrent workers.\n"
     ]
    },
    {
     "name": "stdout",
     "output_type": "stream",
     "text": [
      "Fitting 3 folds for each of 6 candidates, totalling 18 fits\n"
     ]
    },
    {
     "name": "stderr",
     "output_type": "stream",
     "text": [
      "[Parallel(n_jobs=-1)]: Done   2 out of  18 | elapsed:    4.4s remaining:   35.9s\n",
      "[Parallel(n_jobs=-1)]: Done   9 out of  18 | elapsed:   50.1s remaining:   50.1s\n",
      "[Parallel(n_jobs=-1)]: Done  16 out of  18 | elapsed:   54.8s remaining:    6.8s\n",
      "[Parallel(n_jobs=-1)]: Done  18 out of  18 | elapsed:   55.6s finished\n",
      "[Parallel(n_jobs=-1)]: Using backend ThreadingBackend with 12 concurrent workers.\n"
     ]
    },
    {
     "name": "stdout",
     "output_type": "stream",
     "text": [
      "convergence after 29 epochs took 1 seconds\n"
     ]
    },
    {
     "name": "stderr",
     "output_type": "stream",
     "text": [
      "[Parallel(n_jobs=-1)]: Done   1 out of   1 | elapsed:    0.9s finished\n"
     ]
    },
    {
     "data": {
      "text/plain": [
       "GridSearchCV(cv='warn', error_score='raise-deprecating',\n",
       "       estimator=LogisticRegression(C=1.0, class_weight=None, dual=False, fit_intercept=True,\n",
       "          intercept_scaling=1, max_iter=1000, multi_class='auto',\n",
       "          n_jobs=-1, penalty='l1', random_state=None, solver='saga',\n",
       "          tol=0.0001, verbose=1, warm_start=False),\n",
       "       fit_params=None, iid='warn', n_jobs=-1,\n",
       "       param_grid={'C': [0.01, 0.1, 1, 5, 10, 50]},\n",
       "       pre_dispatch='2*n_jobs', refit=True, return_train_score='warn',\n",
       "       scoring=None, verbose=3)"
      ]
     },
     "execution_count": 162,
     "metadata": {},
     "output_type": "execute_result"
    }
   ],
   "source": [
    "grid.fit(X_train_prepared, y_train)"
   ]
  },
  {
   "cell_type": "code",
   "execution_count": 163,
   "metadata": {},
   "outputs": [
    {
     "name": "stdout",
     "output_type": "stream",
     "text": [
      "0.6583237279762885\n"
     ]
    }
   ],
   "source": [
    "print(grid.best_score_)"
   ]
  },
  {
   "cell_type": "code",
   "execution_count": 164,
   "metadata": {},
   "outputs": [
    {
     "name": "stdout",
     "output_type": "stream",
     "text": [
      "{'C': 0.1}\n"
     ]
    }
   ],
   "source": [
    "print(grid.best_params_)"
   ]
  },
  {
   "cell_type": "code",
   "execution_count": 165,
   "metadata": {},
   "outputs": [],
   "source": [
    "param_grid = {'C': [0.01, 0.05, 0.1, 0.2, 0.3, 0.5, 0.8]}"
   ]
  },
  {
   "cell_type": "code",
   "execution_count": 166,
   "metadata": {},
   "outputs": [],
   "source": [
    "grid = GridSearchCV(classifier, param_grid, verbose=3, n_jobs=-1)"
   ]
  },
  {
   "cell_type": "code",
   "execution_count": 167,
   "metadata": {},
   "outputs": [
    {
     "name": "stderr",
     "output_type": "stream",
     "text": [
      "C:\\Users\\dadra\\anaconda\\Anaconda3\\envs\\PythonWebMongo\\lib\\site-packages\\sklearn\\model_selection\\_split.py:2053: FutureWarning: You should specify a value for 'cv' instead of relying on the default value. The default value will change from 3 to 5 in version 0.22.\n",
      "  warnings.warn(CV_WARNING, FutureWarning)\n",
      "[Parallel(n_jobs=-1)]: Using backend LokyBackend with 12 concurrent workers.\n"
     ]
    },
    {
     "name": "stdout",
     "output_type": "stream",
     "text": [
      "Fitting 3 folds for each of 7 candidates, totalling 21 fits\n"
     ]
    },
    {
     "name": "stderr",
     "output_type": "stream",
     "text": [
      "[Parallel(n_jobs=-1)]: Done   6 out of  21 | elapsed:    3.8s remaining:    9.7s\n",
      "[Parallel(n_jobs=-1)]: Done  14 out of  21 | elapsed:    6.2s remaining:    3.1s\n",
      "[Parallel(n_jobs=-1)]: Done  21 out of  21 | elapsed:   24.9s finished\n",
      "[Parallel(n_jobs=-1)]: Using backend ThreadingBackend with 12 concurrent workers.\n"
     ]
    },
    {
     "name": "stdout",
     "output_type": "stream",
     "text": [
      "convergence after 47 epochs took 2 seconds\n"
     ]
    },
    {
     "name": "stderr",
     "output_type": "stream",
     "text": [
      "[Parallel(n_jobs=-1)]: Done   1 out of   1 | elapsed:    1.4s finished\n"
     ]
    },
    {
     "data": {
      "text/plain": [
       "GridSearchCV(cv='warn', error_score='raise-deprecating',\n",
       "       estimator=LogisticRegression(C=1.0, class_weight=None, dual=False, fit_intercept=True,\n",
       "          intercept_scaling=1, max_iter=1000, multi_class='auto',\n",
       "          n_jobs=-1, penalty='l1', random_state=None, solver='saga',\n",
       "          tol=0.0001, verbose=1, warm_start=False),\n",
       "       fit_params=None, iid='warn', n_jobs=-1,\n",
       "       param_grid={'C': [0.01, 0.05, 0.1, 0.2, 0.3, 0.5, 0.8]},\n",
       "       pre_dispatch='2*n_jobs', refit=True, return_train_score='warn',\n",
       "       scoring=None, verbose=3)"
      ]
     },
     "execution_count": 167,
     "metadata": {},
     "output_type": "execute_result"
    }
   ],
   "source": [
    "grid.fit(X_train_prepared, y_train)"
   ]
  },
  {
   "cell_type": "code",
   "execution_count": 168,
   "metadata": {},
   "outputs": [
    {
     "data": {
      "text/plain": [
       "{'C': 0.3}"
      ]
     },
     "execution_count": 168,
     "metadata": {},
     "output_type": "execute_result"
    }
   ],
   "source": [
    "grid.best_params_"
   ]
  },
  {
   "cell_type": "code",
   "execution_count": 169,
   "metadata": {},
   "outputs": [
    {
     "data": {
      "text/plain": [
       "0.6588177177671661"
      ]
     },
     "execution_count": 169,
     "metadata": {},
     "output_type": "execute_result"
    }
   ],
   "source": [
    "grid.best_score_"
   ]
  },
  {
   "cell_type": "code",
   "execution_count": null,
   "metadata": {},
   "outputs": [],
   "source": []
  }
 ],
 "metadata": {
  "kernelspec": {
   "display_name": "Python 3",
   "language": "python",
   "name": "python3"
  },
  "language_info": {
   "codemirror_mode": {
    "name": "ipython",
    "version": 3
   },
   "file_extension": ".py",
   "mimetype": "text/x-python",
   "name": "python",
   "nbconvert_exporter": "python",
   "pygments_lexer": "ipython3",
   "version": "3.6.7"
  }
 },
 "nbformat": 4,
 "nbformat_minor": 2
}
