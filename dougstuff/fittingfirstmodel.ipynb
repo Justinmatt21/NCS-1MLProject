{
 "cells": [
  {
   "cell_type": "code",
   "execution_count": 1,
   "metadata": {},
   "outputs": [
    {
     "name": "stderr",
     "output_type": "stream",
     "text": [
      "C:\\Users\\dadra\\anaconda\\Anaconda3\\envs\\PythonWebMongo\\lib\\site-packages\\sklearn\\preprocessing\\_encoders.py:368: FutureWarning: The handling of integer data will change in version 0.22. Currently, the categories are determined based on the range [0, max(values)], while in the future they will be determined based on the unique values.\n",
      "If you want the future behaviour and silence this warning, you can specify \"categories='auto'\".\n",
      "In case you used a LabelEncoder before this OneHotEncoder to convert the categories to integers, then you can now use the OneHotEncoder directly.\n",
      "  warnings.warn(msg, FutureWarning)\n"
     ]
    },
    {
     "data": {
      "text/plain": [
       "array([[0., 0., 0., ..., 0., 0., 1.],\n",
       "       [0., 0., 0., ..., 0., 0., 1.],\n",
       "       [0., 0., 0., ..., 0., 0., 1.],\n",
       "       ...,\n",
       "       [0., 0., 0., ..., 1., 0., 0.],\n",
       "       [0., 0., 0., ..., 0., 0., 1.],\n",
       "       [0., 0., 0., ..., 0., 0., 0.]])"
      ]
     },
     "execution_count": 1,
     "metadata": {},
     "output_type": "execute_result"
    }
   ],
   "source": [
    "# We will need to adjust this to fit our case but this is the structure for the Pipeline\n",
    "\n",
    "from sklearn.base import BaseEstimator, TransformerMixin\n",
    "from sklearn.pipeline import Pipeline, FeatureUnion\n",
    "from sklearn.preprocessing import PowerTransformer, MinMaxScaler, LabelBinarizer\n",
    "from sklearn.model_selection import train_test_split\n",
    "from sklearn.preprocessing import OneHotEncoder\n",
    "\n",
    "import pandas as pd\n",
    "import numpy as np\n",
    "\n",
    "# Define a method to select attributes from a DataFrame\n",
    "class DataFrameSelector(BaseEstimator, TransformerMixin):\n",
    "    def __init__(self, attribute_names):\n",
    "        self.attribute_names = attribute_names\n",
    "    def fit(self, X, y=None):\n",
    "        return self\n",
    "    def transform(self, X):\n",
    "        return X[self.attribute_names].values\n",
    "\n",
    "# Read in the tsv file\n",
    "df = pd.read_csv('06693-0001-Data.tsv', delim_whitespace=True)\n",
    "\n",
    "# Make a helper dictionary to keep track of 'response', 'numerical', 'categorical'\n",
    "\n",
    "var_dict = {\n",
    "    'response': 'V1144',\n",
    "    'cat_preds': ['V12', 'V13', 'V4518', 'V5114'],\n",
    "    'num_preds': []\n",
    "}\n",
    "\n",
    "# Make a train-test split:\n",
    "train_set, test_set = train_test_split(df, random_state=1, stratify=df[var_dict['response']])\n",
    "\n",
    "\n",
    "#num_attribs = var_dict['num_preds']\n",
    "cat_attribs = var_dict['cat_preds']\n",
    "\n",
    "# We will need this later\n",
    "#num_pipeline = Pipeline([\n",
    "#    ('selector', DataFrameSelector(num_attribs)),\n",
    "#    ('power_transf', PowerTransformer(method='yeo-johnson', standardize=False)),\n",
    "#    ('minmax_scaler', MinMaxScaler()),\n",
    "#])\n",
    "\n",
    "cat_pipeline = Pipeline([\n",
    "    ('selector', DataFrameSelector(cat_attribs)),\n",
    "    ('encoder', LabelBinarizer(sparse=False)),\n",
    "])\n",
    "\n",
    "full_pipeline = FeatureUnion(transformer_list=[\n",
    "    #(\"num_pipeline\", num_pipeline),\n",
    "    (\"cat_pipeline\", cat_pipeline),\n",
    "])\n",
    "\n",
    "y_train = train_set[var_dict['response']]\n",
    "\n",
    "# Prepare the training data with the pipeline above\n",
    "X_train_prepared = cat_pipeline.fit_transform(train_set)\n",
    "X_train_prepared\n"
   ]
  },
  {
   "cell_type": "code",
   "execution_count": 2,
   "metadata": {},
   "outputs": [
    {
     "data": {
      "text/plain": [
       "(6073, 57)"
      ]
     },
     "execution_count": 2,
     "metadata": {},
     "output_type": "execute_result"
    }
   ],
   "source": [
    "X_train_prepared.shape"
   ]
  },
  {
   "cell_type": "code",
   "execution_count": 3,
   "metadata": {},
   "outputs": [
    {
     "data": {
      "text/plain": [
       "DecisionTreeClassifier(class_weight=None, criterion='gini', max_depth=None,\n",
       "            max_features=None, max_leaf_nodes=None,\n",
       "            min_impurity_decrease=0.0, min_impurity_split=None,\n",
       "            min_samples_leaf=1, min_samples_split=2,\n",
       "            min_weight_fraction_leaf=0.0, presort=False, random_state=None,\n",
       "            splitter='best')"
      ]
     },
     "execution_count": 3,
     "metadata": {},
     "output_type": "execute_result"
    }
   ],
   "source": [
    "from sklearn.tree import DecisionTreeClassifier\n",
    "\n",
    "tree_clf = DecisionTreeClassifier()\n",
    "tree_clf.fit(X_train_prepared, y_train)"
   ]
  },
  {
   "cell_type": "code",
   "execution_count": 5,
   "metadata": {},
   "outputs": [
    {
     "data": {
      "text/plain": [
       "(2025, 54)"
      ]
     },
     "execution_count": 5,
     "metadata": {},
     "output_type": "execute_result"
    }
   ],
   "source": [
    "X_test_prepared = cat_pipeline.transform(test_set)\n",
    "X_test_prepared.shape"
   ]
  },
  {
   "cell_type": "code",
   "execution_count": 6,
   "metadata": {},
   "outputs": [
    {
     "ename": "ValueError",
     "evalue": "Number of features of the model must match the input. Model n_features is 57 and input n_features is 54 ",
     "output_type": "error",
     "traceback": [
      "\u001b[1;31m---------------------------------------------------------------------------\u001b[0m",
      "\u001b[1;31mValueError\u001b[0m                                Traceback (most recent call last)",
      "\u001b[1;32m<ipython-input-6-2a8765c0117e>\u001b[0m in \u001b[0;36m<module>\u001b[1;34m\u001b[0m\n\u001b[1;32m----> 1\u001b[1;33m \u001b[0mtree_pred\u001b[0m \u001b[1;33m=\u001b[0m \u001b[0mtree_clf\u001b[0m\u001b[1;33m.\u001b[0m\u001b[0mpredict\u001b[0m\u001b[1;33m(\u001b[0m\u001b[0mX_test_prepared\u001b[0m\u001b[1;33m)\u001b[0m\u001b[1;33m\u001b[0m\u001b[1;33m\u001b[0m\u001b[0m\n\u001b[0m",
      "\u001b[1;32m~\\anaconda\\Anaconda3\\envs\\PythonWebMongo\\lib\\site-packages\\sklearn\\tree\\tree.py\u001b[0m in \u001b[0;36mpredict\u001b[1;34m(self, X, check_input)\u001b[0m\n\u001b[0;32m    414\u001b[0m         \"\"\"\n\u001b[0;32m    415\u001b[0m         \u001b[0mcheck_is_fitted\u001b[0m\u001b[1;33m(\u001b[0m\u001b[0mself\u001b[0m\u001b[1;33m,\u001b[0m \u001b[1;34m'tree_'\u001b[0m\u001b[1;33m)\u001b[0m\u001b[1;33m\u001b[0m\u001b[1;33m\u001b[0m\u001b[0m\n\u001b[1;32m--> 416\u001b[1;33m         \u001b[0mX\u001b[0m \u001b[1;33m=\u001b[0m \u001b[0mself\u001b[0m\u001b[1;33m.\u001b[0m\u001b[0m_validate_X_predict\u001b[0m\u001b[1;33m(\u001b[0m\u001b[0mX\u001b[0m\u001b[1;33m,\u001b[0m \u001b[0mcheck_input\u001b[0m\u001b[1;33m)\u001b[0m\u001b[1;33m\u001b[0m\u001b[1;33m\u001b[0m\u001b[0m\n\u001b[0m\u001b[0;32m    417\u001b[0m         \u001b[0mproba\u001b[0m \u001b[1;33m=\u001b[0m \u001b[0mself\u001b[0m\u001b[1;33m.\u001b[0m\u001b[0mtree_\u001b[0m\u001b[1;33m.\u001b[0m\u001b[0mpredict\u001b[0m\u001b[1;33m(\u001b[0m\u001b[0mX\u001b[0m\u001b[1;33m)\u001b[0m\u001b[1;33m\u001b[0m\u001b[1;33m\u001b[0m\u001b[0m\n\u001b[0;32m    418\u001b[0m         \u001b[0mn_samples\u001b[0m \u001b[1;33m=\u001b[0m \u001b[0mX\u001b[0m\u001b[1;33m.\u001b[0m\u001b[0mshape\u001b[0m\u001b[1;33m[\u001b[0m\u001b[1;36m0\u001b[0m\u001b[1;33m]\u001b[0m\u001b[1;33m\u001b[0m\u001b[1;33m\u001b[0m\u001b[0m\n",
      "\u001b[1;32m~\\anaconda\\Anaconda3\\envs\\PythonWebMongo\\lib\\site-packages\\sklearn\\tree\\tree.py\u001b[0m in \u001b[0;36m_validate_X_predict\u001b[1;34m(self, X, check_input)\u001b[0m\n\u001b[0;32m    386\u001b[0m                              \u001b[1;34m\"match the input. Model n_features is %s and \"\u001b[0m\u001b[1;33m\u001b[0m\u001b[1;33m\u001b[0m\u001b[0m\n\u001b[0;32m    387\u001b[0m                              \u001b[1;34m\"input n_features is %s \"\u001b[0m\u001b[1;33m\u001b[0m\u001b[1;33m\u001b[0m\u001b[0m\n\u001b[1;32m--> 388\u001b[1;33m                              % (self.n_features_, n_features))\n\u001b[0m\u001b[0;32m    389\u001b[0m \u001b[1;33m\u001b[0m\u001b[0m\n\u001b[0;32m    390\u001b[0m         \u001b[1;32mreturn\u001b[0m \u001b[0mX\u001b[0m\u001b[1;33m\u001b[0m\u001b[1;33m\u001b[0m\u001b[0m\n",
      "\u001b[1;31mValueError\u001b[0m: Number of features of the model must match the input. Model n_features is 57 and input n_features is 54 "
     ]
    }
   ],
   "source": [
    "tree_pred = tree_clf.predict(X_test_prepared)"
   ]
  },
  {
   "cell_type": "code",
   "execution_count": 15,
   "metadata": {},
   "outputs": [],
   "source": [
    "# So I need to catch where the categorical counts are failing --- in training set finding 57 categories \n",
    "# among the 5 variables - in the test set - only 54."
   ]
  },
  {
   "cell_type": "code",
   "execution_count": 16,
   "metadata": {},
   "outputs": [
    {
     "name": "stdout",
     "output_type": "stream",
     "text": [
      "              precision    recall  f1-score   support\n",
      "\n",
      "           0       0.65      0.66      0.66      2633\n",
      "           1       0.65      0.15      0.25       284\n",
      "           5       0.68      0.72      0.70      3151\n",
      "           9       1.00      0.20      0.33         5\n",
      "\n",
      "   micro avg       0.67      0.67      0.67      6073\n",
      "   macro avg       0.75      0.43      0.49      6073\n",
      "weighted avg       0.67      0.67      0.66      6073\n",
      "\n"
     ]
    }
   ],
   "source": [
    "from sklearn.metrics import classification_report\n",
    "y_train_pred = tree_clf.predict(X_train_prepared)\n",
    "print(classification_report(y_train, y_train_pred))"
   ]
  },
  {
   "cell_type": "code",
   "execution_count": 17,
   "metadata": {},
   "outputs": [
    {
     "data": {
      "text/plain": [
       "5    1050\n",
       "0     878\n",
       "1      95\n",
       "9       2\n",
       "Name: V1144, dtype: int64"
      ]
     },
     "execution_count": 17,
     "metadata": {},
     "output_type": "execute_result"
    }
   ],
   "source": [
    "test_set['V1144'].value_counts()"
   ]
  },
  {
   "cell_type": "code",
   "execution_count": 19,
   "metadata": {},
   "outputs": [
    {
     "data": {
      "text/plain": [
       "5    3151\n",
       "0    2633\n",
       "1     284\n",
       "9       5\n",
       "Name: V1144, dtype: int64"
      ]
     },
     "execution_count": 19,
     "metadata": {},
     "output_type": "execute_result"
    }
   ],
   "source": [
    "train_set['V1144'].value_counts()"
   ]
  },
  {
   "cell_type": "code",
   "execution_count": 20,
   "metadata": {},
   "outputs": [
    {
     "data": {
      "text/plain": [
       "5    4201\n",
       "0    3511\n",
       "1     379\n",
       "9       7\n",
       "Name: V1144, dtype: int64"
      ]
     },
     "execution_count": 20,
     "metadata": {},
     "output_type": "execute_result"
    }
   ],
   "source": [
    "df['V1144'].value_counts()"
   ]
  },
  {
   "cell_type": "code",
   "execution_count": 21,
   "metadata": {},
   "outputs": [
    {
     "data": {
      "text/plain": [
       "8098"
      ]
     },
     "execution_count": 21,
     "metadata": {},
     "output_type": "execute_result"
    }
   ],
   "source": [
    "len(df)"
   ]
  },
  {
   "cell_type": "code",
   "execution_count": 22,
   "metadata": {},
   "outputs": [
    {
     "data": {
      "text/plain": [
       "2025"
      ]
     },
     "execution_count": 22,
     "metadata": {},
     "output_type": "execute_result"
    }
   ],
   "source": [
    "len(test_set)"
   ]
  },
  {
   "cell_type": "code",
   "execution_count": 23,
   "metadata": {},
   "outputs": [
    {
     "data": {
      "text/plain": [
       "array([1.02331447e-02, 3.15434186e-03, 7.71145089e-03, 8.67979836e-03,\n",
       "       8.33834204e-03, 5.28016222e-03, 9.36637063e-03, 5.43801307e-03,\n",
       "       9.47128780e-03, 1.14095908e-02, 8.30581120e-03, 3.96457022e-03,\n",
       "       1.39343032e-02, 8.26998899e-03, 9.88882774e-03, 1.32451389e-02,\n",
       "       8.50359026e-03, 1.08565544e-02, 6.99421507e-03, 1.27360484e-02,\n",
       "       1.31641023e-02, 1.48412319e-02, 9.42284538e-03, 7.25417172e-03,\n",
       "       7.52226501e-03, 1.15366278e-02, 1.01213708e-02, 1.05183648e-02,\n",
       "       1.04464327e-02, 1.38273178e-02, 7.95091605e-03, 8.78513574e-03,\n",
       "       1.06437854e-02, 1.70850989e-02, 1.07900642e-02, 7.15506579e-03,\n",
       "       9.56494677e-03, 1.19239746e-02, 1.04321322e-02, 1.05422742e-02,\n",
       "       4.46089282e-03, 3.48508067e-04, 0.00000000e+00, 3.46986198e-04,\n",
       "       2.63597955e-02, 3.58153730e-02, 3.23196604e-02, 1.94298254e-02,\n",
       "       7.48440731e-03, 3.79024322e-01, 3.69949710e-03, 5.93416090e-03,\n",
       "       7.47670411e-03, 1.50536535e-02, 7.01934112e-02, 0.00000000e+00,\n",
       "       2.74312797e-03])"
      ]
     },
     "execution_count": 23,
     "metadata": {},
     "output_type": "execute_result"
    }
   ],
   "source": [
    "tree_clf.feature_importances_"
   ]
  },
  {
   "cell_type": "code",
   "execution_count": 30,
   "metadata": {},
   "outputs": [
    {
     "data": {
      "text/plain": [
       "[(0.3790243215909741, 49),\n",
       " (0.07019341116276466, 54),\n",
       " (0.035815372996119005, 45),\n",
       " (0.0323196604349827, 46),\n",
       " (0.02635979546050285, 44),\n",
       " (0.01942982539025851, 47),\n",
       " (0.017085098921422008, 33),\n",
       " (0.01505365354736591, 53),\n",
       " (0.014841231894634248, 21),\n",
       " (0.013934303199765954, 12),\n",
       " (0.013827317797428037, 29),\n",
       " (0.013245138904990073, 15),\n",
       " (0.013164102339046052, 20),\n",
       " (0.01273604842168633, 19),\n",
       " (0.011923974638936026, 37),\n",
       " (0.011536627780334149, 25),\n",
       " (0.011409590831408472, 9),\n",
       " (0.010856554358837927, 17),\n",
       " (0.010790064178424662, 34),\n",
       " (0.010643785368145418, 32),\n",
       " (0.010542274244273305, 39),\n",
       " (0.010518364827482213, 27),\n",
       " (0.010446432720073172, 28),\n",
       " (0.010432132185387294, 38),\n",
       " (0.01023314474005016, 0),\n",
       " (0.010121370777031182, 26),\n",
       " (0.009888827738674806, 14),\n",
       " (0.009564946771575888, 36),\n",
       " (0.009471287799915231, 8),\n",
       " (0.009422845382702466, 22),\n",
       " (0.009366370628743301, 6),\n",
       " (0.008785135742524357, 31),\n",
       " (0.008679798358755, 3),\n",
       " (0.008503590260516478, 16),\n",
       " (0.008338342041536778, 4),\n",
       " (0.008305811202257672, 10),\n",
       " (0.00826998898572281, 13),\n",
       " (0.007950916052482146, 30),\n",
       " (0.007711450891420864, 2),\n",
       " (0.007522265005557009, 24),\n",
       " (0.00748440730609372, 48),\n",
       " (0.0074767041062074316, 52),\n",
       " (0.007254171720910792, 23),\n",
       " (0.0071550657902785045, 35),\n",
       " (0.006994215067113135, 18),\n",
       " (0.005934160904455492, 51),\n",
       " (0.005438013074186139, 7),\n",
       " (0.005280162220941791, 5),\n",
       " (0.0044608928236919655, 40),\n",
       " (0.003964570221302304, 11),\n",
       " (0.003699497095706163, 50),\n",
       " (0.003154341858907192, 1),\n",
       " (0.002743127971198691, 56),\n",
       " (0.00034850806679240367, 41),\n",
       " (0.00034698619750512844, 43),\n",
       " (0.0, 55),\n",
       " (0.0, 42)]"
      ]
     },
     "execution_count": 30,
     "metadata": {},
     "output_type": "execute_result"
    }
   ],
   "source": [
    "sorted(zip(tree_clf.feature_importances_, range(0,X_train_prepared.shape[1])), reverse=True)"
   ]
  },
  {
   "cell_type": "code",
   "execution_count": 32,
   "metadata": {},
   "outputs": [
    {
     "data": {
      "text/plain": [
       "1600.0"
      ]
     },
     "execution_count": 32,
     "metadata": {},
     "output_type": "execute_result"
    }
   ],
   "source": [
    "sum(X_train_prepared[:,49])"
   ]
  },
  {
   "cell_type": "code",
   "execution_count": 33,
   "metadata": {},
   "outputs": [
    {
     "data": {
      "text/plain": [
       "(6073, 57)"
      ]
     },
     "execution_count": 33,
     "metadata": {},
     "output_type": "execute_result"
    }
   ],
   "source": [
    "X_train_prepared.shape"
   ]
  },
  {
   "cell_type": "code",
   "execution_count": null,
   "metadata": {},
   "outputs": [],
   "source": []
  }
 ],
 "metadata": {
  "kernelspec": {
   "display_name": "Python 3",
   "language": "python",
   "name": "python3"
  },
  "language_info": {
   "codemirror_mode": {
    "name": "ipython",
    "version": 3
   },
   "file_extension": ".py",
   "mimetype": "text/x-python",
   "name": "python",
   "nbconvert_exporter": "python",
   "pygments_lexer": "ipython3",
   "version": "3.6.7"
  }
 },
 "nbformat": 4,
 "nbformat_minor": 2
}
