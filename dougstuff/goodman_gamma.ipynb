{
 "cells": [
  {
   "cell_type": "code",
   "execution_count": 1,
   "metadata": {},
   "outputs": [],
   "source": [
    "import numpy as np\n",
    "import pandas as pd\n",
    "from scipy.stats import norm"
   ]
  },
  {
   "cell_type": "code",
   "execution_count": 2,
   "metadata": {},
   "outputs": [],
   "source": [
    "\"\"\"\n",
    "These functions are versions of R functions in the R package DescTools by Andri Signorell\n",
    "https://www.rdocumentation.org/packages/DescTools\n",
    "\n",
    "The Boolean indexing for computing concordant and discordant pairs allows us to avoid testing\n",
    "for indexing errors or writing special cases for the edges of a cross-tab matrix.\n",
    "\n",
    "Still to Do:  Add options for confidence intervals.  We could also nest the row and col functions inside\n",
    "to have them not visible in the surrounding environment.\n",
    "\"\"\"\n",
    "def row(ndarray):\n",
    "    row_array = np.zeros_like(ndarray)\n",
    "    nrow = ndarray.shape[0]\n",
    "    for i in range(nrow):\n",
    "        row_array[i,:] = i\n",
    "    \n",
    "    return row_array\n",
    "\n",
    "def col(ndarray):\n",
    "    col_array = np.zeros_like(ndarray)\n",
    "    ncol = ndarray.shape[1]\n",
    "    for j in range(ncol):\n",
    "        col_array[:,j] = j\n",
    "    \n",
    "    return col_array\n",
    "\n",
    "def concordant_discordant_pairs(cross_tab):\n",
    "    shape = cross_tab.shape\n",
    "    nrow = shape[0]\n",
    "    ncol = shape[1]\n",
    "    pi_c = np.zeros_like(cross_tab)\n",
    "    pi_d = np.zeros_like(cross_tab)\n",
    "    rowc = row(cross_tab)\n",
    "    colc = col(cross_tab)\n",
    "    \n",
    "    for i in range(nrow):\n",
    "        for j in range(ncol):\n",
    "            # completely mimic R code - avoids testing for indexing errors\n",
    "            # since a boolean index of all False will return an empty array\n",
    "            # which sums to zero\n",
    "            pi_c[i, j] = np.sum(cross_tab[np.logical_and(rowc < i, colc < j)]) +\\\n",
    "            np.sum(cross_tab[np.logical_and(rowc > i, colc > j)])\n",
    "            pi_d[i, j] = np.sum(cross_tab[np.logical_and(rowc < i, colc > j)]) +\\\n",
    "            np.sum(cross_tab[np.logical_and(rowc > i, colc < j)])\n",
    "            \n",
    "    c = np.sum(np.multiply(pi_c, cross_tab)/2)\n",
    "    d = np.sum(np.multiply(pi_d, cross_tab)/2)\n",
    "    return pi_c, pi_d, c, d\n",
    "\n",
    "def goodman_kruskall_gamma(x, y, conf_level=None):\n",
    "    # this function could call the following function...\n",
    "    cross_tab = pd.crosstab(x, y)\n",
    "    return goodman_kruskall_gamma_from_crosstab(cross_tab.values, conf_level)\n",
    "\n",
    "def goodman_kruskall_gamma_from_crosstab(table, conf_level=None):\n",
    "    pi_C, pi_D, C, D = concordant_discordant_pairs(table)\n",
    "    gamma = (C - D) / (C + D)\n",
    "    if conf_level:\n",
    "        psi = 2 * (D * pi_C - C * pi_D)/(C + D)**2\n",
    "        sigma2 = np.sum(np.multiply(table, np.square(psi))) - np.sum(np.multiply(table, psi))**2\n",
    "        pr2 = 1 - (1 - conf_level)/2\n",
    "        ci = norm.ppf(pr2) * np.sqrt(sigma2) * np.array([-1, 1]) + gamma\n",
    "        # print(np.sqrt(sigma2))\n",
    "        return gamma, ci #, np.sqrt(sigma2), gamma / np.sqrt(sigma2) - leave this off for now\n",
    "    else:\n",
    "        return gamma"
   ]
  },
  {
   "cell_type": "code",
   "execution_count": null,
   "metadata": {},
   "outputs": [],
   "source": []
  },
  {
   "cell_type": "code",
   "execution_count": 3,
   "metadata": {},
   "outputs": [
    {
     "name": "stdout",
     "output_type": "stream",
     "text": [
      "[[16  8 14]\n",
      " [19 17 60]\n",
      " [ 9 11 56]]\n",
      "5457.0 2361.0\n"
     ]
    }
   ],
   "source": [
    "# Check that concordant_discordant_pairs() is working\n",
    "x = np.array([[16, 8, 14], [19, 17, 60], [9, 11, 56]])\n",
    "print(x)\n",
    "_, _, conc_pairs, disc_pairs = concordant_discordant_pairs(x)\n",
    "print(conc_pairs, disc_pairs)"
   ]
  },
  {
   "cell_type": "code",
   "execution_count": 4,
   "metadata": {},
   "outputs": [
    {
     "data": {
      "text/plain": [
       "(0.5313123254886318, array([0.34799183, 0.71463282]))"
      ]
     },
     "execution_count": 4,
     "metadata": {},
     "output_type": "execute_result"
    }
   ],
   "source": [
    "# Compute Goodman Kruskall Gamma for a table and return confidence interval\n",
    "table = np.array([[26,26,23,18, 9], [6, 7, 9,14, 23]])\n",
    "goodman_kruskall_gamma_from_crosstab(table, conf_level=0.95)"
   ]
  },
  {
   "cell_type": "code",
   "execution_count": 5,
   "metadata": {},
   "outputs": [
    {
     "data": {
      "text/plain": [
       "(0.34945848375451266, array([0.14322471, 0.55569225]))"
      ]
     },
     "execution_count": 5,
     "metadata": {},
     "output_type": "execute_result"
    }
   ],
   "source": [
    "# Compute Goodman Kruskall Gamma for a table and return confidence interval\n",
    "table = np.array([[15, 12, 6, 5], [12, 8, 10, 8], [4, 6, 9, 10]])\n",
    "goodman_kruskall_gamma_from_crosstab(table, conf_level=0.95)"
   ]
  },
  {
   "cell_type": "code",
   "execution_count": 6,
   "metadata": {},
   "outputs": [
    {
     "data": {
      "text/plain": [
       "0.34945848375451266"
      ]
     },
     "execution_count": 6,
     "metadata": {},
     "output_type": "execute_result"
    }
   ],
   "source": [
    "# Compute Goodman Kruskall Gamma for a table and return confidence interval\n",
    "goodman_kruskall_gamma_from_crosstab(table) # leaving conf_level unspecified skips the confidence interval"
   ]
  },
  {
   "cell_type": "code",
   "execution_count": 8,
   "metadata": {},
   "outputs": [
    {
     "data": {
      "text/html": [
       "<div>\n",
       "<style scoped>\n",
       "    .dataframe tbody tr th:only-of-type {\n",
       "        vertical-align: middle;\n",
       "    }\n",
       "\n",
       "    .dataframe tbody tr th {\n",
       "        vertical-align: top;\n",
       "    }\n",
       "\n",
       "    .dataframe thead th {\n",
       "        text-align: right;\n",
       "    }\n",
       "</style>\n",
       "<table border=\"1\" class=\"dataframe\">\n",
       "  <thead>\n",
       "    <tr style=\"text-align: right;\">\n",
       "      <th></th>\n",
       "      <th>x</th>\n",
       "      <th>y</th>\n",
       "      <th>z</th>\n",
       "    </tr>\n",
       "  </thead>\n",
       "  <tbody>\n",
       "    <tr>\n",
       "      <th>0</th>\n",
       "      <td>2</td>\n",
       "      <td>4</td>\n",
       "      <td>3</td>\n",
       "    </tr>\n",
       "    <tr>\n",
       "      <th>1</th>\n",
       "      <td>2</td>\n",
       "      <td>1</td>\n",
       "      <td>1</td>\n",
       "    </tr>\n",
       "    <tr>\n",
       "      <th>2</th>\n",
       "      <td>1</td>\n",
       "      <td>1</td>\n",
       "      <td>1</td>\n",
       "    </tr>\n",
       "    <tr>\n",
       "      <th>3</th>\n",
       "      <td>2</td>\n",
       "      <td>3</td>\n",
       "      <td>1</td>\n",
       "    </tr>\n",
       "    <tr>\n",
       "      <th>4</th>\n",
       "      <td>1</td>\n",
       "      <td>1</td>\n",
       "      <td>3</td>\n",
       "    </tr>\n",
       "  </tbody>\n",
       "</table>\n",
       "</div>"
      ],
      "text/plain": [
       "   x  y  z\n",
       "0  2  4  3\n",
       "1  2  1  1\n",
       "2  1  1  1\n",
       "3  2  3  1\n",
       "4  1  1  3"
      ]
     },
     "execution_count": 8,
     "metadata": {},
     "output_type": "execute_result"
    }
   ],
   "source": [
    "# Consider a made-up ordinal dataframe\n",
    "ord_df = pd.DataFrame({'x': np.random.randint(low=1,high=5,size=100),\n",
    "                     'y': np.random.randint(low=1,high=5,size=100),\n",
    "                     'z': np.random.randint(low=1,high=5,size=100)})\n",
    "ord_df.head()"
   ]
  },
  {
   "cell_type": "code",
   "execution_count": 9,
   "metadata": {},
   "outputs": [
    {
     "data": {
      "text/html": [
       "<div>\n",
       "<style scoped>\n",
       "    .dataframe tbody tr th:only-of-type {\n",
       "        vertical-align: middle;\n",
       "    }\n",
       "\n",
       "    .dataframe tbody tr th {\n",
       "        vertical-align: top;\n",
       "    }\n",
       "\n",
       "    .dataframe thead th {\n",
       "        text-align: right;\n",
       "    }\n",
       "</style>\n",
       "<table border=\"1\" class=\"dataframe\">\n",
       "  <thead>\n",
       "    <tr style=\"text-align: right;\">\n",
       "      <th></th>\n",
       "      <th>x</th>\n",
       "      <th>y</th>\n",
       "      <th>z</th>\n",
       "    </tr>\n",
       "  </thead>\n",
       "  <tbody>\n",
       "    <tr>\n",
       "      <th>x</th>\n",
       "      <td>1.000000</td>\n",
       "      <td>0.042335</td>\n",
       "      <td>-0.090934</td>\n",
       "    </tr>\n",
       "    <tr>\n",
       "      <th>y</th>\n",
       "      <td>0.042335</td>\n",
       "      <td>1.000000</td>\n",
       "      <td>-0.053023</td>\n",
       "    </tr>\n",
       "    <tr>\n",
       "      <th>z</th>\n",
       "      <td>-0.090934</td>\n",
       "      <td>-0.053023</td>\n",
       "      <td>1.000000</td>\n",
       "    </tr>\n",
       "  </tbody>\n",
       "</table>\n",
       "</div>"
      ],
      "text/plain": [
       "          x         y         z\n",
       "x  1.000000  0.042335 -0.090934\n",
       "y  0.042335  1.000000 -0.053023\n",
       "z -0.090934 -0.053023  1.000000"
      ]
     },
     "execution_count": 9,
     "metadata": {},
     "output_type": "execute_result"
    }
   ],
   "source": [
    "ord_df.corr(method='kendall') # Kendall's tau is closely related to Goodman-Kruskall's gamma"
   ]
  },
  {
   "cell_type": "code",
   "execution_count": 10,
   "metadata": {},
   "outputs": [
    {
     "data": {
      "text/plain": [
       "(0.056252239340738086, array([-0.15021721,  0.26272168]))"
      ]
     },
     "execution_count": 10,
     "metadata": {},
     "output_type": "execute_result"
    }
   ],
   "source": [
    "goodman_kruskall_gamma(ord_df.x, ord_df.y, conf_level=0.95)"
   ]
  },
  {
   "cell_type": "code",
   "execution_count": 11,
   "metadata": {},
   "outputs": [],
   "source": [
    "def goodman_corr_matrix(df, cols):\n",
    "    \"\"\"\n",
    "    Given a Pandas DataFrame df and a list of columns in `cols`, calculates the Goodman-Kruskall \n",
    "    correlation matrix.  Returns the matrix as a DataFrame that can be plotted in seaborn's clustermap.\n",
    "    \"\"\"\n",
    "    n = len(cols)\n",
    "    corr_matrix = np.zeros((n,n))\n",
    "    \n",
    "    for i, col_i in enumerate(cols):\n",
    "        for j, col_j in enumerate(cols):\n",
    "            #print(df[col_i])\n",
    "            corr_matrix[i, j] = goodman_kruskall_gamma(df[col_i].values, df[col_j].values)\n",
    "            \n",
    "    return pd.DataFrame(corr_matrix, columns=cols, index=cols)    "
   ]
  },
  {
   "cell_type": "code",
   "execution_count": 12,
   "metadata": {},
   "outputs": [
    {
     "data": {
      "text/html": [
       "<div>\n",
       "<style scoped>\n",
       "    .dataframe tbody tr th:only-of-type {\n",
       "        vertical-align: middle;\n",
       "    }\n",
       "\n",
       "    .dataframe tbody tr th {\n",
       "        vertical-align: top;\n",
       "    }\n",
       "\n",
       "    .dataframe thead th {\n",
       "        text-align: right;\n",
       "    }\n",
       "</style>\n",
       "<table border=\"1\" class=\"dataframe\">\n",
       "  <thead>\n",
       "    <tr style=\"text-align: right;\">\n",
       "      <th></th>\n",
       "      <th>x</th>\n",
       "      <th>y</th>\n",
       "      <th>z</th>\n",
       "      <th>x</th>\n",
       "      <th>y</th>\n",
       "    </tr>\n",
       "  </thead>\n",
       "  <tbody>\n",
       "    <tr>\n",
       "      <th>x</th>\n",
       "      <td>1.000000</td>\n",
       "      <td>0.056252</td>\n",
       "      <td>-0.122093</td>\n",
       "      <td>1.000000</td>\n",
       "      <td>0.056252</td>\n",
       "    </tr>\n",
       "    <tr>\n",
       "      <th>y</th>\n",
       "      <td>0.056252</td>\n",
       "      <td>1.000000</td>\n",
       "      <td>-0.070201</td>\n",
       "      <td>0.056252</td>\n",
       "      <td>1.000000</td>\n",
       "    </tr>\n",
       "    <tr>\n",
       "      <th>z</th>\n",
       "      <td>-0.122093</td>\n",
       "      <td>-0.070201</td>\n",
       "      <td>1.000000</td>\n",
       "      <td>-0.122093</td>\n",
       "      <td>-0.070201</td>\n",
       "    </tr>\n",
       "    <tr>\n",
       "      <th>x</th>\n",
       "      <td>1.000000</td>\n",
       "      <td>0.056252</td>\n",
       "      <td>-0.122093</td>\n",
       "      <td>1.000000</td>\n",
       "      <td>0.056252</td>\n",
       "    </tr>\n",
       "    <tr>\n",
       "      <th>y</th>\n",
       "      <td>0.056252</td>\n",
       "      <td>1.000000</td>\n",
       "      <td>-0.070201</td>\n",
       "      <td>0.056252</td>\n",
       "      <td>1.000000</td>\n",
       "    </tr>\n",
       "  </tbody>\n",
       "</table>\n",
       "</div>"
      ],
      "text/plain": [
       "          x         y         z         x         y\n",
       "x  1.000000  0.056252 -0.122093  1.000000  0.056252\n",
       "y  0.056252  1.000000 -0.070201  0.056252  1.000000\n",
       "z -0.122093 -0.070201  1.000000 -0.122093 -0.070201\n",
       "x  1.000000  0.056252 -0.122093  1.000000  0.056252\n",
       "y  0.056252  1.000000 -0.070201  0.056252  1.000000"
      ]
     },
     "execution_count": 12,
     "metadata": {},
     "output_type": "execute_result"
    }
   ],
   "source": [
    "goodman_corr_matrix(ord_df, ['x', 'y', 'z', 'x', 'y'])"
   ]
  },
  {
   "cell_type": "code",
   "execution_count": 13,
   "metadata": {},
   "outputs": [],
   "source": [
    "import seaborn as sns"
   ]
  },
  {
   "cell_type": "code",
   "execution_count": 14,
   "metadata": {},
   "outputs": [
    {
     "data": {
      "text/plain": [
       "<seaborn.matrix.ClusterGrid at 0x20997879978>"
      ]
     },
     "execution_count": 14,
     "metadata": {},
     "output_type": "execute_result"
    },
    {
     "data": {
      "image/png": "[encoded data removed]",
      "text/plain": [
       "<Figure size 720x720 with 4 Axes>"
      ]
     },
     "metadata": {
      "needs_background": "light"
     },
     "output_type": "display_data"
    }
   ],
   "source": [
    "sns.clustermap(goodman_corr_matrix(ord_df, ['x', 'y', 'z', 'x', 'y']))"
   ]
  },
  {
   "cell_type": "code",
   "execution_count": 23,
   "metadata": {},
   "outputs": [
    {
     "data": {
      "text/plain": [
       "1    23\n",
       "2    22\n",
       "3    33\n",
       "4    22\n",
       "Name: x, dtype: int64"
      ]
     },
     "execution_count": 23,
     "metadata": {},
     "output_type": "execute_result"
    }
   ],
   "source": [
    "ord_df['x'].value_counts(sort=False)"
   ]
  },
  {
   "cell_type": "code",
   "execution_count": 26,
   "metadata": {},
   "outputs": [],
   "source": [
    "def tabulate_ordinal_predictors(df, cols):\n",
    "    \n",
    "    # Do something to clear out NA's?\n",
    "    n = len(cols)\n",
    "    out_df = pd.DataFrame()\n",
    "    \n",
    "    for i, col_i in enumerate(cols):\n",
    "        counts = df[col_i].value_counts(sort=False)\n",
    "        out_df[col_i] = counts\n",
    "        \n",
    "    return out_df"
   ]
  },
  {
   "cell_type": "code",
   "execution_count": 27,
   "metadata": {},
   "outputs": [
    {
     "data": {
      "text/html": [
       "<div>\n",
       "<style scoped>\n",
       "    .dataframe tbody tr th:only-of-type {\n",
       "        vertical-align: middle;\n",
       "    }\n",
       "\n",
       "    .dataframe tbody tr th {\n",
       "        vertical-align: top;\n",
       "    }\n",
       "\n",
       "    .dataframe thead th {\n",
       "        text-align: right;\n",
       "    }\n",
       "</style>\n",
       "<table border=\"1\" class=\"dataframe\">\n",
       "  <thead>\n",
       "    <tr style=\"text-align: right;\">\n",
       "      <th></th>\n",
       "      <th>x</th>\n",
       "      <th>y</th>\n",
       "      <th>z</th>\n",
       "    </tr>\n",
       "  </thead>\n",
       "  <tbody>\n",
       "    <tr>\n",
       "      <th>1</th>\n",
       "      <td>23</td>\n",
       "      <td>31</td>\n",
       "      <td>31</td>\n",
       "    </tr>\n",
       "    <tr>\n",
       "      <th>2</th>\n",
       "      <td>22</td>\n",
       "      <td>19</td>\n",
       "      <td>30</td>\n",
       "    </tr>\n",
       "    <tr>\n",
       "      <th>3</th>\n",
       "      <td>33</td>\n",
       "      <td>23</td>\n",
       "      <td>22</td>\n",
       "    </tr>\n",
       "    <tr>\n",
       "      <th>4</th>\n",
       "      <td>22</td>\n",
       "      <td>27</td>\n",
       "      <td>17</td>\n",
       "    </tr>\n",
       "  </tbody>\n",
       "</table>\n",
       "</div>"
      ],
      "text/plain": [
       "    x   y   z\n",
       "1  23  31  31\n",
       "2  22  19  30\n",
       "3  33  23  22\n",
       "4  22  27  17"
      ]
     },
     "execution_count": 27,
     "metadata": {},
     "output_type": "execute_result"
    }
   ],
   "source": [
    "tabulate_ordinal_predictors(ord_df, ['x', 'y', 'z'])"
   ]
  },
  {
   "cell_type": "code",
   "execution_count": 29,
   "metadata": {},
   "outputs": [
    {
     "data": {
      "text/plain": [
       "<matplotlib.axes._subplots.AxesSubplot at 0x2099a395ba8>"
      ]
     },
     "execution_count": 29,
     "metadata": {},
     "output_type": "execute_result"
    },
    {
     "data": {
      "image/png": "[encoded data removed]",
      "text/plain": [
       "<Figure size 432x288 with 2 Axes>"
      ]
     },
     "metadata": {
      "needs_background": "light"
     },
     "output_type": "display_data"
    }
   ],
   "source": [
    "sns.heatmap(tabulate_ordinal_predictors(ord_df, ['x', 'y', 'z']))"
   ]
  },
  {
   "cell_type": "code",
   "execution_count": null,
   "metadata": {},
   "outputs": [],
   "source": []
  }
 ],
 "metadata": {
  "kernelspec": {
   "display_name": "Python 3",
   "language": "python",
   "name": "python3"
  },
  "language_info": {
   "codemirror_mode": {
    "name": "ipython",
    "version": 3
   },
   "file_extension": ".py",
   "mimetype": "text/x-python",
   "name": "python",
   "nbconvert_exporter": "python",
   "pygments_lexer": "ipython3",
   "version": "3.6.7"
  }
 },
 "nbformat": 4,
 "nbformat_minor": 2
}
