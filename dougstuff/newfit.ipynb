{
 "cells": [
  {
   "cell_type": "code",
   "execution_count": 2,
   "metadata": {},
   "outputs": [],
   "source": [
    "from sklearn.base import BaseEstimator, TransformerMixin\n",
    "from sklearn.pipeline import Pipeline, FeatureUnion\n",
    "from sklearn.preprocessing import PowerTransformer, LabelBinarizer\n",
    "from sklearn.model_selection import train_test_split\n",
    "from sklearn.preprocessing import OneHotEncoder, CategoricalEncoder\n",
    "\n",
    "import pandas as pd\n",
    "import numpy as np"
   ]
  },
  {
   "cell_type": "code",
   "execution_count": 3,
   "metadata": {},
   "outputs": [],
   "source": [
    "# Read in the tsv file\n",
    "df1 = pd.read_csv('06693-0001-Data.tsv', delim_whitespace=True)\n",
    "df2 = pd.read_csv('06693-0002-Data.tsv', delimiter='\\t', na_filter=False, na_values='.')"
   ]
  },
  {
   "cell_type": "code",
   "execution_count": 6,
   "metadata": {},
   "outputs": [],
   "source": [
    "DS2_suicide_factors = ['EDCAT', 'RACE', 'EMP', 'DEPREC', 'ALCALT1', 'DRGALT1']\n",
    "DS1_suicide_factors = ['V12', 'V13', 'V4515', 'V5114', 'V5118', 'V5113', \n",
    "                      'V5115', 'V5112', 'V4428', 'V4433', 'V6305', 'V6301', \n",
    "                      'V5225', 'V6649', 'V6749', 'V5918', 'V6143', 'V6126', \n",
    "                      'V6114', 'V101', 'V102', 'V6215']"
   ]
  },
  {
   "cell_type": "code",
   "execution_count": 7,
   "metadata": {},
   "outputs": [
    {
     "name": "stdout",
     "output_type": "stream",
     "text": [
      "(8098, 2954) (8098, 224)\n"
     ]
    }
   ],
   "source": [
    "# df.shape\n",
    "print(df1.shape, df2.shape)"
   ]
  },
  {
   "cell_type": "code",
   "execution_count": 8,
   "metadata": {},
   "outputs": [
    {
     "name": "stdout",
     "output_type": "stream",
     "text": [
      "2    2679\n",
      "3    2132\n",
      "4    1813\n",
      "1    1474\n",
      "Name: EDCAT, dtype: int64\n",
      "1    6084\n",
      "2    1011\n",
      "3     733\n",
      "4     270\n",
      "Name: RACE, dtype: int64\n",
      "2    5979\n",
      "1     840\n",
      "3     719\n",
      "4     560\n",
      "Name: EMP, dtype: int64\n",
      "     6642\n",
      "4     620\n",
      "1     360\n",
      "2     316\n",
      "3     160\n",
      "Name: DEPREC, dtype: int64\n",
      "0    6177\n",
      "1    1921\n",
      "Name: ALCALT1, dtype: int64\n",
      "0    7154\n",
      "1     944\n",
      "Name: DRGALT1, dtype: int64\n"
     ]
    }
   ],
   "source": [
    "for var in DS2_suicide_factors:\n",
    "    print(df2[var].value_counts())"
   ]
  },
  {
   "cell_type": "code",
   "execution_count": 18,
   "metadata": {},
   "outputs": [
    {
     "data": {
      "text/plain": [
       "V4515\n",
       "0    3244\n",
       "1    1921\n",
       "2     192\n",
       "3     576\n",
       "4      33\n",
       "9    2132\n",
       "Name: V4515, dtype: int64"
      ]
     },
     "execution_count": 18,
     "metadata": {},
     "output_type": "execute_result"
    }
   ],
   "source": [
    "df1.groupby('V4515')['V4515'].agg('count')"
   ]
  },
  {
   "cell_type": "code",
   "execution_count": 19,
   "metadata": {},
   "outputs": [
    {
     "name": "stdout",
     "output_type": "stream",
     "text": [
      "V12\n",
      "15    152\n",
      "16    167\n",
      "17    160\n",
      "18    159\n",
      "19    168\n",
      "20    197\n",
      "21    180\n",
      "22    179\n",
      "23    197\n",
      "24    209\n",
      "25    219\n",
      "26    230\n",
      "27    266\n",
      "28    245\n",
      "29    240\n",
      "30    298\n",
      "31    284\n",
      "32    282\n",
      "33    297\n",
      "34    265\n",
      "35    258\n",
      "36    250\n",
      "37    249\n",
      "38    226\n",
      "39    226\n",
      "40    239\n",
      "41    212\n",
      "42    200\n",
      "43    185\n",
      "44    197\n",
      "45    148\n",
      "46    167\n",
      "47    160\n",
      "48    149\n",
      "49    141\n",
      "50    151\n",
      "51    110\n",
      "52    146\n",
      "53    145\n",
      "54    136\n",
      "55      4\n",
      "58      1\n",
      "59      2\n",
      "61      1\n",
      "99      1\n",
      "Name: V12, dtype: int64\n",
      "V13\n",
      "1    3835\n",
      "2    4263\n",
      "Name: V13, dtype: int64\n",
      "V4515\n",
      "0    3244\n",
      "1    1921\n",
      "2     192\n",
      "3     576\n",
      "4      33\n",
      "9    2132\n",
      "Name: V4515, dtype: int64\n",
      "V5114\n",
      "0      67\n",
      "1     391\n",
      "2    1548\n",
      "3    2579\n",
      "4    1340\n",
      "8       2\n",
      "9    2171\n",
      "Name: V5114, dtype: int64\n",
      "V5118\n",
      "0      67\n",
      "1     131\n",
      "2     629\n",
      "3    2217\n",
      "4    2871\n",
      "8       3\n",
      "9    2180\n",
      "Name: V5118, dtype: int64\n",
      "V5113\n",
      "0      67\n",
      "1     404\n",
      "2    1342\n",
      "3    2828\n",
      "4    1294\n",
      "9    2163\n",
      "Name: V5113, dtype: int64\n",
      "V5115\n",
      "0      67\n",
      "1     249\n",
      "2    1287\n",
      "3    3056\n",
      "4    1273\n",
      "8       1\n",
      "9    2165\n",
      "Name: V5115, dtype: int64\n",
      "V5112\n",
      "0      67\n",
      "1     486\n",
      "2    1717\n",
      "3    2624\n",
      "4    1047\n",
      "8       2\n",
      "9    2155\n",
      "Name: V5112, dtype: int64\n",
      "V4428\n",
      "0      53\n",
      "1     936\n",
      "2    1397\n",
      "3    2170\n",
      "4    1353\n",
      "8       1\n",
      "9    2188\n",
      "Name: V4428, dtype: int64\n",
      "V4433\n",
      "0      53\n",
      "1     561\n",
      "2     895\n",
      "3    1621\n",
      "4    2725\n",
      "8       1\n",
      "9    2242\n",
      "Name: V4433, dtype: int64\n",
      "V6305\n",
      "0      80\n",
      "1     313\n",
      "5    5541\n",
      "9    2164\n",
      "Name: V6305, dtype: int64\n",
      "V6301\n",
      "0      80\n",
      "1    1008\n",
      "5    4865\n",
      "9    2145\n",
      "Name: V6301, dtype: int64\n",
      "V5225\n",
      "0    4095\n",
      "1     329\n",
      "2     412\n",
      "3     417\n",
      "4     670\n",
      "9    2175\n",
      "Name: V5225, dtype: int64\n",
      "V6649\n",
      "0     475\n",
      "1      90\n",
      "5    5050\n",
      "8     322\n",
      "9    2161\n",
      "Name: V6649, dtype: int64\n",
      "V6749\n",
      "0     193\n",
      "1     214\n",
      "5    5382\n",
      "8     149\n",
      "9    2160\n",
      "Name: V6749, dtype: int64\n",
      "V5918\n",
      "0      65\n",
      "1     222\n",
      "2     642\n",
      "3     993\n",
      "4    4018\n",
      "9    2158\n",
      "Name: V5918, dtype: int64\n",
      "V6143\n",
      "0      80\n",
      "1     348\n",
      "5    5459\n",
      "9    2211\n",
      "Name: V6143, dtype: int64\n",
      "V6126\n",
      "0      80\n",
      "1     544\n",
      "5    5325\n",
      "8       1\n",
      "9    2148\n",
      "Name: V6126, dtype: int64\n",
      "V6114\n",
      "0      80\n",
      "1     334\n",
      "5    5539\n",
      "8       1\n",
      "9    2144\n",
      "Name: V6114, dtype: int64\n",
      "V101\n",
      "1    1880\n",
      "2    3151\n",
      "3    2261\n",
      "4     659\n",
      "5     145\n",
      "9       2\n",
      "Name: V101, dtype: int64\n",
      "V102\n",
      "1    2529\n",
      "2    3120\n",
      "3    1876\n",
      "4     501\n",
      "5      69\n",
      "9       3\n",
      "Name: V102, dtype: int64\n",
      "V6215\n",
      "0      80\n",
      "1    1575\n",
      "2    2113\n",
      "3    2188\n",
      "9    2142\n",
      "Name: V6215, dtype: int64\n"
     ]
    }
   ],
   "source": [
    "for var in DS1_suicide_factors:\n",
    "    print(df1.groupby(var)[var].agg('count'))"
   ]
  },
  {
   "cell_type": "code",
   "execution_count": 23,
   "metadata": {},
   "outputs": [
    {
     "data": {
      "text/plain": [
       "[]"
      ]
     },
     "execution_count": 23,
     "metadata": {},
     "output_type": "execute_result"
    }
   ],
   "source": [
    "df1.query('V4428 == 99').index.tolist()"
   ]
  },
  {
   "cell_type": "code",
   "execution_count": null,
   "metadata": {},
   "outputs": [],
   "source": []
  },
  {
   "cell_type": "code",
   "execution_count": null,
   "metadata": {},
   "outputs": [],
   "source": []
  },
  {
   "cell_type": "code",
   "execution_count": null,
   "metadata": {},
   "outputs": [],
   "source": []
  },
  {
   "cell_type": "code",
   "execution_count": null,
   "metadata": {},
   "outputs": [],
   "source": [
    "df[var_dict['response']].value_counts()"
   ]
  },
  {
   "cell_type": "code",
   "execution_count": null,
   "metadata": {},
   "outputs": [],
   "source": [
    "for col in var_dict['cat_preds']:\n",
    "    print(col + \":\")\n",
    "    print(df[col].value_counts())"
   ]
  },
  {
   "cell_type": "code",
   "execution_count": null,
   "metadata": {},
   "outputs": [],
   "source": [
    "# Make a train-test split:\n",
    "train_set, test_set = train_test_split(df, random_state=1, stratify=df[var_dict['response']])\n"
   ]
  },
  {
   "cell_type": "code",
   "execution_count": null,
   "metadata": {},
   "outputs": [],
   "source": [
    "print(train_set.shape, test_set.shape)"
   ]
  },
  {
   "cell_type": "code",
   "execution_count": null,
   "metadata": {},
   "outputs": [],
   "source": [
    "# Define a method to select attributes from a DataFrame\n",
    "class DataFrameSelector(BaseEstimator, TransformerMixin):\n",
    "    def __init__(self, attribute_names):\n",
    "        self.attribute_names = attribute_names\n",
    "    def fit(self, X, y=None):\n",
    "        return self\n",
    "    def transform(self, X):\n",
    "        return X[self.attribute_names].values\n",
    "\n",
    "# We will need this later\n",
    "#num_pipeline = Pipeline([\n",
    "#    ('selector', DataFrameSelector(num_attribs)),\n",
    "#    ('power_transf', PowerTransformer(method='yeo-johnson', standardize=False)),\n",
    "#    ('minmax_scaler', MinMaxScaler()),\n",
    "#])\n",
    "\n",
    "cat_pipeline = Pipeline([\n",
    "    ('selector', DataFrameSelector(cat_attribs)),\n",
    "    ('encoder', OneHotEncoder(sparse=False, handle_unknown='ignore'))\n",
    "])\n",
    "\n",
    "full_pipeline = FeatureUnion(transformer_list=[\n",
    "    #(\"num_pipeline\", num_pipeline),\n",
    "    (\"cat_pipeline\", cat_pipeline),\n",
    "])\n",
    "\n",
    "\n"
   ]
  },
  {
   "cell_type": "code",
   "execution_count": null,
   "metadata": {},
   "outputs": [],
   "source": [
    "#num_attribs = var_dict['num_preds']\n",
    "cat_attribs = var_dict['cat_preds']\n",
    "\n",
    "\n",
    "y_train = train_set[var_dict['response']]\n",
    "\n",
    "# Prepare the training data with the pipeline above\n",
    "X_train_prepared = cat_pipeline.fit_transform(train_set)\n",
    "X_train_prepared"
   ]
  },
  {
   "cell_type": "code",
   "execution_count": null,
   "metadata": {},
   "outputs": [],
   "source": [
    "X_train_prepared.shape"
   ]
  },
  {
   "cell_type": "code",
   "execution_count": null,
   "metadata": {},
   "outputs": [],
   "source": [
    "X_test_prepared = cat_pipeline.transform(test_set)"
   ]
  },
  {
   "cell_type": "code",
   "execution_count": null,
   "metadata": {},
   "outputs": [],
   "source": [
    "X_test_prepared.shape"
   ]
  },
  {
   "cell_type": "code",
   "execution_count": null,
   "metadata": {},
   "outputs": [],
   "source": [
    "%whos"
   ]
  },
  {
   "cell_type": "code",
   "execution_count": null,
   "metadata": {},
   "outputs": [],
   "source": [
    "cat_pipeline.get_params"
   ]
  },
  {
   "cell_type": "code",
   "execution_count": null,
   "metadata": {},
   "outputs": [],
   "source": []
  },
  {
   "cell_type": "code",
   "execution_count": null,
   "metadata": {},
   "outputs": [],
   "source": [
    "from sklearn.tree import DecisionTreeClassifier\n",
    "\n",
    "tree_clf = DecisionTreeClassifier()\n",
    "tree_clf.fit(X_train_prepared, y_train)"
   ]
  },
  {
   "cell_type": "code",
   "execution_count": null,
   "metadata": {},
   "outputs": [],
   "source": [
    "tree_pred = tree_clf.predict(X_test_prepared)"
   ]
  },
  {
   "cell_type": "code",
   "execution_count": null,
   "metadata": {},
   "outputs": [],
   "source": [
    "from sklearn.metrics import classification_report\n",
    "y_train_pred = tree_clf.predict(X_train_prepared)\n",
    "print(classification_report(y_train, y_train_pred))"
   ]
  },
  {
   "cell_type": "code",
   "execution_count": null,
   "metadata": {},
   "outputs": [],
   "source": [
    "tree_clf.classes_"
   ]
  },
  {
   "cell_type": "code",
   "execution_count": null,
   "metadata": {},
   "outputs": [],
   "source": [
    "y_test = test_set['V1144']"
   ]
  },
  {
   "cell_type": "code",
   "execution_count": null,
   "metadata": {},
   "outputs": [],
   "source": [
    "y_test_pred = tree_clf.predict(X_test_prepared)"
   ]
  },
  {
   "cell_type": "code",
   "execution_count": null,
   "metadata": {},
   "outputs": [],
   "source": [
    "print(classification_report(y_test, y_test_pred))"
   ]
  },
  {
   "cell_type": "code",
   "execution_count": null,
   "metadata": {},
   "outputs": [],
   "source": []
  },
  {
   "cell_type": "code",
   "execution_count": null,
   "metadata": {},
   "outputs": [],
   "source": [
    "from sklearn.linear_model import LogisticRegression\n",
    "classifier = LogisticRegression(penalty='l1', solver='saga', max_iter=1000, multi_class='auto', n_jobs=-1,verbose=1)\n",
    "classifier"
   ]
  },
  {
   "cell_type": "code",
   "execution_count": null,
   "metadata": {},
   "outputs": [],
   "source": [
    "classifier.fit(X_train_prepared, y_train)"
   ]
  },
  {
   "cell_type": "code",
   "execution_count": null,
   "metadata": {},
   "outputs": [],
   "source": [
    "print(f\"Training Data Score: {classifier.score(X_train_prepared, y_train)}\")\n",
    "print(f\"Testing Data Score: {classifier.score(X_test_prepared, y_test)}\")"
   ]
  },
  {
   "cell_type": "code",
   "execution_count": null,
   "metadata": {},
   "outputs": [],
   "source": [
    "y_test_pred = classifier.predict(X_test_prepared)"
   ]
  },
  {
   "cell_type": "code",
   "execution_count": null,
   "metadata": {},
   "outputs": [],
   "source": [
    "print(classification_report(y_test, y_test_pred))"
   ]
  },
  {
   "cell_type": "code",
   "execution_count": null,
   "metadata": {},
   "outputs": [],
   "source": [
    "from sklearn.metrics import confusion_matrix"
   ]
  },
  {
   "cell_type": "code",
   "execution_count": null,
   "metadata": {},
   "outputs": [],
   "source": [
    "import seaborn as sns"
   ]
  },
  {
   "cell_type": "code",
   "execution_count": null,
   "metadata": {},
   "outputs": [],
   "source": [
    "conf_mx = confusion_matrix(y_test, y_test_pred)"
   ]
  },
  {
   "cell_type": "code",
   "execution_count": null,
   "metadata": {},
   "outputs": [],
   "source": [
    "classifier.classes_"
   ]
  },
  {
   "cell_type": "code",
   "execution_count": null,
   "metadata": {},
   "outputs": [],
   "source": [
    "conf_df= pd.DataFrame(conf_mx, index=classifier.classes_, columns=classifier.classes_)"
   ]
  },
  {
   "cell_type": "code",
   "execution_count": null,
   "metadata": {},
   "outputs": [],
   "source": [
    "import matplotlib.pyplot as plt\n",
    "sns.heatmap(conf_df, annot=True, cmap=\"Blues\")\n",
    "plt.title(\"Confusion Matrix\")\n",
    "plt.tight_layout()\n",
    "plt.ylabel(\"True Class\")\n",
    "plt.xlabel(\"Predicted Class\")\n",
    "plt.show()"
   ]
  },
  {
   "cell_type": "code",
   "execution_count": null,
   "metadata": {},
   "outputs": [],
   "source": [
    "from sklearn.dummy import DummyClassifier"
   ]
  },
  {
   "cell_type": "code",
   "execution_count": null,
   "metadata": {},
   "outputs": [],
   "source": [
    "dummy = DummyClassifier(strategy='most_frequent', random_state=1)"
   ]
  },
  {
   "cell_type": "code",
   "execution_count": null,
   "metadata": {},
   "outputs": [],
   "source": [
    "dummy.fit(X_train_prepared, y_train)"
   ]
  },
  {
   "cell_type": "code",
   "execution_count": null,
   "metadata": {},
   "outputs": [],
   "source": [
    "dummy.score(X_test_prepared, y_test)"
   ]
  },
  {
   "cell_type": "code",
   "execution_count": null,
   "metadata": {},
   "outputs": [],
   "source": [
    "dummy.classes_"
   ]
  },
  {
   "cell_type": "code",
   "execution_count": null,
   "metadata": {},
   "outputs": [],
   "source": [
    "DummyClassifier?"
   ]
  },
  {
   "cell_type": "code",
   "execution_count": null,
   "metadata": {},
   "outputs": [],
   "source": [
    "dummy2 = DummyClassifier(strategy='constant', random_state=1, constant=5)"
   ]
  },
  {
   "cell_type": "code",
   "execution_count": null,
   "metadata": {},
   "outputs": [],
   "source": [
    "dummy2.fit(X_train_prepared, y_train)"
   ]
  },
  {
   "cell_type": "code",
   "execution_count": null,
   "metadata": {},
   "outputs": [],
   "source": [
    "dummy.score(X_test_prepared, y_test)   # same as 'most_frequent'"
   ]
  },
  {
   "cell_type": "code",
   "execution_count": null,
   "metadata": {},
   "outputs": [],
   "source": [
    "LogisticRegression?"
   ]
  },
  {
   "cell_type": "code",
   "execution_count": null,
   "metadata": {},
   "outputs": [],
   "source": [
    "from sklearn.model_selection import cross_val_score"
   ]
  },
  {
   "cell_type": "code",
   "execution_count": null,
   "metadata": {},
   "outputs": [],
   "source": [
    "cross_val_score(classifier, X_train_prepared, y_train, cv=3, scoring='accuracy', n_jobs=-1, verbose=True)"
   ]
  },
  {
   "cell_type": "code",
   "execution_count": null,
   "metadata": {},
   "outputs": [],
   "source": [
    "from sklearn.base import BaseEstimator"
   ]
  },
  {
   "cell_type": "code",
   "execution_count": null,
   "metadata": {},
   "outputs": [],
   "source": [
    "import numpy as np"
   ]
  },
  {
   "cell_type": "code",
   "execution_count": null,
   "metadata": {},
   "outputs": [],
   "source": [
    "class Always0Classifier(BaseEstimator):\n",
    "    def fit(self, X, y=None):\n",
    "        pass\n",
    "    def predict(self, X):\n",
    "        return np.zeros((len(X), 1))\n",
    "    "
   ]
  },
  {
   "cell_type": "code",
   "execution_count": null,
   "metadata": {},
   "outputs": [],
   "source": [
    "always_0_classifer = Always0Classifier()"
   ]
  },
  {
   "cell_type": "code",
   "execution_count": null,
   "metadata": {},
   "outputs": [],
   "source": [
    "cross_val_score(always_0_classifer, X_train_prepared, y_train, cv=3, scoring='accuracy', n_jobs=-1)"
   ]
  },
  {
   "cell_type": "code",
   "execution_count": null,
   "metadata": {},
   "outputs": [],
   "source": [
    "y_train.value_counts()"
   ]
  },
  {
   "cell_type": "code",
   "execution_count": null,
   "metadata": {},
   "outputs": [],
   "source": [
    "y_test.value_counts()"
   ]
  },
  {
   "cell_type": "code",
   "execution_count": null,
   "metadata": {},
   "outputs": [],
   "source": [
    "2633/len(y_train)"
   ]
  },
  {
   "cell_type": "code",
   "execution_count": null,
   "metadata": {},
   "outputs": [],
   "source": [
    "284/len(y_train)"
   ]
  },
  {
   "cell_type": "code",
   "execution_count": null,
   "metadata": {},
   "outputs": [],
   "source": [
    "from sklearn.model_selection import cross_val_predict"
   ]
  },
  {
   "cell_type": "code",
   "execution_count": null,
   "metadata": {},
   "outputs": [],
   "source": [
    "y_cv_train_pred = cross_val_predict(classifier, X_train_prepared, y_train, cv=5, n_jobs=-1)"
   ]
  },
  {
   "cell_type": "code",
   "execution_count": null,
   "metadata": {},
   "outputs": [],
   "source": [
    "confusion_matrix(y_train, y_cv_train_pred)"
   ]
  },
  {
   "cell_type": "code",
   "execution_count": null,
   "metadata": {},
   "outputs": [],
   "source": [
    "from sklearn.metrics import precision_score, recall_score"
   ]
  },
  {
   "cell_type": "code",
   "execution_count": null,
   "metadata": {},
   "outputs": [],
   "source": [
    "precision_score(y_train, y_cv_train_pred, average='weighted')"
   ]
  },
  {
   "cell_type": "code",
   "execution_count": null,
   "metadata": {},
   "outputs": [],
   "source": [
    "recall_score(y_train, y_cv_train_pred, average='weighted')"
   ]
  },
  {
   "cell_type": "code",
   "execution_count": null,
   "metadata": {},
   "outputs": [],
   "source": [
    "from sklearn.model_selection import GridSearchCV"
   ]
  },
  {
   "cell_type": "code",
   "execution_count": null,
   "metadata": {},
   "outputs": [],
   "source": [
    "param_grid = {'C': [0.01, 0.1, 1, 5, 10, 50]}"
   ]
  },
  {
   "cell_type": "code",
   "execution_count": null,
   "metadata": {},
   "outputs": [],
   "source": [
    "grid = GridSearchCV(classifier, param_grid, verbose=3, n_jobs=-1)"
   ]
  },
  {
   "cell_type": "code",
   "execution_count": null,
   "metadata": {},
   "outputs": [],
   "source": [
    "grid.fit(X_train_prepared, y_train)"
   ]
  },
  {
   "cell_type": "code",
   "execution_count": null,
   "metadata": {},
   "outputs": [],
   "source": [
    "print(grid.best_score_)"
   ]
  },
  {
   "cell_type": "code",
   "execution_count": null,
   "metadata": {},
   "outputs": [],
   "source": [
    "print(grid.best_params_)"
   ]
  },
  {
   "cell_type": "code",
   "execution_count": null,
   "metadata": {},
   "outputs": [],
   "source": [
    "param_grid = {'C': [0.01, 0.05, 0.1, 0.2, 0.3, 0.5, 0.8]}"
   ]
  },
  {
   "cell_type": "code",
   "execution_count": null,
   "metadata": {},
   "outputs": [],
   "source": [
    "grid = GridSearchCV(classifier, param_grid, verbose=3, n_jobs=-1)"
   ]
  },
  {
   "cell_type": "code",
   "execution_count": null,
   "metadata": {},
   "outputs": [],
   "source": [
    "grid.fit(X_train_prepared, y_train)"
   ]
  },
  {
   "cell_type": "code",
   "execution_count": null,
   "metadata": {},
   "outputs": [],
   "source": [
    "grid.best_params_"
   ]
  },
  {
   "cell_type": "code",
   "execution_count": null,
   "metadata": {},
   "outputs": [],
   "source": [
    "grid.best_score_"
   ]
  },
  {
   "cell_type": "code",
   "execution_count": null,
   "metadata": {},
   "outputs": [],
   "source": []
  }
 ],
 "metadata": {
  "kernelspec": {
   "display_name": "Python 3",
   "language": "python",
   "name": "python3"
  },
  "language_info": {
   "codemirror_mode": {
    "name": "ipython",
    "version": 3
   },
   "file_extension": ".py",
   "mimetype": "text/x-python",
   "name": "python",
   "nbconvert_exporter": "python",
   "pygments_lexer": "ipython3",
   "version": "3.6.7"
  }
 },
 "nbformat": 4,
 "nbformat_minor": 2
}
